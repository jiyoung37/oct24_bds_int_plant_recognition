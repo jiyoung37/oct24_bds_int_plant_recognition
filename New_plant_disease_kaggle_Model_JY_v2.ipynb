{
  "cells": [
    {
      "cell_type": "markdown",
      "metadata": {
        "id": "view-in-github",
        "colab_type": "text"
      },
      "source": [
        "<a href=\"https://colab.research.google.com/github/jiyoung37/oct24_bds_int_plant_recognition/blob/main/New_plant_disease_kaggle_Model_JY_v2.ipynb\" target=\"_parent\"><img src=\"https://colab.research.google.com/assets/colab-badge.svg\" alt=\"Open In Colab\"/></a>"
      ]
    },
    {
      "cell_type": "markdown",
      "metadata": {
        "id": "t7Fbch5o48l2"
      },
      "source": [
        "# 1. Import"
      ]
    },
    {
      "cell_type": "markdown",
      "metadata": {
        "id": "CW6E9YD9Dx-r"
      },
      "source": [
        "**1.1 Import kagglehub and download dataset**"
      ]
    },
    {
      "cell_type": "code",
      "execution_count": null,
      "metadata": {
        "colab": {
          "base_uri": "https://localhost:8080/"
        },
        "id": "Mz9dCPIXmqMV",
        "outputId": "cecc184a-10db-4325-bf33-1242fc1ca940"
      },
      "outputs": [
        {
          "output_type": "stream",
          "name": "stdout",
          "text": [
            "Requirement already satisfied: kagglehub in /usr/local/lib/python3.10/dist-packages (0.3.4)\n",
            "Requirement already satisfied: packaging in /usr/local/lib/python3.10/dist-packages (from kagglehub) (24.2)\n",
            "Requirement already satisfied: requests in /usr/local/lib/python3.10/dist-packages (from kagglehub) (2.32.3)\n",
            "Requirement already satisfied: tqdm in /usr/local/lib/python3.10/dist-packages (from kagglehub) (4.66.6)\n",
            "Requirement already satisfied: charset-normalizer<4,>=2 in /usr/local/lib/python3.10/dist-packages (from requests->kagglehub) (3.4.0)\n",
            "Requirement already satisfied: idna<4,>=2.5 in /usr/local/lib/python3.10/dist-packages (from requests->kagglehub) (3.10)\n",
            "Requirement already satisfied: urllib3<3,>=1.21.1 in /usr/local/lib/python3.10/dist-packages (from requests->kagglehub) (2.2.3)\n",
            "Requirement already satisfied: certifi>=2017.4.17 in /usr/local/lib/python3.10/dist-packages (from requests->kagglehub) (2024.8.30)\n",
            "Downloading from https://www.kaggle.com/api/v1/datasets/download/vipoooool/new-plant-diseases-dataset?dataset_version_number=2...\n"
          ]
        },
        {
          "output_type": "stream",
          "name": "stderr",
          "text": [
            "100%|██████████| 2.70G/2.70G [02:02<00:00, 23.7MB/s]"
          ]
        },
        {
          "output_type": "stream",
          "name": "stdout",
          "text": [
            "Extracting files...\n"
          ]
        },
        {
          "output_type": "stream",
          "name": "stderr",
          "text": [
            "\n"
          ]
        },
        {
          "output_type": "stream",
          "name": "stdout",
          "text": [
            "Path to dataset files: /root/.cache/kagglehub/datasets/vipoooool/new-plant-diseases-dataset/versions/2\n"
          ]
        }
      ],
      "source": [
        "!pip install kagglehub\n",
        "import kagglehub\n",
        "\n",
        "# Download the latest version of the dataset\n",
        "path = kagglehub.dataset_download(\"vipoooool/new-plant-diseases-dataset\")\n",
        "\n",
        "print(\"Path to dataset files:\", path)"
      ]
    },
    {
      "cell_type": "markdown",
      "metadata": {
        "id": "D99xpVknLUFz"
      },
      "source": [
        "**1.2 Define the paths**"
      ]
    },
    {
      "cell_type": "code",
      "execution_count": null,
      "metadata": {
        "colab": {
          "base_uri": "https://localhost:8080/"
        },
        "collapsed": true,
        "id": "_zmkUdfcpmIz",
        "outputId": "5465f56b-2cbe-4e40-b2fc-39cd6332d3ba"
      },
      "outputs": [
        {
          "output_type": "stream",
          "name": "stdout",
          "text": [
            "Number of folders in train_path: 38\n",
            "Number of folders in valid_path: 38\n",
            "Number of files in test_path: 33\n",
            "-------------------------------------------------------------------\n",
            "Files in each folder (train_path):\n",
            "Soybean___healthy: 2022 files\n",
            "Potato___healthy: 1824 files\n",
            "Cherry_(including_sour)___Powdery_mildew: 1683 files\n",
            "Grape___Black_rot: 1888 files\n",
            "Grape___Leaf_blight_(Isariopsis_Leaf_Spot): 1722 files\n",
            "Corn_(maize)___Cercospora_leaf_spot Gray_leaf_spot: 1642 files\n",
            "Blueberry___healthy: 1816 files\n",
            "Grape___healthy: 1692 files\n",
            "Cherry_(including_sour)___healthy: 1826 files\n",
            "Grape___Esca_(Black_Measles): 1920 files\n",
            "Corn_(maize)___Common_rust_: 1907 files\n",
            "Strawberry___Leaf_scorch: 1774 files\n",
            "Raspberry___healthy: 1781 files\n",
            "Tomato___Leaf_Mold: 1882 files\n",
            "Tomato___Tomato_Yellow_Leaf_Curl_Virus: 1961 files\n",
            "Tomato___Bacterial_spot: 1702 files\n",
            "Apple___healthy: 2008 files\n",
            "Corn_(maize)___healthy: 1859 files\n",
            "Tomato___Early_blight: 1920 files\n",
            "Corn_(maize)___Northern_Leaf_Blight: 1908 files\n",
            "Tomato___Late_blight: 1851 files\n",
            "Peach___Bacterial_spot: 1838 files\n",
            "Tomato___Septoria_leaf_spot: 1745 files\n",
            "Potato___Late_blight: 1939 files\n",
            "Orange___Haunglongbing_(Citrus_greening): 2010 files\n",
            "Apple___Cedar_apple_rust: 1760 files\n",
            "Peach___healthy: 1728 files\n",
            "Tomato___healthy: 1926 files\n",
            "Tomato___Target_Spot: 1827 files\n",
            "Pepper,_bell___Bacterial_spot: 1913 files\n",
            "Tomato___Tomato_mosaic_virus: 1790 files\n",
            "Apple___Black_rot: 1987 files\n",
            "Tomato___Spider_mites Two-spotted_spider_mite: 1741 files\n",
            "Squash___Powdery_mildew: 1736 files\n",
            "Potato___Early_blight: 1939 files\n",
            "Pepper,_bell___healthy: 1988 files\n",
            "Strawberry___healthy: 1824 files\n",
            "Apple___Apple_scab: 2016 files\n",
            "\n",
            "Files in each folder (valid_path):\n",
            "Soybean___healthy: 505 files\n",
            "Potato___healthy: 456 files\n",
            "Cherry_(including_sour)___Powdery_mildew: 421 files\n",
            "Grape___Black_rot: 472 files\n",
            "Grape___Leaf_blight_(Isariopsis_Leaf_Spot): 430 files\n",
            "Corn_(maize)___Cercospora_leaf_spot Gray_leaf_spot: 410 files\n",
            "Blueberry___healthy: 454 files\n",
            "Grape___healthy: 423 files\n",
            "Cherry_(including_sour)___healthy: 456 files\n",
            "Grape___Esca_(Black_Measles): 480 files\n",
            "Corn_(maize)___Common_rust_: 477 files\n",
            "Strawberry___Leaf_scorch: 444 files\n",
            "Raspberry___healthy: 445 files\n",
            "Tomato___Leaf_Mold: 470 files\n",
            "Tomato___Tomato_Yellow_Leaf_Curl_Virus: 490 files\n",
            "Tomato___Bacterial_spot: 425 files\n",
            "Apple___healthy: 502 files\n",
            "Corn_(maize)___healthy: 465 files\n",
            "Tomato___Early_blight: 480 files\n",
            "Corn_(maize)___Northern_Leaf_Blight: 477 files\n",
            "Tomato___Late_blight: 463 files\n",
            "Peach___Bacterial_spot: 459 files\n",
            "Tomato___Septoria_leaf_spot: 436 files\n",
            "Potato___Late_blight: 485 files\n",
            "Orange___Haunglongbing_(Citrus_greening): 503 files\n",
            "Apple___Cedar_apple_rust: 440 files\n",
            "Peach___healthy: 432 files\n",
            "Tomato___healthy: 481 files\n",
            "Tomato___Target_Spot: 457 files\n",
            "Pepper,_bell___Bacterial_spot: 478 files\n",
            "Tomato___Tomato_mosaic_virus: 448 files\n",
            "Apple___Black_rot: 497 files\n",
            "Tomato___Spider_mites Two-spotted_spider_mite: 435 files\n",
            "Squash___Powdery_mildew: 434 files\n",
            "Potato___Early_blight: 485 files\n",
            "Pepper,_bell___healthy: 497 files\n",
            "Strawberry___healthy: 456 files\n",
            "Apple___Apple_scab: 504 files\n"
          ]
        }
      ],
      "source": [
        "import os\n",
        "\n",
        "# Define the dataset path\n",
        "root_folder = \"/root/.cache/kagglehub/datasets/vipoooool/new-plant-diseases-dataset/versions/2\"\n",
        "\n",
        "data_dir = os.path.join(root_folder, 'new plant diseases dataset(augmented)/New Plant Diseases Dataset(Augmented)/')\n",
        "\n",
        "test_path = os.path.join(root_folder, 'test/test')\n",
        "train_path = os.path.join(data_dir, 'train')\n",
        "valid_path = os.path.join(data_dir, 'valid')\n",
        "\n",
        "# Count the number of folders in a directory\n",
        "def count_folders(path):\n",
        "    if os.path.exists(path):\n",
        "        return len([d for d in os.listdir(path) if os.path.isdir(os.path.join(path, d))])\n",
        "    else:\n",
        "        print(f\"Path does not exist: {path}\")\n",
        "        return 0\n",
        "\n",
        "# Count the number of files in a directory\n",
        "def count_files(path):\n",
        "    if os.path.exists(path):\n",
        "        return len([f for f in os.listdir(path) if os.path.isfile(os.path.join(path, f))])\n",
        "    else:\n",
        "        print(f\"Path does not exist: {path}\")\n",
        "        return 0\n",
        "\n",
        "# Function to count files in each folder of a given directory\n",
        "def count_files_in_folders(path):\n",
        "    if not os.path.exists(path):\n",
        "        print(f\"Path does not exist: {path}\")\n",
        "        return {}\n",
        "\n",
        "    folder_file_counts = {}\n",
        "    for folder in os.listdir(path):\n",
        "        folder_path = os.path.join(path, folder)\n",
        "        if os.path.isdir(folder_path):\n",
        "            file_count = len([f for f in os.listdir(folder_path) if os.path.isfile(os.path.join(folder_path, f))])\n",
        "            folder_file_counts[folder] = file_count\n",
        "\n",
        "    return folder_file_counts\n",
        "\n",
        "# Print counts\n",
        "print(f\"Number of folders in train_path: {count_folders(train_path)}\")\n",
        "print(f\"Number of folders in valid_path: {count_folders(valid_path)}\")\n",
        "print(f\"Number of files in test_path: {count_files(test_path)}\")\n",
        "print('-------------------------------------------------------------------')\n",
        "# Count files in each folder\n",
        "train_folder_counts = count_files_in_folders(train_path)\n",
        "valid_folder_counts = count_files_in_folders(valid_path)\n",
        "# Display results\n",
        "print(\"Files in each folder (train_path):\")\n",
        "for folder, count in train_folder_counts.items():\n",
        "    print(f\"{folder}: {count} files\")\n",
        "\n",
        "print(\"\\nFiles in each folder (valid_path):\")\n",
        "for folder, count in valid_folder_counts.items():\n",
        "    print(f\"{folder}: {count} files\")"
      ]
    },
    {
      "cell_type": "markdown",
      "metadata": {
        "id": "gyIBlbTjt7Nt"
      },
      "source": [
        "# 2. Importing necessary libraries for Modeling"
      ]
    },
    {
      "cell_type": "code",
      "execution_count": null,
      "metadata": {
        "colab": {
          "base_uri": "https://localhost:8080/"
        },
        "id": "YaXdwdDLuDPm",
        "outputId": "6de7f224-dcd8-44c8-8a2d-0f6a6b16ec6b"
      },
      "outputs": [
        {
          "output_type": "stream",
          "name": "stdout",
          "text": [
            "OK! GPU is available and ready for use!\n",
            "11.0.0\n",
            "1.13.1\n"
          ]
        }
      ],
      "source": [
        "import pandas as pd\n",
        "import numpy as np\n",
        "import matplotlib.pyplot as plt\n",
        "import seaborn as sns\n",
        "import os\n",
        "import shutil\n",
        "from sklearn.model_selection import train_test_split\n",
        "from sklearn.preprocessing import LabelEncoder\n",
        "\n",
        "from tensorflow.keras import Input\n",
        "from tensorflow.keras.models import Sequential\n",
        "from tensorflow.keras.layers import Conv2D, MaxPooling2D, Flatten, Dense, BatchNormalization, Dropout\n",
        "from tensorflow.keras.optimizers import Adam\n",
        "from tensorflow.keras.preprocessing.image import ImageDataGenerator\n",
        "from tensorflow.keras.callbacks import EarlyStopping, ModelCheckpoint\n",
        "import matplotlib.pyplot as plt\n",
        "import os\n",
        "\n",
        "import tensorflow as tf\n",
        "# Check GPU availability\n",
        "if tf.config.list_physical_devices('GPU'):\n",
        "    print(\"OK! GPU is available and ready for use!\")\n",
        "else:\n",
        "    print(\"NO! GPU not found. Falling back to CPU.\")\n",
        "\n",
        "import PIL\n",
        "import scipy\n",
        "\n",
        "print(PIL.__version__)\n",
        "print(scipy.__version__)"
      ]
    },
    {
      "cell_type": "markdown",
      "metadata": {
        "id": "C6hHbfQUuLA6"
      },
      "source": []
    },
    {
      "cell_type": "markdown",
      "metadata": {
        "id": "VfcHoNTswYaA"
      },
      "source": [
        "# 3. Train dataset reduction (by Ji)"
      ]
    },
    {
      "cell_type": "code",
      "execution_count": null,
      "metadata": {
        "colab": {
          "base_uri": "https://localhost:8080/"
        },
        "id": "JMkk6KFv2Iep",
        "outputId": "23a0c047-23e8-45a6-ae40-ed2ce5571411"
      },
      "outputs": [
        {
          "output_type": "stream",
          "name": "stdout",
          "text": [
            "Number of folders in train_path: 38\n",
            "Total number of images in train_path: 70295\n",
            "\n",
            "\n",
            "Number of folders in reduced_train_path: 38\n",
            "Total number of images in reduced_train_path: 19988\n",
            "\n",
            "\n",
            "Files in each folder (reduced_train_path):\n",
            "Soybean___healthy: 526 files\n",
            "Potato___healthy: 526 files\n",
            "Cherry_(including_sour)___Powdery_mildew: 526 files\n",
            "Grape___Black_rot: 526 files\n",
            "Grape___Leaf_blight_(Isariopsis_Leaf_Spot): 526 files\n",
            "Corn_(maize)___Cercospora_leaf_spot Gray_leaf_spot: 526 files\n",
            "Blueberry___healthy: 526 files\n",
            "Grape___healthy: 526 files\n",
            "Cherry_(including_sour)___healthy: 526 files\n",
            "Grape___Esca_(Black_Measles): 526 files\n",
            "Corn_(maize)___Common_rust_: 526 files\n",
            "Strawberry___Leaf_scorch: 526 files\n",
            "Raspberry___healthy: 526 files\n",
            "Tomato___Leaf_Mold: 526 files\n",
            "Tomato___Tomato_Yellow_Leaf_Curl_Virus: 526 files\n",
            "Tomato___Bacterial_spot: 526 files\n",
            "Apple___healthy: 526 files\n",
            "Corn_(maize)___healthy: 526 files\n",
            "Tomato___Early_blight: 526 files\n",
            "Corn_(maize)___Northern_Leaf_Blight: 526 files\n",
            "Tomato___Late_blight: 526 files\n",
            "Peach___Bacterial_spot: 526 files\n",
            "Tomato___Septoria_leaf_spot: 526 files\n",
            "Potato___Late_blight: 526 files\n",
            "Orange___Haunglongbing_(Citrus_greening): 526 files\n",
            "Apple___Cedar_apple_rust: 526 files\n",
            "Peach___healthy: 526 files\n",
            "Tomato___healthy: 526 files\n",
            "Tomato___Target_Spot: 526 files\n",
            "Pepper,_bell___Bacterial_spot: 526 files\n",
            "Tomato___Tomato_mosaic_virus: 526 files\n",
            "Apple___Black_rot: 526 files\n",
            "Tomato___Spider_mites Two-spotted_spider_mite: 526 files\n",
            "Squash___Powdery_mildew: 526 files\n",
            "Potato___Early_blight: 526 files\n",
            "Pepper,_bell___healthy: 526 files\n",
            "Strawberry___healthy: 526 files\n",
            "Apple___Apple_scab: 526 files\n"
          ]
        }
      ],
      "source": [
        "import os\n",
        "import random\n",
        "import shutil\n",
        "\n",
        "# Paths\n",
        "root_folder = \"/root/.cache/kagglehub/datasets/vipoooool/new-plant-diseases-dataset/versions/2\"\n",
        "data_dir = os.path.join(root_folder, 'new plant diseases dataset(augmented)/New Plant Diseases Dataset(Augmented)/')\n",
        "\n",
        "test_path = os.path.join(root_folder, 'test/test')\n",
        "train_path = os.path.join(data_dir, 'train')\n",
        "valid_path = os.path.join(data_dir, 'valid')\n",
        "\n",
        "train_subset_path = os.path.join(data_dir, 'train_subset')\n",
        "\n",
        "# Define the total number of images you want in the reduced training subset\n",
        "total_train_images = 20000\n",
        "\n",
        "# Function to clear directory contents\n",
        "def clear_directory(path):\n",
        "    if os.path.exists(path):\n",
        "        shutil.rmtree(path)  # Remove the directory and its contents\n",
        "    os.makedirs(path, exist_ok=True)  # Recreate the empty directory\n",
        "\n",
        "# Function to create reduced training subset with folder name alignment\n",
        "def reduce_train_dataset(src_dir, dest_dir, total_images):\n",
        "    clear_directory(dest_dir)  # Clear destination folder before copying\n",
        "    classes = os.listdir(src_dir)\n",
        "\n",
        "    # Calculate images per class based on the total required\n",
        "    images_per_class = total_images // len(classes)\n",
        "\n",
        "    for cls in classes:\n",
        "        cls_src_dir = os.path.join(src_dir, cls)\n",
        "        cls_dest_dir = os.path.join(dest_dir, cls)\n",
        "        os.makedirs(cls_dest_dir, exist_ok=True)\n",
        "\n",
        "        # Get all images in the class folder\n",
        "        images = os.listdir(cls_src_dir)\n",
        "        random.shuffle(images)\n",
        "\n",
        "        # Select a subset of images\n",
        "        selected_images = images[:images_per_class]\n",
        "\n",
        "        for img in selected_images:\n",
        "            src_path = os.path.join(cls_src_dir, img)\n",
        "            dest_path = os.path.join(cls_dest_dir, img)\n",
        "            shutil.copy(src_path, dest_path)\n",
        "\n",
        "# Create reduced training subset and ensure folder names match\n",
        "reduce_train_dataset(train_path, train_subset_path, total_train_images)\n",
        "\n",
        "# Count files in each folder\n",
        "reduced_train_folder_counts = count_files_in_folders(train_subset_path)\n",
        "train_folder_counts = count_files_in_folders(train_path)\n",
        "# Calculate the total number of images\n",
        "total_images_in_train_subset = sum(reduced_train_folder_counts.values())\n",
        "total_images_in_train = sum(train_folder_counts.values())\n",
        "# Display results\n",
        "print(f\"Number of folders in train_path: {count_folders(train_path)}\")\n",
        "print(f\"Total number of images in train_path: {total_images_in_train}\")\n",
        "print('\\n')\n",
        "print(f\"Number of folders in reduced_train_path: {count_folders(train_subset_path)}\")\n",
        "print(f\"Total number of images in reduced_train_path: {total_images_in_train_subset}\")\n",
        "print('\\n')\n",
        "print(\"Files in each folder (reduced_train_path):\")\n",
        "for folder, count in reduced_train_folder_counts.items():\n",
        "    print(f\"{folder}: {count} files\")"
      ]
    },
    {
      "cell_type": "markdown",
      "metadata": {
        "id": "hWanNpu76Gx-"
      },
      "source": [
        "# Model 1: CNN with 2x Conv2D"
      ]
    },
    {
      "cell_type": "code",
      "execution_count": null,
      "metadata": {
        "colab": {
          "base_uri": "https://localhost:8080/",
          "height": 763
        },
        "id": "aD8lPKLG6L2l",
        "outputId": "d4f8ea5a-5fc2-4459-8144-44546a94c768",
        "collapsed": true
      },
      "outputs": [
        {
          "output_type": "stream",
          "name": "stdout",
          "text": [
            "Found 70295 images belonging to 38 classes.\n",
            "Found 17572 images belonging to 38 classes.\n",
            "Epoch 1/20\n",
            "\u001b[1m2196/2196\u001b[0m \u001b[32m━━━━━━━━━━━━━━━━━━━━\u001b[0m\u001b[37m\u001b[0m \u001b[1m698s\u001b[0m 315ms/step - accuracy: 0.2185 - loss: 2.9908 - val_accuracy: 0.5692 - val_loss: 1.7344\n",
            "Epoch 2/20\n",
            "\u001b[1m2196/2196\u001b[0m \u001b[32m━━━━━━━━━━━━━━━━━━━━\u001b[0m\u001b[37m\u001b[0m \u001b[1m1s\u001b[0m 203us/step - accuracy: 0.3750 - loss: 2.0462 - val_accuracy: 0.5000 - val_loss: 4.7209\n",
            "Epoch 3/20\n",
            "\u001b[1m2196/2196\u001b[0m \u001b[32m━━━━━━━━━━━━━━━━━━━━\u001b[0m\u001b[37m\u001b[0m \u001b[1m699s\u001b[0m 317ms/step - accuracy: 0.4204 - loss: 2.1399 - val_accuracy: 0.6490 - val_loss: 1.4318\n",
            "Epoch 4/20\n",
            "\u001b[1m2196/2196\u001b[0m \u001b[32m━━━━━━━━━━━━━━━━━━━━\u001b[0m\u001b[37m\u001b[0m \u001b[1m0s\u001b[0m 9us/step - accuracy: 0.4375 - loss: 1.7163 - val_accuracy: 0.5000 - val_loss: 1.6594\n",
            "Epoch 5/20\n",
            "\u001b[1m2196/2196\u001b[0m \u001b[32m━━━━━━━━━━━━━━━━━━━━\u001b[0m\u001b[37m\u001b[0m \u001b[1m697s\u001b[0m 316ms/step - accuracy: 0.4989 - loss: 1.8623 - val_accuracy: 0.6726 - val_loss: 1.3956\n",
            "Epoch 6/20\n",
            "\u001b[1m2196/2196\u001b[0m \u001b[32m━━━━━━━━━━━━━━━━━━━━\u001b[0m\u001b[37m\u001b[0m \u001b[1m0s\u001b[0m 9us/step - accuracy: 0.6562 - loss: 1.1301 - val_accuracy: 0.2500 - val_loss: 4.2059\n",
            "Epoch 7/20\n",
            "\u001b[1m2196/2196\u001b[0m \u001b[32m━━━━━━━━━━━━━━━━━━━━\u001b[0m\u001b[37m\u001b[0m \u001b[1m698s\u001b[0m 317ms/step - accuracy: 0.5395 - loss: 1.6969 - val_accuracy: 0.6991 - val_loss: 1.2563\n",
            "Epoch 8/20\n",
            "\u001b[1m2196/2196\u001b[0m \u001b[32m━━━━━━━━━━━━━━━━━━━━\u001b[0m\u001b[37m\u001b[0m \u001b[1m0s\u001b[0m 8us/step - accuracy: 0.5938 - loss: 1.4212 - val_accuracy: 0.2500 - val_loss: 3.0189\n",
            "Epoch 9/20\n",
            "\u001b[1m1521/2196\u001b[0m \u001b[32m━━━━━━━━━━━━━\u001b[0m\u001b[37m━━━━━━━\u001b[0m \u001b[1m3:27\u001b[0m 307ms/step - accuracy: 0.5764 - loss: 1.5551"
          ]
        },
        {
          "output_type": "error",
          "ename": "KeyboardInterrupt",
          "evalue": "",
          "traceback": [
            "\u001b[0;31m---------------------------------------------------------------------------\u001b[0m",
            "\u001b[0;31mKeyboardInterrupt\u001b[0m                         Traceback (most recent call last)",
            "\u001b[0;32m<ipython-input-5-6e1b485ecbac>\u001b[0m in \u001b[0;36m<cell line: 68>\u001b[0;34m()\u001b[0m\n\u001b[1;32m     66\u001b[0m \u001b[0;34m\u001b[0m\u001b[0m\n\u001b[1;32m     67\u001b[0m \u001b[0;31m# Fit the model\u001b[0m\u001b[0;34m\u001b[0m\u001b[0;34m\u001b[0m\u001b[0m\n\u001b[0;32m---> 68\u001b[0;31m history = model.fit(\n\u001b[0m\u001b[1;32m     69\u001b[0m     \u001b[0mtrain_generator\u001b[0m\u001b[0;34m,\u001b[0m\u001b[0;34m\u001b[0m\u001b[0;34m\u001b[0m\u001b[0m\n\u001b[1;32m     70\u001b[0m     \u001b[0mepochs\u001b[0m\u001b[0;34m=\u001b[0m\u001b[0mEPOCHS\u001b[0m\u001b[0;34m,\u001b[0m\u001b[0;34m\u001b[0m\u001b[0;34m\u001b[0m\u001b[0m\n",
            "\u001b[0;32m/usr/local/lib/python3.10/dist-packages/keras/src/utils/traceback_utils.py\u001b[0m in \u001b[0;36merror_handler\u001b[0;34m(*args, **kwargs)\u001b[0m\n\u001b[1;32m    115\u001b[0m         \u001b[0mfiltered_tb\u001b[0m \u001b[0;34m=\u001b[0m \u001b[0;32mNone\u001b[0m\u001b[0;34m\u001b[0m\u001b[0;34m\u001b[0m\u001b[0m\n\u001b[1;32m    116\u001b[0m         \u001b[0;32mtry\u001b[0m\u001b[0;34m:\u001b[0m\u001b[0;34m\u001b[0m\u001b[0;34m\u001b[0m\u001b[0m\n\u001b[0;32m--> 117\u001b[0;31m             \u001b[0;32mreturn\u001b[0m \u001b[0mfn\u001b[0m\u001b[0;34m(\u001b[0m\u001b[0;34m*\u001b[0m\u001b[0margs\u001b[0m\u001b[0;34m,\u001b[0m \u001b[0;34m**\u001b[0m\u001b[0mkwargs\u001b[0m\u001b[0;34m)\u001b[0m\u001b[0;34m\u001b[0m\u001b[0;34m\u001b[0m\u001b[0m\n\u001b[0m\u001b[1;32m    118\u001b[0m         \u001b[0;32mexcept\u001b[0m \u001b[0mException\u001b[0m \u001b[0;32mas\u001b[0m \u001b[0me\u001b[0m\u001b[0;34m:\u001b[0m\u001b[0;34m\u001b[0m\u001b[0;34m\u001b[0m\u001b[0m\n\u001b[1;32m    119\u001b[0m             \u001b[0mfiltered_tb\u001b[0m \u001b[0;34m=\u001b[0m \u001b[0m_process_traceback_frames\u001b[0m\u001b[0;34m(\u001b[0m\u001b[0me\u001b[0m\u001b[0;34m.\u001b[0m\u001b[0m__traceback__\u001b[0m\u001b[0;34m)\u001b[0m\u001b[0;34m\u001b[0m\u001b[0;34m\u001b[0m\u001b[0m\n",
            "\u001b[0;32m/usr/local/lib/python3.10/dist-packages/keras/src/backend/tensorflow/trainer.py\u001b[0m in \u001b[0;36mfit\u001b[0;34m(self, x, y, batch_size, epochs, verbose, callbacks, validation_split, validation_data, shuffle, class_weight, sample_weight, initial_epoch, steps_per_epoch, validation_steps, validation_batch_size, validation_freq)\u001b[0m\n\u001b[1;32m    318\u001b[0m                 \u001b[0;32mfor\u001b[0m \u001b[0mstep\u001b[0m\u001b[0;34m,\u001b[0m \u001b[0miterator\u001b[0m \u001b[0;32min\u001b[0m \u001b[0mepoch_iterator\u001b[0m\u001b[0;34m.\u001b[0m\u001b[0menumerate_epoch\u001b[0m\u001b[0;34m(\u001b[0m\u001b[0;34m)\u001b[0m\u001b[0;34m:\u001b[0m\u001b[0;34m\u001b[0m\u001b[0;34m\u001b[0m\u001b[0m\n\u001b[1;32m    319\u001b[0m                     \u001b[0mcallbacks\u001b[0m\u001b[0;34m.\u001b[0m\u001b[0mon_train_batch_begin\u001b[0m\u001b[0;34m(\u001b[0m\u001b[0mstep\u001b[0m\u001b[0;34m)\u001b[0m\u001b[0;34m\u001b[0m\u001b[0;34m\u001b[0m\u001b[0m\n\u001b[0;32m--> 320\u001b[0;31m                     \u001b[0mlogs\u001b[0m \u001b[0;34m=\u001b[0m \u001b[0mself\u001b[0m\u001b[0;34m.\u001b[0m\u001b[0mtrain_function\u001b[0m\u001b[0;34m(\u001b[0m\u001b[0miterator\u001b[0m\u001b[0;34m)\u001b[0m\u001b[0;34m\u001b[0m\u001b[0;34m\u001b[0m\u001b[0m\n\u001b[0m\u001b[1;32m    321\u001b[0m                     \u001b[0mlogs\u001b[0m \u001b[0;34m=\u001b[0m \u001b[0mself\u001b[0m\u001b[0;34m.\u001b[0m\u001b[0m_pythonify_logs\u001b[0m\u001b[0;34m(\u001b[0m\u001b[0mlogs\u001b[0m\u001b[0;34m)\u001b[0m\u001b[0;34m\u001b[0m\u001b[0;34m\u001b[0m\u001b[0m\n\u001b[1;32m    322\u001b[0m                     \u001b[0mcallbacks\u001b[0m\u001b[0;34m.\u001b[0m\u001b[0mon_train_batch_end\u001b[0m\u001b[0;34m(\u001b[0m\u001b[0mstep\u001b[0m\u001b[0;34m,\u001b[0m \u001b[0mlogs\u001b[0m\u001b[0;34m)\u001b[0m\u001b[0;34m\u001b[0m\u001b[0;34m\u001b[0m\u001b[0m\n",
            "\u001b[0;32m/usr/local/lib/python3.10/dist-packages/tensorflow/python/util/traceback_utils.py\u001b[0m in \u001b[0;36merror_handler\u001b[0;34m(*args, **kwargs)\u001b[0m\n\u001b[1;32m    148\u001b[0m     \u001b[0mfiltered_tb\u001b[0m \u001b[0;34m=\u001b[0m \u001b[0;32mNone\u001b[0m\u001b[0;34m\u001b[0m\u001b[0;34m\u001b[0m\u001b[0m\n\u001b[1;32m    149\u001b[0m     \u001b[0;32mtry\u001b[0m\u001b[0;34m:\u001b[0m\u001b[0;34m\u001b[0m\u001b[0;34m\u001b[0m\u001b[0m\n\u001b[0;32m--> 150\u001b[0;31m       \u001b[0;32mreturn\u001b[0m \u001b[0mfn\u001b[0m\u001b[0;34m(\u001b[0m\u001b[0;34m*\u001b[0m\u001b[0margs\u001b[0m\u001b[0;34m,\u001b[0m \u001b[0;34m**\u001b[0m\u001b[0mkwargs\u001b[0m\u001b[0;34m)\u001b[0m\u001b[0;34m\u001b[0m\u001b[0;34m\u001b[0m\u001b[0m\n\u001b[0m\u001b[1;32m    151\u001b[0m     \u001b[0;32mexcept\u001b[0m \u001b[0mException\u001b[0m \u001b[0;32mas\u001b[0m \u001b[0me\u001b[0m\u001b[0;34m:\u001b[0m\u001b[0;34m\u001b[0m\u001b[0;34m\u001b[0m\u001b[0m\n\u001b[1;32m    152\u001b[0m       \u001b[0mfiltered_tb\u001b[0m \u001b[0;34m=\u001b[0m \u001b[0m_process_traceback_frames\u001b[0m\u001b[0;34m(\u001b[0m\u001b[0me\u001b[0m\u001b[0;34m.\u001b[0m\u001b[0m__traceback__\u001b[0m\u001b[0;34m)\u001b[0m\u001b[0;34m\u001b[0m\u001b[0;34m\u001b[0m\u001b[0m\n",
            "\u001b[0;32m/usr/local/lib/python3.10/dist-packages/tensorflow/python/eager/polymorphic_function/polymorphic_function.py\u001b[0m in \u001b[0;36m__call__\u001b[0;34m(self, *args, **kwds)\u001b[0m\n\u001b[1;32m    831\u001b[0m \u001b[0;34m\u001b[0m\u001b[0m\n\u001b[1;32m    832\u001b[0m       \u001b[0;32mwith\u001b[0m \u001b[0mOptionalXlaContext\u001b[0m\u001b[0;34m(\u001b[0m\u001b[0mself\u001b[0m\u001b[0;34m.\u001b[0m\u001b[0m_jit_compile\u001b[0m\u001b[0;34m)\u001b[0m\u001b[0;34m:\u001b[0m\u001b[0;34m\u001b[0m\u001b[0;34m\u001b[0m\u001b[0m\n\u001b[0;32m--> 833\u001b[0;31m         \u001b[0mresult\u001b[0m \u001b[0;34m=\u001b[0m \u001b[0mself\u001b[0m\u001b[0;34m.\u001b[0m\u001b[0m_call\u001b[0m\u001b[0;34m(\u001b[0m\u001b[0;34m*\u001b[0m\u001b[0margs\u001b[0m\u001b[0;34m,\u001b[0m \u001b[0;34m**\u001b[0m\u001b[0mkwds\u001b[0m\u001b[0;34m)\u001b[0m\u001b[0;34m\u001b[0m\u001b[0;34m\u001b[0m\u001b[0m\n\u001b[0m\u001b[1;32m    834\u001b[0m \u001b[0;34m\u001b[0m\u001b[0m\n\u001b[1;32m    835\u001b[0m       \u001b[0mnew_tracing_count\u001b[0m \u001b[0;34m=\u001b[0m \u001b[0mself\u001b[0m\u001b[0;34m.\u001b[0m\u001b[0mexperimental_get_tracing_count\u001b[0m\u001b[0;34m(\u001b[0m\u001b[0;34m)\u001b[0m\u001b[0;34m\u001b[0m\u001b[0;34m\u001b[0m\u001b[0m\n",
            "\u001b[0;32m/usr/local/lib/python3.10/dist-packages/tensorflow/python/eager/polymorphic_function/polymorphic_function.py\u001b[0m in \u001b[0;36m_call\u001b[0;34m(self, *args, **kwds)\u001b[0m\n\u001b[1;32m    876\u001b[0m       \u001b[0;31m# In this case we have not created variables on the first call. So we can\u001b[0m\u001b[0;34m\u001b[0m\u001b[0;34m\u001b[0m\u001b[0m\n\u001b[1;32m    877\u001b[0m       \u001b[0;31m# run the first trace but we should fail if variables are created.\u001b[0m\u001b[0;34m\u001b[0m\u001b[0;34m\u001b[0m\u001b[0m\n\u001b[0;32m--> 878\u001b[0;31m       results = tracing_compilation.call_function(\n\u001b[0m\u001b[1;32m    879\u001b[0m           \u001b[0margs\u001b[0m\u001b[0;34m,\u001b[0m \u001b[0mkwds\u001b[0m\u001b[0;34m,\u001b[0m \u001b[0mself\u001b[0m\u001b[0;34m.\u001b[0m\u001b[0m_variable_creation_config\u001b[0m\u001b[0;34m\u001b[0m\u001b[0;34m\u001b[0m\u001b[0m\n\u001b[1;32m    880\u001b[0m       )\n",
            "\u001b[0;32m/usr/local/lib/python3.10/dist-packages/tensorflow/python/eager/polymorphic_function/tracing_compilation.py\u001b[0m in \u001b[0;36mcall_function\u001b[0;34m(args, kwargs, tracing_options)\u001b[0m\n\u001b[1;32m    137\u001b[0m   \u001b[0mbound_args\u001b[0m \u001b[0;34m=\u001b[0m \u001b[0mfunction\u001b[0m\u001b[0;34m.\u001b[0m\u001b[0mfunction_type\u001b[0m\u001b[0;34m.\u001b[0m\u001b[0mbind\u001b[0m\u001b[0;34m(\u001b[0m\u001b[0;34m*\u001b[0m\u001b[0margs\u001b[0m\u001b[0;34m,\u001b[0m \u001b[0;34m**\u001b[0m\u001b[0mkwargs\u001b[0m\u001b[0;34m)\u001b[0m\u001b[0;34m\u001b[0m\u001b[0;34m\u001b[0m\u001b[0m\n\u001b[1;32m    138\u001b[0m   \u001b[0mflat_inputs\u001b[0m \u001b[0;34m=\u001b[0m \u001b[0mfunction\u001b[0m\u001b[0;34m.\u001b[0m\u001b[0mfunction_type\u001b[0m\u001b[0;34m.\u001b[0m\u001b[0munpack_inputs\u001b[0m\u001b[0;34m(\u001b[0m\u001b[0mbound_args\u001b[0m\u001b[0;34m)\u001b[0m\u001b[0;34m\u001b[0m\u001b[0;34m\u001b[0m\u001b[0m\n\u001b[0;32m--> 139\u001b[0;31m   return function._call_flat(  # pylint: disable=protected-access\n\u001b[0m\u001b[1;32m    140\u001b[0m       \u001b[0mflat_inputs\u001b[0m\u001b[0;34m,\u001b[0m \u001b[0mcaptured_inputs\u001b[0m\u001b[0;34m=\u001b[0m\u001b[0mfunction\u001b[0m\u001b[0;34m.\u001b[0m\u001b[0mcaptured_inputs\u001b[0m\u001b[0;34m\u001b[0m\u001b[0;34m\u001b[0m\u001b[0m\n\u001b[1;32m    141\u001b[0m   )\n",
            "\u001b[0;32m/usr/local/lib/python3.10/dist-packages/tensorflow/python/eager/polymorphic_function/concrete_function.py\u001b[0m in \u001b[0;36m_call_flat\u001b[0;34m(self, tensor_inputs, captured_inputs)\u001b[0m\n\u001b[1;32m   1320\u001b[0m         and executing_eagerly):\n\u001b[1;32m   1321\u001b[0m       \u001b[0;31m# No tape is watching; skip to running the function.\u001b[0m\u001b[0;34m\u001b[0m\u001b[0;34m\u001b[0m\u001b[0m\n\u001b[0;32m-> 1322\u001b[0;31m       \u001b[0;32mreturn\u001b[0m \u001b[0mself\u001b[0m\u001b[0;34m.\u001b[0m\u001b[0m_inference_function\u001b[0m\u001b[0;34m.\u001b[0m\u001b[0mcall_preflattened\u001b[0m\u001b[0;34m(\u001b[0m\u001b[0margs\u001b[0m\u001b[0;34m)\u001b[0m\u001b[0;34m\u001b[0m\u001b[0;34m\u001b[0m\u001b[0m\n\u001b[0m\u001b[1;32m   1323\u001b[0m     forward_backward = self._select_forward_and_backward_functions(\n\u001b[1;32m   1324\u001b[0m         \u001b[0margs\u001b[0m\u001b[0;34m,\u001b[0m\u001b[0;34m\u001b[0m\u001b[0;34m\u001b[0m\u001b[0m\n",
            "\u001b[0;32m/usr/local/lib/python3.10/dist-packages/tensorflow/python/eager/polymorphic_function/atomic_function.py\u001b[0m in \u001b[0;36mcall_preflattened\u001b[0;34m(self, args)\u001b[0m\n\u001b[1;32m    214\u001b[0m   \u001b[0;32mdef\u001b[0m \u001b[0mcall_preflattened\u001b[0m\u001b[0;34m(\u001b[0m\u001b[0mself\u001b[0m\u001b[0;34m,\u001b[0m \u001b[0margs\u001b[0m\u001b[0;34m:\u001b[0m \u001b[0mSequence\u001b[0m\u001b[0;34m[\u001b[0m\u001b[0mcore\u001b[0m\u001b[0;34m.\u001b[0m\u001b[0mTensor\u001b[0m\u001b[0;34m]\u001b[0m\u001b[0;34m)\u001b[0m \u001b[0;34m->\u001b[0m \u001b[0mAny\u001b[0m\u001b[0;34m:\u001b[0m\u001b[0;34m\u001b[0m\u001b[0;34m\u001b[0m\u001b[0m\n\u001b[1;32m    215\u001b[0m     \u001b[0;34m\"\"\"Calls with flattened tensor inputs and returns the structured output.\"\"\"\u001b[0m\u001b[0;34m\u001b[0m\u001b[0;34m\u001b[0m\u001b[0m\n\u001b[0;32m--> 216\u001b[0;31m     \u001b[0mflat_outputs\u001b[0m \u001b[0;34m=\u001b[0m \u001b[0mself\u001b[0m\u001b[0;34m.\u001b[0m\u001b[0mcall_flat\u001b[0m\u001b[0;34m(\u001b[0m\u001b[0;34m*\u001b[0m\u001b[0margs\u001b[0m\u001b[0;34m)\u001b[0m\u001b[0;34m\u001b[0m\u001b[0;34m\u001b[0m\u001b[0m\n\u001b[0m\u001b[1;32m    217\u001b[0m     \u001b[0;32mreturn\u001b[0m \u001b[0mself\u001b[0m\u001b[0;34m.\u001b[0m\u001b[0mfunction_type\u001b[0m\u001b[0;34m.\u001b[0m\u001b[0mpack_output\u001b[0m\u001b[0;34m(\u001b[0m\u001b[0mflat_outputs\u001b[0m\u001b[0;34m)\u001b[0m\u001b[0;34m\u001b[0m\u001b[0;34m\u001b[0m\u001b[0m\n\u001b[1;32m    218\u001b[0m \u001b[0;34m\u001b[0m\u001b[0m\n",
            "\u001b[0;32m/usr/local/lib/python3.10/dist-packages/tensorflow/python/eager/polymorphic_function/atomic_function.py\u001b[0m in \u001b[0;36mcall_flat\u001b[0;34m(self, *args)\u001b[0m\n\u001b[1;32m    249\u001b[0m         \u001b[0;32mwith\u001b[0m \u001b[0mrecord\u001b[0m\u001b[0;34m.\u001b[0m\u001b[0mstop_recording\u001b[0m\u001b[0;34m(\u001b[0m\u001b[0;34m)\u001b[0m\u001b[0;34m:\u001b[0m\u001b[0;34m\u001b[0m\u001b[0;34m\u001b[0m\u001b[0m\n\u001b[1;32m    250\u001b[0m           \u001b[0;32mif\u001b[0m \u001b[0mself\u001b[0m\u001b[0;34m.\u001b[0m\u001b[0m_bound_context\u001b[0m\u001b[0;34m.\u001b[0m\u001b[0mexecuting_eagerly\u001b[0m\u001b[0;34m(\u001b[0m\u001b[0;34m)\u001b[0m\u001b[0;34m:\u001b[0m\u001b[0;34m\u001b[0m\u001b[0;34m\u001b[0m\u001b[0m\n\u001b[0;32m--> 251\u001b[0;31m             outputs = self._bound_context.call_function(\n\u001b[0m\u001b[1;32m    252\u001b[0m                 \u001b[0mself\u001b[0m\u001b[0;34m.\u001b[0m\u001b[0mname\u001b[0m\u001b[0;34m,\u001b[0m\u001b[0;34m\u001b[0m\u001b[0;34m\u001b[0m\u001b[0m\n\u001b[1;32m    253\u001b[0m                 \u001b[0mlist\u001b[0m\u001b[0;34m(\u001b[0m\u001b[0margs\u001b[0m\u001b[0;34m)\u001b[0m\u001b[0;34m,\u001b[0m\u001b[0;34m\u001b[0m\u001b[0;34m\u001b[0m\u001b[0m\n",
            "\u001b[0;32m/usr/local/lib/python3.10/dist-packages/tensorflow/python/eager/context.py\u001b[0m in \u001b[0;36mcall_function\u001b[0;34m(self, name, tensor_inputs, num_outputs)\u001b[0m\n\u001b[1;32m   1550\u001b[0m     \u001b[0mcancellation_context\u001b[0m \u001b[0;34m=\u001b[0m \u001b[0mcancellation\u001b[0m\u001b[0;34m.\u001b[0m\u001b[0mcontext\u001b[0m\u001b[0;34m(\u001b[0m\u001b[0;34m)\u001b[0m\u001b[0;34m\u001b[0m\u001b[0;34m\u001b[0m\u001b[0m\n\u001b[1;32m   1551\u001b[0m     \u001b[0;32mif\u001b[0m \u001b[0mcancellation_context\u001b[0m \u001b[0;32mis\u001b[0m \u001b[0;32mNone\u001b[0m\u001b[0;34m:\u001b[0m\u001b[0;34m\u001b[0m\u001b[0;34m\u001b[0m\u001b[0m\n\u001b[0;32m-> 1552\u001b[0;31m       outputs = execute.execute(\n\u001b[0m\u001b[1;32m   1553\u001b[0m           \u001b[0mname\u001b[0m\u001b[0;34m.\u001b[0m\u001b[0mdecode\u001b[0m\u001b[0;34m(\u001b[0m\u001b[0;34m\"utf-8\"\u001b[0m\u001b[0;34m)\u001b[0m\u001b[0;34m,\u001b[0m\u001b[0;34m\u001b[0m\u001b[0;34m\u001b[0m\u001b[0m\n\u001b[1;32m   1554\u001b[0m           \u001b[0mnum_outputs\u001b[0m\u001b[0;34m=\u001b[0m\u001b[0mnum_outputs\u001b[0m\u001b[0;34m,\u001b[0m\u001b[0;34m\u001b[0m\u001b[0;34m\u001b[0m\u001b[0m\n",
            "\u001b[0;32m/usr/local/lib/python3.10/dist-packages/tensorflow/python/eager/execute.py\u001b[0m in \u001b[0;36mquick_execute\u001b[0;34m(op_name, num_outputs, inputs, attrs, ctx, name)\u001b[0m\n\u001b[1;32m     51\u001b[0m   \u001b[0;32mtry\u001b[0m\u001b[0;34m:\u001b[0m\u001b[0;34m\u001b[0m\u001b[0;34m\u001b[0m\u001b[0m\n\u001b[1;32m     52\u001b[0m     \u001b[0mctx\u001b[0m\u001b[0;34m.\u001b[0m\u001b[0mensure_initialized\u001b[0m\u001b[0;34m(\u001b[0m\u001b[0;34m)\u001b[0m\u001b[0;34m\u001b[0m\u001b[0;34m\u001b[0m\u001b[0m\n\u001b[0;32m---> 53\u001b[0;31m     tensors = pywrap_tfe.TFE_Py_Execute(ctx._handle, device_name, op_name,\n\u001b[0m\u001b[1;32m     54\u001b[0m                                         inputs, attrs, num_outputs)\n\u001b[1;32m     55\u001b[0m   \u001b[0;32mexcept\u001b[0m \u001b[0mcore\u001b[0m\u001b[0;34m.\u001b[0m\u001b[0m_NotOkStatusException\u001b[0m \u001b[0;32mas\u001b[0m \u001b[0me\u001b[0m\u001b[0;34m:\u001b[0m\u001b[0;34m\u001b[0m\u001b[0;34m\u001b[0m\u001b[0m\n",
            "\u001b[0;31mKeyboardInterrupt\u001b[0m: "
          ]
        }
      ],
      "source": [
        "from tensorflow.keras import Input\n",
        "from tensorflow.keras.models import Sequential\n",
        "from tensorflow.keras.layers import Conv2D, MaxPooling2D, Flatten, Dense, BatchNormalization, Dropout\n",
        "from tensorflow.keras.optimizers import Adam\n",
        "from tensorflow.keras.preprocessing.image import ImageDataGenerator\n",
        "from tensorflow.keras.callbacks import EarlyStopping, ModelCheckpoint\n",
        "import matplotlib.pyplot as plt\n",
        "import os\n",
        "\n",
        "# Define paths\n",
        "train_path = train_path #train_subset_path\n",
        "valid_path = valid_path\n",
        "\n",
        "# Parameters\n",
        "IMG_SIZE = (224, 224)\n",
        "BATCH_SIZE = 32\n",
        "EPOCHS = 20\n",
        "\n",
        "# Build the CNN model with 2x Conv2D\n",
        "model = Sequential([\n",
        "    Input(shape=(224, 224, 3)),\n",
        "    Conv2D(32, (3, 3), activation='relu'),\n",
        "    BatchNormalization(),\n",
        "    MaxPooling2D((2, 2)),\n",
        "    Conv2D(64, (3, 3), activation='relu'),\n",
        "    BatchNormalization(),\n",
        "    MaxPooling2D((2, 2)),\n",
        "    Flatten(),\n",
        "    Dense(128, activation='relu'),\n",
        "    Dropout(0.6),\n",
        "    Dense(38, activation='softmax')\n",
        "])\n",
        "\n",
        "# Compile the model\n",
        "model.compile(optimizer=Adam(learning_rate=0.00001),\n",
        "              loss='categorical_crossentropy',\n",
        "              metrics=['accuracy'])\n",
        "\n",
        "# Data augmentation and preprocessing\n",
        "train_datagen = ImageDataGenerator(rescale=1./255)\n",
        "valid_datagen = ImageDataGenerator(rescale=1./255)\n",
        "\n",
        "# Generators\n",
        "train_generator = train_datagen.flow_from_directory(\n",
        "    train_path,\n",
        "    target_size=IMG_SIZE,\n",
        "    batch_size=BATCH_SIZE,\n",
        "    class_mode='categorical',\n",
        "    shuffle=True)\n",
        "\n",
        "val_generator = valid_datagen.flow_from_directory(\n",
        "    valid_path,\n",
        "    target_size=IMG_SIZE,\n",
        "    batch_size=BATCH_SIZE,\n",
        "    class_mode='categorical',\n",
        "    shuffle=False)\n",
        "\n",
        "# Define callbacks\n",
        "callbacks = [\n",
        "    EarlyStopping(monitor='val_loss', patience=3, restore_best_weights=True),\n",
        "    ModelCheckpoint('best_model.keras', save_best_only=True),\n",
        "    lr_scheduler = ReduceLROnPlateau(monitor='val_loss', factor=0.5, patience=2)\n",
        "]\n",
        "\n",
        "# Train the model\n",
        "history = model.fit(\n",
        "    train_generator,\n",
        "    validation_data=val_generator,\n",
        "    epochs=EPOCHS,\n",
        "    steps_per_epoch=train_generator.samples // BATCH_SIZE,\n",
        "    validation_steps=val_generator.samples // BATCH_SIZE,\n",
        "    callbacks=callbacks\n",
        ")\n",
        "\n",
        "# Visualize training performance\n",
        "train_acc = history.history['accuracy']\n",
        "val_acc = history.history['val_accuracy']\n",
        "train_loss = history.history['loss']\n",
        "val_loss = history.history['val_loss']\n"
      ]
    },
    {
      "cell_type": "markdown",
      "source": [
        "Plot accuracies & loss over epochs"
      ],
      "metadata": {
        "id": "KjeVTPOz80UH"
      }
    },
    {
      "cell_type": "code",
      "source": [
        "fig= plt.figure(figsize=(8,4))\n",
        "fig.suptitle('Performance: CNN-5', fontsize=15)\n",
        "\n",
        "# Plot accuracy\n",
        "plt.subplot(121)\n",
        "plt.plot(train_acc, label='Training Accuracy', marker='o')\n",
        "plt.plot(val_acc, label='Validation Accuracy', marker='o')\n",
        "plt.title('Model accuracy by epoch')\n",
        "plt.xlabel('Epochs')\n",
        "plt.ylim([0,1])\n",
        "plt.ylabel('Accuracy')\n",
        "plt.legend()\n",
        "plt.grid()\n",
        "\n",
        "# Plot loss\n",
        "plt.subplot(122)\n",
        "plt.plot(train_loss, label='Training Loss', marker='o')\n",
        "plt.plot(val_loss, label='Validation Loss', marker='o')\n",
        "plt.title('Model loss by epoch')\n",
        "plt.xlabel('Epochs')\n",
        "plt.ylim([0,2])\n",
        "plt.ylabel('Loss')\n",
        "plt.legend()\n",
        "plt.grid()\n",
        "\n",
        "plt.tight_layout()\n",
        "plt.show()"
      ],
      "metadata": {
        "colab": {
          "base_uri": "https://localhost:8080/",
          "height": 217
        },
        "id": "Z0jNWPq60Wcp",
        "outputId": "22973681-4a61-46d5-ca98-baa07a995670",
        "collapsed": true
      },
      "execution_count": null,
      "outputs": [
        {
          "output_type": "error",
          "ename": "NameError",
          "evalue": "name 'plt' is not defined",
          "traceback": [
            "\u001b[0;31m---------------------------------------------------------------------------\u001b[0m",
            "\u001b[0;31mNameError\u001b[0m                                 Traceback (most recent call last)",
            "\u001b[0;32m<ipython-input-1-ebd5b7e11655>\u001b[0m in \u001b[0;36m<cell line: 1>\u001b[0;34m()\u001b[0m\n\u001b[0;32m----> 1\u001b[0;31m \u001b[0mfig\u001b[0m\u001b[0;34m=\u001b[0m \u001b[0mplt\u001b[0m\u001b[0;34m.\u001b[0m\u001b[0mfigure\u001b[0m\u001b[0;34m(\u001b[0m\u001b[0mfigsize\u001b[0m\u001b[0;34m=\u001b[0m\u001b[0;34m(\u001b[0m\u001b[0;36m8\u001b[0m\u001b[0;34m,\u001b[0m\u001b[0;36m4\u001b[0m\u001b[0;34m)\u001b[0m\u001b[0;34m)\u001b[0m\u001b[0;34m\u001b[0m\u001b[0;34m\u001b[0m\u001b[0m\n\u001b[0m\u001b[1;32m      2\u001b[0m \u001b[0mfig\u001b[0m\u001b[0;34m.\u001b[0m\u001b[0msuptitle\u001b[0m\u001b[0;34m(\u001b[0m\u001b[0;34m'Performance: CNN-5'\u001b[0m\u001b[0;34m,\u001b[0m \u001b[0mfontsize\u001b[0m\u001b[0;34m=\u001b[0m\u001b[0;36m15\u001b[0m\u001b[0;34m)\u001b[0m\u001b[0;34m\u001b[0m\u001b[0;34m\u001b[0m\u001b[0m\n\u001b[1;32m      3\u001b[0m \u001b[0;34m\u001b[0m\u001b[0m\n\u001b[1;32m      4\u001b[0m \u001b[0;31m# Plot accuracy\u001b[0m\u001b[0;34m\u001b[0m\u001b[0;34m\u001b[0m\u001b[0m\n\u001b[1;32m      5\u001b[0m \u001b[0mplt\u001b[0m\u001b[0;34m.\u001b[0m\u001b[0msubplot\u001b[0m\u001b[0;34m(\u001b[0m\u001b[0;36m121\u001b[0m\u001b[0;34m)\u001b[0m\u001b[0;34m\u001b[0m\u001b[0;34m\u001b[0m\u001b[0m\n",
            "\u001b[0;31mNameError\u001b[0m: name 'plt' is not defined"
          ]
        }
      ]
    },
    {
      "cell_type": "markdown",
      "source": [
        "Classification report"
      ],
      "metadata": {
        "id": "wgfPojiP4zNF"
      }
    },
    {
      "cell_type": "code",
      "source": [
        "from sklearn.metrics import confusion_matrix, classification_report\n",
        "import numpy as np\n",
        "# Generate predictions for validation set\n",
        "val_pred = model.predict(val_generator)\n",
        "val_pred_classes = np.argmax(val_pred, axis=1)\n",
        "true_classes = val_generator.classes\n",
        "\n",
        "# Confusion matrix\n",
        "conf_matrix = confusion_matrix(true_classes, val_pred_classes)\n",
        "print(\"Confusion Matrix:\\n\", conf_matrix)\n",
        "\n",
        "# Classification report\n",
        "class_report = classification_report(true_classes, val_pred_classes)\n",
        "print(\"Classification Report:\\n\", class_report)"
      ],
      "metadata": {
        "id": "RAfL90St4ysm"
      },
      "execution_count": null,
      "outputs": []
    },
    {
      "cell_type": "markdown",
      "metadata": {
        "id": "FHoJzrZl5Ndu"
      },
      "source": [
        "# Model 2: CNN with 3x Conv2D"
      ]
    },
    {
      "cell_type": "code",
      "execution_count": null,
      "metadata": {
        "colab": {
          "base_uri": "https://localhost:8080/"
        },
        "outputId": "77e66fe8-d446-4542-ffd8-b9ed39efd482",
        "collapsed": true,
        "id": "Sl1FhWsv5Ndv"
      },
      "outputs": [
        {
          "output_type": "stream",
          "name": "stdout",
          "text": [
            "Found 19988 images belonging to 38 classes.\n",
            "Found 17572 images belonging to 38 classes.\n",
            "Epoch 1/20\n",
            "\u001b[1m624/624\u001b[0m \u001b[32m━━━━━━━━━━━━━━━━━━━━\u001b[0m\u001b[37m\u001b[0m \u001b[1m79s\u001b[0m 113ms/step - accuracy: 0.3073 - loss: 2.8558 - val_accuracy: 0.6277 - val_loss: 1.3204\n",
            "Epoch 2/20\n",
            "\u001b[1m624/624\u001b[0m \u001b[32m━━━━━━━━━━━━━━━━━━━━\u001b[0m\u001b[37m\u001b[0m \u001b[1m4s\u001b[0m 6ms/step - accuracy: 0.5000 - loss: 2.0815 - val_accuracy: 0.7500 - val_loss: 0.5905\n",
            "Epoch 3/20\n",
            "\u001b[1m624/624\u001b[0m \u001b[32m━━━━━━━━━━━━━━━━━━━━\u001b[0m\u001b[37m\u001b[0m \u001b[1m59s\u001b[0m 94ms/step - accuracy: 0.6653 - loss: 1.1439 - val_accuracy: 0.7880 - val_loss: 0.7317\n",
            "Epoch 4/20\n",
            "\u001b[1m624/624\u001b[0m \u001b[32m━━━━━━━━━━━━━━━━━━━━\u001b[0m\u001b[37m\u001b[0m \u001b[1m3s\u001b[0m 4ms/step - accuracy: 0.7188 - loss: 0.9782 - val_accuracy: 1.0000 - val_loss: 0.0295\n",
            "Epoch 5/20\n",
            "\u001b[1m624/624\u001b[0m \u001b[32m━━━━━━━━━━━━━━━━━━━━\u001b[0m\u001b[37m\u001b[0m \u001b[1m60s\u001b[0m 96ms/step - accuracy: 0.7762 - loss: 0.7396 - val_accuracy: 0.8137 - val_loss: 0.6189\n",
            "Epoch 6/20\n",
            "\u001b[1m624/624\u001b[0m \u001b[32m━━━━━━━━━━━━━━━━━━━━\u001b[0m\u001b[37m\u001b[0m \u001b[1m3s\u001b[0m 4ms/step - accuracy: 0.8438 - loss: 0.4485 - val_accuracy: 1.0000 - val_loss: 0.0208\n",
            "Epoch 7/20\n",
            "\u001b[1m624/624\u001b[0m \u001b[32m━━━━━━━━━━━━━━━━━━━━\u001b[0m\u001b[37m\u001b[0m \u001b[1m59s\u001b[0m 94ms/step - accuracy: 0.8458 - loss: 0.4988 - val_accuracy: 0.8375 - val_loss: 0.5442\n",
            "Epoch 8/20\n",
            "\u001b[1m624/624\u001b[0m \u001b[32m━━━━━━━━━━━━━━━━━━━━\u001b[0m\u001b[37m\u001b[0m \u001b[1m3s\u001b[0m 4ms/step - accuracy: 0.8438 - loss: 0.4180 - val_accuracy: 1.0000 - val_loss: 0.0073\n",
            "Epoch 9/20\n",
            "\u001b[1m624/624\u001b[0m \u001b[32m━━━━━━━━━━━━━━━━━━━━\u001b[0m\u001b[37m\u001b[0m \u001b[1m57s\u001b[0m 92ms/step - accuracy: 0.8937 - loss: 0.3451 - val_accuracy: 0.8514 - val_loss: 0.4903\n",
            "Epoch 10/20\n",
            "\u001b[1m624/624\u001b[0m \u001b[32m━━━━━━━━━━━━━━━━━━━━\u001b[0m\u001b[37m\u001b[0m \u001b[1m3s\u001b[0m 4ms/step - accuracy: 0.8750 - loss: 0.4321 - val_accuracy: 1.0000 - val_loss: 0.0043\n",
            "Epoch 11/20\n",
            "\u001b[1m624/624\u001b[0m \u001b[32m━━━━━━━━━━━━━━━━━━━━\u001b[0m\u001b[37m\u001b[0m \u001b[1m57s\u001b[0m 90ms/step - accuracy: 0.9185 - loss: 0.2562 - val_accuracy: 0.8529 - val_loss: 0.4800\n",
            "Epoch 12/20\n",
            "\u001b[1m624/624\u001b[0m \u001b[32m━━━━━━━━━━━━━━━━━━━━\u001b[0m\u001b[37m\u001b[0m \u001b[1m3s\u001b[0m 4ms/step - accuracy: 0.9062 - loss: 0.2083 - val_accuracy: 1.0000 - val_loss: 0.0013\n",
            "Epoch 13/20\n",
            "\u001b[1m624/624\u001b[0m \u001b[32m━━━━━━━━━━━━━━━━━━━━\u001b[0m\u001b[37m\u001b[0m \u001b[1m57s\u001b[0m 91ms/step - accuracy: 0.9366 - loss: 0.2098 - val_accuracy: 0.8632 - val_loss: 0.4544\n",
            "Epoch 14/20\n",
            "\u001b[1m624/624\u001b[0m \u001b[32m━━━━━━━━━━━━━━━━━━━━\u001b[0m\u001b[37m\u001b[0m \u001b[1m3s\u001b[0m 4ms/step - accuracy: 0.8438 - loss: 0.2670 - val_accuracy: 1.0000 - val_loss: 0.0011\n",
            "Epoch 15/20\n",
            "\u001b[1m624/624\u001b[0m \u001b[32m━━━━━━━━━━━━━━━━━━━━\u001b[0m\u001b[37m\u001b[0m \u001b[1m58s\u001b[0m 92ms/step - accuracy: 0.9535 - loss: 0.1542 - val_accuracy: 0.8655 - val_loss: 0.4622\n",
            "Epoch 16/20\n",
            "\u001b[1m624/624\u001b[0m \u001b[32m━━━━━━━━━━━━━━━━━━━━\u001b[0m\u001b[37m\u001b[0m \u001b[1m3s\u001b[0m 4ms/step - accuracy: 0.9688 - loss: 0.1312 - val_accuracy: 1.0000 - val_loss: 6.8008e-04\n",
            "Epoch 17/20\n",
            "\u001b[1m624/624\u001b[0m \u001b[32m━━━━━━━━━━━━━━━━━━━━\u001b[0m\u001b[37m\u001b[0m \u001b[1m60s\u001b[0m 95ms/step - accuracy: 0.9636 - loss: 0.1196 - val_accuracy: 0.8672 - val_loss: 0.4487\n",
            "Epoch 18/20\n",
            "\u001b[1m624/624\u001b[0m \u001b[32m━━━━━━━━━━━━━━━━━━━━\u001b[0m\u001b[37m\u001b[0m \u001b[1m0s\u001b[0m 34us/step - accuracy: 1.0000 - loss: 0.0476 - val_accuracy: 1.0000 - val_loss: 0.0046\n",
            "Epoch 19/20\n",
            "\u001b[1m624/624\u001b[0m \u001b[32m━━━━━━━━━━━━━━━━━━━━\u001b[0m\u001b[37m\u001b[0m \u001b[1m59s\u001b[0m 93ms/step - accuracy: 0.9688 - loss: 0.1033 - val_accuracy: 0.8689 - val_loss: 0.4480\n"
          ]
        }
      ],
      "source": [
        "# Define paths\n",
        "# if you want use 20k train dataset -> train_subset_path\n",
        "# if you want use original train dataset -> train_path\n",
        "train_path =  train_subset_path #train_subset_path #train_path\n",
        "valid_path = valid_path\n",
        "\n",
        "# Parameters\n",
        "IMG_SIZE = (224, 224)\n",
        "BATCH_SIZE = 32\n",
        "EPOCHS = 20\n",
        "\n",
        "# Data augmentation and preprocessing\n",
        "train_datagen = ImageDataGenerator(rescale=1./255)\n",
        "valid_datagen = ImageDataGenerator(rescale=1./255)\n",
        "\n",
        "# Generators\n",
        "train_generator = train_datagen.flow_from_directory(\n",
        "    train_path,\n",
        "    target_size=IMG_SIZE,\n",
        "    batch_size=BATCH_SIZE,\n",
        "    class_mode='categorical',\n",
        "    shuffle=True)\n",
        "\n",
        "val_generator = valid_datagen.flow_from_directory(\n",
        "    valid_path,\n",
        "    target_size=IMG_SIZE,\n",
        "    batch_size=BATCH_SIZE,\n",
        "    class_mode='categorical',\n",
        "    shuffle=False)\n",
        "\n",
        "# Define callbacks\n",
        "callbacks = [\n",
        "    EarlyStopping(monitor='val_loss', patience=3, restore_best_weights=True),\n",
        "    ModelCheckpoint('best_model.keras', save_best_only=True),\n",
        "    ]\n",
        "\n",
        "# Build the CNN model with 2x Conv2D\n",
        "model = Sequential([\n",
        "    Input(shape=(224, 224, 3)), # manual IMG_SIZE\n",
        "    Conv2D(32, (3, 3), activation='relu'),\n",
        "    BatchNormalization(),\n",
        "    MaxPooling2D((2, 2)),\n",
        "    Conv2D(64, (3, 3), activation='relu'),\n",
        "    BatchNormalization(),\n",
        "    MaxPooling2D((2, 2)),\n",
        "\n",
        "    Conv2D(128, (3, 3), activation='relu'),\n",
        "    BatchNormalization(),\n",
        "    MaxPooling2D(pool_size=(2, 2)),\n",
        "\n",
        "    Flatten(),\n",
        "    Dense(512, activation='relu'),\n",
        "    Dropout(0.5),\n",
        "    Dense(38, activation='softmax')\n",
        "])\n",
        "\n",
        "# Compile the model\n",
        "model.compile(optimizer=Adam(learning_rate=0.00001),\n",
        "              loss='categorical_crossentropy',\n",
        "              metrics=['accuracy'])\n",
        "\n",
        "# Train the model\n",
        "history = model.fit(\n",
        "    train_generator,\n",
        "    validation_data=val_generator,\n",
        "    epochs=EPOCHS,\n",
        "    steps_per_epoch=train_generator.samples // BATCH_SIZE,\n",
        "    validation_steps=val_generator.samples // BATCH_SIZE,\n",
        "    callbacks=callbacks\n",
        ")\n",
        "\n",
        "# Visualize training performance\n",
        "train_acc = history.history['accuracy']\n",
        "val_acc = history.history['val_accuracy']\n",
        "train_loss = history.history['loss']\n",
        "val_loss = history.history['val_loss']"
      ]
    },
    {
      "cell_type": "markdown",
      "source": [
        "Plot accuracies & loss over epochs"
      ],
      "metadata": {
        "id": "DHTsJ5Ud5Ndw"
      }
    },
    {
      "cell_type": "code",
      "source": [
        "fig= plt.figure(figsize=(8,4))\n",
        "fig.suptitle('Performance: CNN-7-4 with 20k, 224, epoch 20', fontsize=15) # Change title\n",
        "\n",
        "# Plot accuracy\n",
        "plt.subplot(121)\n",
        "plt.plot(train_acc, label='Training Accuracy', marker='o')\n",
        "plt.plot(val_acc, label='Validation Accuracy', marker='o')\n",
        "plt.title('Model accuracy by epoch')\n",
        "plt.xlabel('Epochs')\n",
        "plt.ylim([0,1])\n",
        "plt.ylabel('Accuracy')\n",
        "plt.legend()\n",
        "plt.grid()\n",
        "\n",
        "# Plot loss\n",
        "plt.subplot(122)\n",
        "plt.plot(train_loss, label='Training Loss', marker='o')\n",
        "plt.plot(val_loss, label='Validation Loss', marker='o')\n",
        "plt.title('Model loss by epoch')\n",
        "plt.xlabel('Epochs')\n",
        "plt.ylim([0,2])\n",
        "plt.ylabel('Loss')\n",
        "plt.legend()\n",
        "plt.grid()\n",
        "\n",
        "plt.tight_layout()\n",
        "plt.show()"
      ],
      "metadata": {
        "colab": {
          "base_uri": "https://localhost:8080/",
          "height": 413
        },
        "outputId": "99560abc-bf9d-4a6b-cf20-7d05cc8d3c56",
        "id": "LJgH23Yc5Ndw"
      },
      "execution_count": null,
      "outputs": [
        {
          "output_type": "display_data",
          "data": {
            "text/plain": [
              "<Figure size 800x400 with 2 Axes>"
            ],
            "image/png": "[encoded data removed]"
          },
          "metadata": {}
        }
      ]
    },
    {
      "cell_type": "markdown",
      "metadata": {
        "id": "gs3EYSmSPLbu"
      },
      "source": [
        "# Model 3: Transfer learning-VGG16"
      ]
    },
    {
      "cell_type": "code",
      "execution_count": null,
      "metadata": {
        "colab": {
          "base_uri": "https://localhost:8080/"
        },
        "outputId": "8c22797d-f0e2-4226-b100-8a420bac872c",
        "id": "MUo-YF_mPLbw"
      },
      "outputs": [
        {
          "output_type": "stream",
          "name": "stdout",
          "text": [
            "Found 19988 images belonging to 38 classes.\n",
            "Found 17572 images belonging to 38 classes.\n",
            "Epoch 1/20\n",
            "\u001b[1m624/624\u001b[0m \u001b[32m━━━━━━━━━━━━━━━━━━━━\u001b[0m\u001b[37m\u001b[0m \u001b[1m473s\u001b[0m 683ms/step - accuracy: 0.0271 - loss: 3.6392 - val_accuracy: 0.0939 - val_loss: 3.3927 - learning_rate: 1.0000e-04\n",
            "Epoch 2/20\n",
            "\u001b[1m624/624\u001b[0m \u001b[32m━━━━━━━━━━━━━━━━━━━━\u001b[0m\u001b[37m\u001b[0m \u001b[1m1s\u001b[0m 1ms/step - accuracy: 0.0938 - loss: 3.2655 - val_accuracy: 0.0000e+00 - val_loss: 3.5343 - learning_rate: 1.0000e-04\n",
            "Epoch 3/20\n",
            "\u001b[1m624/624\u001b[0m \u001b[32m━━━━━━━━━━━━━━━━━━━━\u001b[0m\u001b[37m\u001b[0m \u001b[1m393s\u001b[0m 629ms/step - accuracy: 0.1428 - loss: 3.0815 - val_accuracy: 0.6543 - val_loss: 1.2226 - learning_rate: 1.0000e-04\n",
            "Epoch 4/20\n",
            "\u001b[1m624/624\u001b[0m \u001b[32m━━━━━━━━━━━━━━━━━━━━\u001b[0m\u001b[37m\u001b[0m \u001b[1m1s\u001b[0m 70us/step - accuracy: 0.5312 - loss: 1.6473 - val_accuracy: 0.7500 - val_loss: 1.4049 - learning_rate: 1.0000e-04\n",
            "Epoch 5/20\n",
            "\u001b[1m624/624\u001b[0m \u001b[32m━━━━━━━━━━━━━━━━━━━━\u001b[0m\u001b[37m\u001b[0m \u001b[1m393s\u001b[0m 629ms/step - accuracy: 0.6074 - loss: 1.2892 - val_accuracy: 0.8551 - val_loss: 0.4874 - learning_rate: 1.0000e-04\n",
            "Epoch 6/20\n",
            "\u001b[1m624/624\u001b[0m \u001b[32m━━━━━━━━━━━━━━━━━━━━\u001b[0m\u001b[37m\u001b[0m \u001b[1m1s\u001b[0m 1ms/step - accuracy: 0.7812 - loss: 0.6640 - val_accuracy: 0.7500 - val_loss: 0.3573 - learning_rate: 1.0000e-04\n",
            "Epoch 7/20\n",
            "\u001b[1m624/624\u001b[0m \u001b[32m━━━━━━━━━━━━━━━━━━━━\u001b[0m\u001b[37m\u001b[0m \u001b[1m391s\u001b[0m 627ms/step - accuracy: 0.8162 - loss: 0.6001 - val_accuracy: 0.9134 - val_loss: 0.2783 - learning_rate: 1.0000e-04\n",
            "Epoch 8/20\n",
            "\u001b[1m624/624\u001b[0m \u001b[32m━━━━━━━━━━━━━━━━━━━━\u001b[0m\u001b[37m\u001b[0m \u001b[1m1s\u001b[0m 1ms/step - accuracy: 0.8750 - loss: 0.5116 - val_accuracy: 1.0000 - val_loss: 0.1043 - learning_rate: 1.0000e-04\n",
            "Epoch 9/20\n",
            "\u001b[1m624/624\u001b[0m \u001b[32m━━━━━━━━━━━━━━━━━━━━\u001b[0m\u001b[37m\u001b[0m \u001b[1m390s\u001b[0m 625ms/step - accuracy: 0.8920 - loss: 0.3665 - val_accuracy: 0.9357 - val_loss: 0.2106 - learning_rate: 1.0000e-04\n",
            "Epoch 10/20\n",
            "\u001b[1m624/624\u001b[0m \u001b[32m━━━━━━━━━━━━━━━━━━━━\u001b[0m\u001b[37m\u001b[0m \u001b[1m2s\u001b[0m 2ms/step - accuracy: 0.9062 - loss: 0.3102 - val_accuracy: 1.0000 - val_loss: 0.0591 - learning_rate: 1.0000e-04\n",
            "Epoch 11/20\n",
            "\u001b[1m624/624\u001b[0m \u001b[32m━━━━━━━━━━━━━━━━━━━━\u001b[0m\u001b[37m\u001b[0m \u001b[1m390s\u001b[0m 625ms/step - accuracy: 0.9160 - loss: 0.2803 - val_accuracy: 0.9506 - val_loss: 0.1579 - learning_rate: 1.0000e-04\n",
            "Epoch 12/20\n",
            "\u001b[1m624/624\u001b[0m \u001b[32m━━━━━━━━━━━━━━━━━━━━\u001b[0m\u001b[37m\u001b[0m \u001b[1m1s\u001b[0m 72us/step - accuracy: 0.9375 - loss: 0.2235 - val_accuracy: 1.0000 - val_loss: 0.0705 - learning_rate: 1.0000e-04\n",
            "Epoch 13/20\n",
            "\u001b[1m624/624\u001b[0m \u001b[32m━━━━━━━━━━━━━━━━━━━━\u001b[0m\u001b[37m\u001b[0m \u001b[1m390s\u001b[0m 625ms/step - accuracy: 0.9667 - loss: 0.1024 - val_accuracy: 0.9702 - val_loss: 0.0938 - learning_rate: 1.0000e-05\n"
          ]
        }
      ],
      "source": [
        "from tensorflow.keras.applications import VGG16\n",
        "from tensorflow.keras.layers import GlobalAveragePooling2D\n",
        "from tensorflow.keras.callbacks import ReduceLROnPlateau\n",
        "\n",
        "# Define paths\n",
        "# if you want use 20k train dataset -> train_subset_path\n",
        "# if you want use original train dataset -> train_path\n",
        "train_path =  train_subset_path #train_subset_path #train_path\n",
        "valid_path = valid_path\n",
        "\n",
        "# Parameters\n",
        "IMG_SIZE = (224, 224)\n",
        "BATCH_SIZE = 32\n",
        "EPOCHS = 20\n",
        "\n",
        "# Data augmentation and preprocessing\n",
        "train_datagen = ImageDataGenerator(rescale=1.0 / 255)\n",
        "valid_datagen = ImageDataGenerator(rescale=1.0 / 255)\n",
        "\n",
        "# Generators\n",
        "train_generator = train_datagen.flow_from_directory(\n",
        "    train_path,\n",
        "    target_size=IMG_SIZE,\n",
        "    batch_size=BATCH_SIZE,\n",
        "    class_mode=\"categorical\",\n",
        "    shuffle=True,\n",
        ")\n",
        "\n",
        "val_generator = valid_datagen.flow_from_directory(\n",
        "    valid_path,\n",
        "    target_size=IMG_SIZE,\n",
        "    batch_size=BATCH_SIZE,\n",
        "    class_mode=\"categorical\",\n",
        "    shuffle=False,\n",
        ")\n",
        "\n",
        "# Load VGG16 without the top layer, use pretrained ImageNet weights\n",
        "vgg16_base = VGG16(\n",
        "    weights=\"imagenet\",\n",
        "    include_top=False,\n",
        "    input_shape=(IMG_SIZE[0], IMG_SIZE[1], 3)\n",
        ")\n",
        "\n",
        "# Freeze base layers\n",
        "for layer in vgg16_base.layers[-4:]:\n",
        "    layer.trainable = True\n",
        "\n",
        "# Define the transfer learning model\n",
        "model = Sequential([\n",
        "    vgg16_base,\n",
        "    GlobalAveragePooling2D(),\n",
        "    Dense(256, activation='relu'),\n",
        "    Dropout(0.5),\n",
        "    Dense(38, activation='softmax')\n",
        "])\n",
        "\n",
        "# Compile the model\n",
        "model.compile(\n",
        "    optimizer=Adam(learning_rate=0.0001),\n",
        "    loss=\"categorical_crossentropy\",\n",
        "    metrics=[\"accuracy\"],\n",
        ")\n",
        "\n",
        "# Define callbacks\n",
        "callbacks = [\n",
        "    EarlyStopping(monitor=\"val_loss\", patience=3, restore_best_weights=True),\n",
        "    ModelCheckpoint(\"best_vgg16_model.keras\", save_best_only=True),\n",
        "    ReduceLROnPlateau(\n",
        "        monitor=\"val_loss\",\n",
        "        factor=0.1,\n",
        "        patience=2,\n",
        "        min_lr=1e-6)\n",
        "]\n",
        "\n",
        "# Train the model\n",
        "history = model.fit(\n",
        "    train_generator,\n",
        "    validation_data=val_generator,\n",
        "    epochs=EPOCHS,\n",
        "    steps_per_epoch=train_generator.samples // BATCH_SIZE,\n",
        "    validation_steps=val_generator.samples // BATCH_SIZE,\n",
        "    callbacks=callbacks,\n",
        ")\n",
        "\n",
        "# Visualize training performance\n",
        "train_acc = history.history[\"accuracy\"]\n",
        "val_acc = history.history[\"val_accuracy\"]\n",
        "train_loss = history.history[\"loss\"]\n",
        "val_loss = history.history[\"val_loss\"]"
      ]
    },
    {
      "cell_type": "markdown",
      "source": [
        "Save model"
      ],
      "metadata": {
        "id": "zhfPKjMf0D3Y"
      }
    },
    {
      "cell_type": "code",
      "source": [
        "model.save(\"Model 3_VGG16_v2 with 20k, 224, epoch 20.keras\")"
      ],
      "metadata": {
        "id": "Y_JF1xx40FpQ"
      },
      "execution_count": null,
      "outputs": []
    },
    {
      "cell_type": "code",
      "source": [
        "from google.colab import drive\n",
        "drive.mount('/content/drive')\n",
        "save_dir = \"/content/drive/MyDrive/DataScientist_Projects\"\n",
        "model.save(f\"{save_dir}/ Model 3_VGG16_v2 with 20k, 224, epoch 20.keras\")"
      ],
      "metadata": {
        "colab": {
          "base_uri": "https://localhost:8080/"
        },
        "id": "LlIjpQ2w1alO",
        "outputId": "69552127-bee7-4674-e78f-37a4be067bc8"
      },
      "execution_count": null,
      "outputs": [
        {
          "output_type": "stream",
          "name": "stdout",
          "text": [
            "Drive already mounted at /content/drive; to attempt to forcibly remount, call drive.mount(\"/content/drive\", force_remount=True).\n"
          ]
        }
      ]
    },
    {
      "cell_type": "markdown",
      "source": [
        "Plot accuracies & loss over epochs"
      ],
      "metadata": {
        "id": "kAzlN9kpPLby"
      }
    },
    {
      "cell_type": "code",
      "source": [
        "fig= plt.figure(figsize=(8,4))\n",
        "fig.suptitle('Performance: Model 3_VGG16_v2 with 20k, 224, epoch 20', fontsize=15) # Change title\n",
        "\n",
        "# Plot accuracy\n",
        "plt.subplot(121)\n",
        "plt.plot(train_acc, label='Training Accuracy', marker='o')\n",
        "plt.plot(val_acc, label='Validation Accuracy', marker='o')\n",
        "plt.title('Model accuracy by epoch')\n",
        "plt.xlabel('Epochs')\n",
        "plt.ylim([0,1])\n",
        "plt.ylabel('Accuracy')\n",
        "plt.legend()\n",
        "plt.grid()\n",
        "\n",
        "# Plot loss\n",
        "plt.subplot(122)\n",
        "plt.plot(train_loss, label='Training Loss', marker='o')\n",
        "plt.plot(val_loss, label='Validation Loss', marker='o')\n",
        "plt.title('Model loss by epoch')\n",
        "plt.xlabel('Epochs')\n",
        "plt.ylim([0,2])\n",
        "plt.ylabel('Loss')\n",
        "plt.legend()\n",
        "plt.grid()\n",
        "\n",
        "plt.tight_layout()\n",
        "plt.show()"
      ],
      "metadata": {
        "colab": {
          "base_uri": "https://localhost:8080/",
          "height": 413
        },
        "outputId": "58bc1941-c1fa-4e86-9d3c-73be6c0b02ae",
        "id": "dhT-owZRPLby"
      },
      "execution_count": null,
      "outputs": [
        {
          "output_type": "display_data",
          "data": {
            "text/plain": [
              "<Figure size 800x400 with 2 Axes>"
            ],
            "image/png": "[encoded data removed]"
          },
          "metadata": {}
        }
      ]
    },
    {
      "cell_type": "markdown",
      "source": [
        "# Evaluation on test folder"
      ],
      "metadata": {
        "id": "i-dDl5d8EC4I"
      }
    },
    {
      "cell_type": "markdown",
      "source": [
        "Evaluation on the test folder by Ji"
      ],
      "metadata": {
        "id": "8z160Hfo5Ndw"
      }
    },
    {
      "cell_type": "code",
      "source": [
        "import os\n",
        "import numpy as np\n",
        "from tensorflow.keras.utils import load_img, img_to_array\n",
        "\n",
        "# Define helper function to preprocess a single image\n",
        "def preprocess_image(image_path, target_size):\n",
        "    img = load_img(image_path, target_size=target_size)  # Load image and resize\n",
        "    img_array = img_to_array(img) / 255.0               # Convert to array and rescale\n",
        "    return img_array\n",
        "\n",
        "# Load and preprocess all images from the test folder\n",
        "def load_test_images(test_path, target_size):\n",
        "    test_images = []\n",
        "    filenames = []\n",
        "    for file in os.listdir(test_path):\n",
        "        if file.lower().endswith(('.png', '.jpg', '.jpeg')):  # Supported file formats\n",
        "            file_path = os.path.join(test_path, file)\n",
        "            test_images.append(preprocess_image(file_path, target_size))\n",
        "            filenames.append(file)  # Save filenames for reference\n",
        "    return np.array(test_images), filenames\n",
        "\n",
        "# Parameters\n",
        "IMG_SIZE = (224, 224)  # Adjust to model's input size\n",
        "test_path = test_path\n",
        "\n",
        "# Load and preprocess test images\n",
        "test_images, filenames = load_test_images(test_path, target_size=IMG_SIZE)\n",
        "\n",
        "# Make Predictions\n",
        "predictions = model.predict(test_images)\n",
        "predicted_classes = np.argmax(predictions, axis=1)\n",
        "\n",
        "# Map predictions to class labels\n",
        "class_labels = train_generator.class_indices\n",
        "class_indices = {v: k for k, v in class_labels.items()}  # Reverse mapping of class indices\n",
        "predicted_labels = [class_indices[idx] for idx in predicted_classes]\n",
        "\n",
        "# Print predictions with filenames\n",
        "for file, pred, label in zip(filenames, predictions, predicted_labels):\n",
        "    confidence = np.max(pred)  # Get the highest probability (confidence score)\n",
        "    print(f\"{file}: {label} (Confidence: {confidence:.2f})\")\n",
        "\n",
        "# Prepare data for export\n",
        "results = []\n",
        "for file, pred, label in zip(filenames, predictions, predicted_labels):\n",
        "    confidence = np.max(pred)  # Get the highest probability (confidence score)\n",
        "    results.append({\"Filename\": file, \"Predicted Label\": label, \"Confidence\": confidence})\n",
        "\n",
        "# Create a DataFrame\n",
        "df_results = pd.DataFrame(results)\n",
        "\n",
        "# Save DataFrame to CSV\n",
        "output_csv_path = f\"{save_dir}/predictions.csv\"  # Specify the output file path\n",
        "df_results.to_csv(output_csv_path, index=False)\n",
        "\n",
        "print(f\"Predictions have been saved to {output_csv_path}\")"
      ],
      "metadata": {
        "colab": {
          "base_uri": "https://localhost:8080/"
        },
        "id": "4UDyiDco5Ndw",
        "outputId": "8c0ede6f-8da2-4da4-b702-68ca415b686a"
      },
      "execution_count": null,
      "outputs": [
        {
          "output_type": "stream",
          "name": "stdout",
          "text": [
            "\u001b[1m2/2\u001b[0m \u001b[32m━━━━━━━━━━━━━━━━━━━━\u001b[0m\u001b[37m\u001b[0m \u001b[1m0s\u001b[0m 149ms/step\n",
            "TomatoEarlyBlight2.JPG: Tomato___Early_blight (Confidence: 0.43)\n",
            "TomatoHealthy2.JPG: Tomato___healthy (Confidence: 0.87)\n",
            "TomatoYellowCurlVirus4.JPG: Tomato___Tomato_Yellow_Leaf_Curl_Virus (Confidence: 1.00)\n",
            "TomatoYellowCurlVirus5.JPG: Tomato___Tomato_Yellow_Leaf_Curl_Virus (Confidence: 1.00)\n",
            "TomatoEarlyBlight5.JPG: Tomato___Early_blight (Confidence: 0.76)\n",
            "TomatoEarlyBlight1.JPG: Tomato___Late_blight (Confidence: 0.71)\n",
            "TomatoHealthy4.JPG: Tomato___healthy (Confidence: 1.00)\n",
            "TomatoEarlyBlight6.JPG: Tomato___Early_blight (Confidence: 0.50)\n",
            "PotatoEarlyBlight4.JPG: Potato___Early_blight (Confidence: 0.93)\n",
            "AppleCedarRust3.JPG: Apple___Cedar_apple_rust (Confidence: 1.00)\n",
            "CornCommonRust3.JPG: Corn_(maize)___Common_rust_ (Confidence: 1.00)\n",
            "PotatoHealthy2.JPG: Potato___healthy (Confidence: 1.00)\n",
            "TomatoYellowCurlVirus3.JPG: Tomato___Tomato_Yellow_Leaf_Curl_Virus (Confidence: 1.00)\n",
            "PotatoEarlyBlight1.JPG: Potato___Early_blight (Confidence: 1.00)\n",
            "AppleScab3.JPG: Corn_(maize)___Cercospora_leaf_spot Gray_leaf_spot (Confidence: 0.30)\n",
            "TomatoYellowCurlVirus2.JPG: Tomato___Tomato_Yellow_Leaf_Curl_Virus (Confidence: 1.00)\n",
            "TomatoEarlyBlight3.JPG: Tomato___Early_blight (Confidence: 0.49)\n",
            "AppleCedarRust2.JPG: Apple___Cedar_apple_rust (Confidence: 1.00)\n",
            "CornCommonRust2.JPG: Corn_(maize)___Common_rust_ (Confidence: 1.00)\n",
            "PotatoEarlyBlight5.JPG: Potato___Early_blight (Confidence: 0.94)\n",
            "AppleScab1.JPG: Apple___Cedar_apple_rust (Confidence: 0.94)\n",
            "TomatoEarlyBlight4.JPG: Tomato___Early_blight (Confidence: 0.98)\n",
            "PotatoHealthy1.JPG: Potato___healthy (Confidence: 1.00)\n",
            "TomatoHealthy1.JPG: Tomato___healthy (Confidence: 1.00)\n",
            "PotatoEarlyBlight3.JPG: Potato___Early_blight (Confidence: 0.50)\n",
            "TomatoHealthy3.JPG: Tomato___healthy (Confidence: 1.00)\n",
            "AppleCedarRust4.JPG: Apple___Cedar_apple_rust (Confidence: 1.00)\n",
            "TomatoYellowCurlVirus1.JPG: Tomato___Tomato_Yellow_Leaf_Curl_Virus (Confidence: 1.00)\n",
            "CornCommonRust1.JPG: Corn_(maize)___Common_rust_ (Confidence: 1.00)\n",
            "AppleCedarRust1.JPG: Apple___Cedar_apple_rust (Confidence: 1.00)\n",
            "PotatoEarlyBlight2.JPG: Potato___Early_blight (Confidence: 1.00)\n",
            "AppleScab2.JPG: Apple___Apple_scab (Confidence: 0.96)\n",
            "TomatoYellowCurlVirus6.JPG: Tomato___Tomato_Yellow_Leaf_Curl_Virus (Confidence: 1.00)\n",
            "Predictions have been saved to /content/drive/MyDrive/DataScientist_Projects/predictions.csv\n"
          ]
        }
      ]
    }
  ],
  "metadata": {
    "colab": {
      "collapsed_sections": [
        "t7Fbch5o48l2",
        "gyIBlbTjt7Nt",
        "VfcHoNTswYaA",
        "hWanNpu76Gx-"
      ],
      "provenance": [],
      "machine_shape": "hm",
      "gpuType": "T4",
      "include_colab_link": true
    },
    "kernelspec": {
      "display_name": "Python 3",
      "name": "python3"
    },
    "language_info": {
      "name": "python"
    },
    "accelerator": "GPU"
  },
  "nbformat": 4,
  "nbformat_minor": 0
}