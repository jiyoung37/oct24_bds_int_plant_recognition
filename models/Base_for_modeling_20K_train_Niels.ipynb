{
  "nbformat": 4,
  "nbformat_minor": 0,
  "metadata": {
    "colab": {
      "provenance": [],
      "toc_visible": true,
      "gpuType": "T4"
    },
    "kernelspec": {
      "name": "python3",
      "display_name": "Python 3"
    },
    "language_info": {
      "name": "python"
    },
    "accelerator": "GPU"
  },
  "cells": [
    {
      "cell_type": "code",
      "execution_count": 1,
      "metadata": {
        "colab": {
          "base_uri": "https://localhost:8080/"
        },
        "collapsed": true,
        "id": "QKhi32tiwfkZ",
        "outputId": "b4f7d4a6-8712-4c66-9afb-e4e6094b5e5e"
      },
      "outputs": [
        {
          "output_type": "stream",
          "name": "stdout",
          "text": [
            "Requirement already satisfied: kagglehub in /usr/local/lib/python3.10/dist-packages (0.3.4)\n",
            "Requirement already satisfied: packaging in /usr/local/lib/python3.10/dist-packages (from kagglehub) (24.2)\n",
            "Requirement already satisfied: requests in /usr/local/lib/python3.10/dist-packages (from kagglehub) (2.32.3)\n",
            "Requirement already satisfied: tqdm in /usr/local/lib/python3.10/dist-packages (from kagglehub) (4.66.6)\n",
            "Requirement already satisfied: charset-normalizer<4,>=2 in /usr/local/lib/python3.10/dist-packages (from requests->kagglehub) (3.4.0)\n",
            "Requirement already satisfied: idna<4,>=2.5 in /usr/local/lib/python3.10/dist-packages (from requests->kagglehub) (3.10)\n",
            "Requirement already satisfied: urllib3<3,>=1.21.1 in /usr/local/lib/python3.10/dist-packages (from requests->kagglehub) (2.2.3)\n",
            "Requirement already satisfied: certifi>=2017.4.17 in /usr/local/lib/python3.10/dist-packages (from requests->kagglehub) (2024.8.30)\n",
            "Downloading from https://www.kaggle.com/api/v1/datasets/download/vipoooool/new-plant-diseases-dataset?dataset_version_number=2...\n"
          ]
        },
        {
          "output_type": "stream",
          "name": "stderr",
          "text": [
            "100%|██████████| 2.70G/2.70G [02:05<00:00, 23.1MB/s]"
          ]
        },
        {
          "output_type": "stream",
          "name": "stdout",
          "text": [
            "Extracting files...\n"
          ]
        },
        {
          "output_type": "stream",
          "name": "stderr",
          "text": [
            "\n"
          ]
        },
        {
          "output_type": "stream",
          "name": "stdout",
          "text": [
            "Path to dataset files: /root/.cache/kagglehub/datasets/vipoooool/new-plant-diseases-dataset/versions/2\n"
          ]
        }
      ],
      "source": [
        "!pip install kagglehub\n",
        "from google.colab import files\n",
        "\n",
        "import kagglehub\n",
        "\n",
        "# Download the latest version of the dataset\n",
        "path = kagglehub.dataset_download(\"vipoooool/new-plant-diseases-dataset\")\n",
        "\n",
        "print(\"Path to dataset files:\", path)"
      ]
    },
    {
      "cell_type": "code",
      "source": [
        "import os\n",
        "\n",
        "# Define the dataset path\n",
        "root_folder = \"/root/.cache/kagglehub/datasets/vipoooool/new-plant-diseases-dataset/versions/2\"\n",
        "\n",
        "data_dir = os.path.join(root_folder, 'new plant diseases dataset(augmented)/New Plant Diseases Dataset(Augmented)/')\n",
        "\n",
        "test_path = os.path.join(root_folder, 'test/test')\n",
        "train_path = os.path.join(data_dir, 'train')\n",
        "valid_path = os.path.join(data_dir, 'valid')\n",
        "\n",
        "# Count the number of folders in a directory\n",
        "def count_folders(path):\n",
        "    if os.path.exists(path):\n",
        "        return len([d for d in os.listdir(path) if os.path.isdir(os.path.join(path, d))])\n",
        "    else:\n",
        "        print(f\"Path does not exist: {path}\")\n",
        "        return 0\n",
        "\n",
        "# Count the number of files in a directory\n",
        "def count_files(path):\n",
        "    if os.path.exists(path):\n",
        "        return len([f for f in os.listdir(path) if os.path.isfile(os.path.join(path, f))])\n",
        "    else:\n",
        "        print(f\"Path does not exist: {path}\")\n",
        "        return 0\n",
        "\n",
        "# Function to count files in each folder of a given directory\n",
        "def count_files_in_folders(path):\n",
        "    if not os.path.exists(path):\n",
        "        print(f\"Path does not exist: {path}\")\n",
        "        return {}\n",
        "\n",
        "    folder_file_counts = {}\n",
        "    for folder in os.listdir(path):\n",
        "        folder_path = os.path.join(path, folder)\n",
        "        if os.path.isdir(folder_path):\n",
        "            file_count = len([f for f in os.listdir(folder_path) if os.path.isfile(os.path.join(folder_path, f))])\n",
        "            folder_file_counts[folder] = file_count\n",
        "\n",
        "    return folder_file_counts\n",
        "\n",
        "# Print counts\n",
        "print(f\"Number of folders in train_path: {count_folders(train_path)}\")\n",
        "print(f\"Number of folders in valid_path: {count_folders(valid_path)}\")\n",
        "print(f\"Number of files in test_path: {count_files(test_path)}\")\n",
        "print('-------------------------------------------------------------------')\n",
        "# Count files in each folder\n",
        "train_folder_counts = count_files_in_folders(train_path)\n",
        "valid_folder_counts = count_files_in_folders(valid_path)\n",
        "# Display results\n",
        "print(\"Files in each folder (train_path):\")\n",
        "for folder, count in train_folder_counts.items():\n",
        "    print(f\"{folder}: {count} files\")\n",
        "\n",
        "print(\"\\nFiles in each folder (valid_path):\")\n",
        "for folder, count in valid_folder_counts.items():\n",
        "    print(f\"{folder}: {count} files\")"
      ],
      "metadata": {
        "colab": {
          "base_uri": "https://localhost:8080/"
        },
        "collapsed": true,
        "id": "da9uyFyiwis-",
        "outputId": "80da6559-bc42-4c0b-d1d5-2927c1bfc808"
      },
      "execution_count": 2,
      "outputs": [
        {
          "output_type": "stream",
          "name": "stdout",
          "text": [
            "Number of folders in train_path: 38\n",
            "Number of folders in valid_path: 38\n",
            "Number of files in test_path: 33\n",
            "-------------------------------------------------------------------\n",
            "Files in each folder (train_path):\n",
            "Apple___Apple_scab: 2016 files\n",
            "Orange___Haunglongbing_(Citrus_greening): 2010 files\n",
            "Peach___healthy: 1728 files\n",
            "Apple___Cedar_apple_rust: 1760 files\n",
            "Tomato___Septoria_leaf_spot: 1745 files\n",
            "Tomato___Leaf_Mold: 1882 files\n",
            "Peach___Bacterial_spot: 1838 files\n",
            "Grape___Black_rot: 1888 files\n",
            "Tomato___healthy: 1926 files\n",
            "Cherry_(including_sour)___Powdery_mildew: 1683 files\n",
            "Corn_(maize)___Northern_Leaf_Blight: 1908 files\n",
            "Pepper,_bell___Bacterial_spot: 1913 files\n",
            "Tomato___Bacterial_spot: 1702 files\n",
            "Tomato___Tomato_mosaic_virus: 1790 files\n",
            "Potato___Early_blight: 1939 files\n",
            "Corn_(maize)___healthy: 1859 files\n",
            "Potato___healthy: 1824 files\n",
            "Apple___Black_rot: 1987 files\n",
            "Soybean___healthy: 2022 files\n",
            "Tomato___Tomato_Yellow_Leaf_Curl_Virus: 1961 files\n",
            "Grape___Esca_(Black_Measles): 1920 files\n",
            "Cherry_(including_sour)___healthy: 1826 files\n",
            "Strawberry___Leaf_scorch: 1774 files\n",
            "Pepper,_bell___healthy: 1988 files\n",
            "Raspberry___healthy: 1781 files\n",
            "Tomato___Spider_mites Two-spotted_spider_mite: 1741 files\n",
            "Apple___healthy: 2008 files\n",
            "Potato___Late_blight: 1939 files\n",
            "Tomato___Target_Spot: 1827 files\n",
            "Tomato___Late_blight: 1851 files\n",
            "Squash___Powdery_mildew: 1736 files\n",
            "Corn_(maize)___Cercospora_leaf_spot Gray_leaf_spot: 1642 files\n",
            "Tomato___Early_blight: 1920 files\n",
            "Strawberry___healthy: 1824 files\n",
            "Grape___healthy: 1692 files\n",
            "Blueberry___healthy: 1816 files\n",
            "Corn_(maize)___Common_rust_: 1907 files\n",
            "Grape___Leaf_blight_(Isariopsis_Leaf_Spot): 1722 files\n",
            "\n",
            "Files in each folder (valid_path):\n",
            "Apple___Apple_scab: 504 files\n",
            "Orange___Haunglongbing_(Citrus_greening): 503 files\n",
            "Peach___healthy: 432 files\n",
            "Apple___Cedar_apple_rust: 440 files\n",
            "Tomato___Septoria_leaf_spot: 436 files\n",
            "Tomato___Leaf_Mold: 470 files\n",
            "Peach___Bacterial_spot: 459 files\n",
            "Grape___Black_rot: 472 files\n",
            "Tomato___healthy: 481 files\n",
            "Cherry_(including_sour)___Powdery_mildew: 421 files\n",
            "Corn_(maize)___Northern_Leaf_Blight: 477 files\n",
            "Pepper,_bell___Bacterial_spot: 478 files\n",
            "Tomato___Bacterial_spot: 425 files\n",
            "Tomato___Tomato_mosaic_virus: 448 files\n",
            "Potato___Early_blight: 485 files\n",
            "Corn_(maize)___healthy: 465 files\n",
            "Potato___healthy: 456 files\n",
            "Apple___Black_rot: 497 files\n",
            "Soybean___healthy: 505 files\n",
            "Tomato___Tomato_Yellow_Leaf_Curl_Virus: 490 files\n",
            "Grape___Esca_(Black_Measles): 480 files\n",
            "Cherry_(including_sour)___healthy: 456 files\n",
            "Strawberry___Leaf_scorch: 444 files\n",
            "Pepper,_bell___healthy: 497 files\n",
            "Raspberry___healthy: 445 files\n",
            "Tomato___Spider_mites Two-spotted_spider_mite: 435 files\n",
            "Apple___healthy: 502 files\n",
            "Potato___Late_blight: 485 files\n",
            "Tomato___Target_Spot: 457 files\n",
            "Tomato___Late_blight: 463 files\n",
            "Squash___Powdery_mildew: 434 files\n",
            "Corn_(maize)___Cercospora_leaf_spot Gray_leaf_spot: 410 files\n",
            "Tomato___Early_blight: 480 files\n",
            "Strawberry___healthy: 456 files\n",
            "Grape___healthy: 423 files\n",
            "Blueberry___healthy: 454 files\n",
            "Corn_(maize)___Common_rust_: 477 files\n",
            "Grape___Leaf_blight_(Isariopsis_Leaf_Spot): 430 files\n"
          ]
        }
      ]
    },
    {
      "cell_type": "code",
      "source": [
        "import pandas as pd\n",
        "import numpy as np\n",
        "from PIL import Image\n",
        "import glob\n",
        "import os\n",
        "import shutil\n",
        "import matplotlib.pyplot as plt\n",
        "from sklearn.model_selection import train_test_split\n",
        "import tensorflow as tf\n",
        "from tensorflow.keras.models import Sequential\n",
        "from tensorflow.keras.layers import Conv2D, MaxPooling2D, Flatten, Dense\n",
        "from tensorflow.keras.preprocessing.image import ImageDataGenerator"
      ],
      "metadata": {
        "id": "SRb5EYrgwpWN"
      },
      "execution_count": 3,
      "outputs": []
    },
    {
      "cell_type": "code",
      "source": [
        "# Initialize lists\n",
        "image_paths = []\n",
        "species_labels = []\n",
        "disease_labels = []\n",
        "dataset_split = []\n",
        "\n",
        "# Function to process a dataset directory\n",
        "def process_directory(base_path, split_name):\n",
        "    for class_folder in os.listdir(base_path):\n",
        "        class_folder_path = os.path.join(base_path, class_folder)\n",
        "        if os.path.isdir(class_folder_path):\n",
        "            species, disease = class_folder.split('___')\n",
        "            for image_name in os.listdir(class_folder_path):\n",
        "                image_paths.append(os.path.join(class_folder_path, image_name))\n",
        "                species_labels.append(species)\n",
        "                disease_labels.append(disease)\n",
        "                dataset_split.append(split_name)\n",
        "\n",
        "# Process train and valid\n",
        "process_directory(train_path, 'train')\n",
        "process_directory(valid_path, 'valid')\n",
        "\n",
        "# Create DataFrame\n",
        "df = pd.DataFrame({\n",
        "    'image_path': image_paths,\n",
        "    'species': species_labels,\n",
        "    'disease': disease_labels,\n",
        "    'split': dataset_split\n",
        "})\n",
        "\n",
        "# Display first few rows\n",
        "print(df.head())"
      ],
      "metadata": {
        "colab": {
          "base_uri": "https://localhost:8080/"
        },
        "collapsed": true,
        "id": "tKZ2tbl0w2uM",
        "outputId": "cc50347d-4985-4c0a-e785-dd462d8f6a89"
      },
      "execution_count": 4,
      "outputs": [
        {
          "output_type": "stream",
          "name": "stdout",
          "text": [
            "                                          image_path species     disease  \\\n",
            "0  /root/.cache/kagglehub/datasets/vipoooool/new-...   Apple  Apple_scab   \n",
            "1  /root/.cache/kagglehub/datasets/vipoooool/new-...   Apple  Apple_scab   \n",
            "2  /root/.cache/kagglehub/datasets/vipoooool/new-...   Apple  Apple_scab   \n",
            "3  /root/.cache/kagglehub/datasets/vipoooool/new-...   Apple  Apple_scab   \n",
            "4  /root/.cache/kagglehub/datasets/vipoooool/new-...   Apple  Apple_scab   \n",
            "\n",
            "   split  \n",
            "0  train  \n",
            "1  train  \n",
            "2  train  \n",
            "3  train  \n",
            "4  train  \n"
          ]
        }
      ]
    },
    {
      "cell_type": "markdown",
      "source": [
        "Reduced training data to 20K"
      ],
      "metadata": {
        "id": "lBnJCxml2R-6"
      }
    },
    {
      "cell_type": "code",
      "source": [
        "train_df = df[df['split'] == 'train']\n",
        "\n",
        "# Calculate the desired proportion for each class\n",
        "class_proportions = train_df['species'].value_counts(normalize=True)\n",
        "\n",
        "# Calculate the number of images per class for the reduced dataset\n",
        "class_counts = (class_proportions * 20000).astype(int)\n",
        "\n",
        "# Create a new directory for the reduced dataset\n",
        "reduced_train_path = '/content/reduced_train'\n",
        "os.makedirs(reduced_train_path, exist_ok=True)\n",
        "\n",
        "# Copy images to the new directory, maintaining proportions\n",
        "for species, count in class_counts.items():\n",
        "    # Filter DataFrame for the current species\n",
        "    species_df = train_df[train_df['species'] == species]\n",
        "\n",
        "    # Randomly select 'count' images from the species\n",
        "    selected_images = species_df.sample(count, random_state=42)  # Set random_state for reproducibility\n",
        "\n",
        "    # Create a subdirectory for the species in the reduced dataset\n",
        "    species_dir = os.path.join(reduced_train_path, species)\n",
        "    os.makedirs(species_dir, exist_ok=True)\n",
        "\n",
        "    # Copy the selected images to the new subdirectory\n",
        "    for _, row in selected_images.iterrows():\n",
        "        shutil.copy(row['image_path'], species_dir)\n",
        "\n",
        "print(f\"Reduced training dataset created at: {reduced_train_path}\")"
      ],
      "metadata": {
        "colab": {
          "base_uri": "https://localhost:8080/"
        },
        "id": "vlifjyiUxNSv",
        "outputId": "628cd9df-0c0d-4b9c-befd-6a16f39d517f"
      },
      "execution_count": 5,
      "outputs": [
        {
          "output_type": "stream",
          "name": "stdout",
          "text": [
            "Reduced training dataset created at: /content/reduced_train\n"
          ]
        }
      ]
    },
    {
      "cell_type": "markdown",
      "source": [
        "LeNet model Niels"
      ],
      "metadata": {
        "id": "X9AYWo-m6v6L"
      }
    },
    {
      "cell_type": "code",
      "source": [
        "model = Sequential([\n",
        "    Conv2D(32, (3, 3), activation='relu', input_shape=(128, 128, 3)),  # Adjust input shape if needed\n",
        "    MaxPooling2D((2, 2)),\n",
        "    Conv2D(64, (3, 3), activation='relu'),\n",
        "    MaxPooling2D((2, 2)),\n",
        "    Conv2D(128, (3, 3), activation='relu'),\n",
        "    MaxPooling2D((2, 2)),\n",
        "    Flatten(),\n",
        "    Dense(128, activation='relu'),\n",
        "    Dense(len(class_counts), activation='softmax')])  # Output layer with the number of classes\n",
        "\n",
        "# Compile the model\n",
        "model.compile(optimizer='adam',\n",
        "              loss='categorical_crossentropy',\n",
        "              metrics=['accuracy'])\n",
        "\n",
        "# Data augmentation and preprocessing\n",
        "train_datagen = ImageDataGenerator(\n",
        "    rescale=1./255,\n",
        "    shear_range=0.2,\n",
        "    zoom_range=0.2,\n",
        "    width_shift_range=0.2,\n",
        "    height_shift_range=0.2,\n",
        "    horizontal_flip=True)\n",
        "\n",
        "train_generator = train_datagen.flow_from_directory(\n",
        "    reduced_train_path,\n",
        "    target_size=(128, 128),  # Adjust target size if needed\n",
        "    batch_size=32,\n",
        "    class_mode='categorical')\n",
        "\n",
        "# Training the model\n",
        "model.fit(\n",
        "    train_generator,\n",
        "    epochs=20,\n",
        "    steps_per_epoch=train_generator.samples // train_generator.batch_size)"
      ],
      "metadata": {
        "id": "5WJHtuSp6o8F",
        "colab": {
          "base_uri": "https://localhost:8080/"
        },
        "outputId": "847d469b-41b5-4d52-ae6a-74b18efb80e2"
      },
      "execution_count": 8,
      "outputs": [
        {
          "output_type": "stream",
          "name": "stderr",
          "text": [
            "/usr/local/lib/python3.10/dist-packages/keras/src/layers/convolutional/base_conv.py:107: UserWarning: Do not pass an `input_shape`/`input_dim` argument to a layer. When using Sequential models, prefer using an `Input(shape)` object as the first layer in the model instead.\n",
            "  super().__init__(activity_regularizer=activity_regularizer, **kwargs)\n"
          ]
        },
        {
          "output_type": "stream",
          "name": "stdout",
          "text": [
            "Found 19991 images belonging to 14 classes.\n",
            "Epoch 1/20\n"
          ]
        },
        {
          "output_type": "stream",
          "name": "stderr",
          "text": [
            "/usr/local/lib/python3.10/dist-packages/keras/src/trainers/data_adapters/py_dataset_adapter.py:122: UserWarning: Your `PyDataset` class should call `super().__init__(**kwargs)` in its constructor. `**kwargs` can include `workers`, `use_multiprocessing`, `max_queue_size`. Do not pass these arguments to `fit()`, as they will be ignored.\n",
            "  self._warn_if_super_not_called()\n"
          ]
        },
        {
          "output_type": "stream",
          "name": "stdout",
          "text": [
            "\u001b[1m624/624\u001b[0m \u001b[32m━━━━━━━━━━━━━━━━━━━━\u001b[0m\u001b[37m\u001b[0m \u001b[1m111s\u001b[0m 170ms/step - accuracy: 0.3476 - loss: 2.0520\n",
            "Epoch 2/20\n",
            "\u001b[1m624/624\u001b[0m \u001b[32m━━━━━━━━━━━━━━━━━━━━\u001b[0m\u001b[37m\u001b[0m \u001b[1m0s\u001b[0m 18us/step - accuracy: 0.4062 - loss: 1.4353 \n",
            "Epoch 3/20\n"
          ]
        },
        {
          "output_type": "stream",
          "name": "stderr",
          "text": [
            "/usr/lib/python3.10/contextlib.py:153: UserWarning: Your input ran out of data; interrupting training. Make sure that your dataset or generator can generate at least `steps_per_epoch * epochs` batches. You may need to use the `.repeat()` function when building your dataset.\n",
            "  self.gen.throw(typ, value, traceback)\n"
          ]
        },
        {
          "output_type": "stream",
          "name": "stdout",
          "text": [
            "\u001b[1m624/624\u001b[0m \u001b[32m━━━━━━━━━━━━━━━━━━━━\u001b[0m\u001b[37m\u001b[0m \u001b[1m134s\u001b[0m 161ms/step - accuracy: 0.6008 - loss: 1.1566\n",
            "Epoch 4/20\n",
            "\u001b[1m624/624\u001b[0m \u001b[32m━━━━━━━━━━━━━━━━━━━━\u001b[0m\u001b[37m\u001b[0m \u001b[1m0s\u001b[0m 14us/step - accuracy: 0.6562 - loss: 0.9543 \n",
            "Epoch 5/20\n",
            "\u001b[1m624/624\u001b[0m \u001b[32m━━━━━━━━━━━━━━━━━━━━\u001b[0m\u001b[37m\u001b[0m \u001b[1m107s\u001b[0m 170ms/step - accuracy: 0.7168 - loss: 0.8234\n",
            "Epoch 6/20\n",
            "\u001b[1m624/624\u001b[0m \u001b[32m━━━━━━━━━━━━━━━━━━━━\u001b[0m\u001b[37m\u001b[0m \u001b[1m0s\u001b[0m 17us/step - accuracy: 0.7500 - loss: 0.5895 \n",
            "Epoch 7/20\n",
            "\u001b[1m624/624\u001b[0m \u001b[32m━━━━━━━━━━━━━━━━━━━━\u001b[0m\u001b[37m\u001b[0m \u001b[1m105s\u001b[0m 167ms/step - accuracy: 0.7926 - loss: 0.6115\n",
            "Epoch 8/20\n",
            "\u001b[1m624/624\u001b[0m \u001b[32m━━━━━━━━━━━━━━━━━━━━\u001b[0m\u001b[37m\u001b[0m \u001b[1m0s\u001b[0m 21us/step - accuracy: 0.8750 - loss: 0.3855 \n",
            "Epoch 9/20\n",
            "\u001b[1m624/624\u001b[0m \u001b[32m━━━━━━━━━━━━━━━━━━━━\u001b[0m\u001b[37m\u001b[0m \u001b[1m138s\u001b[0m 161ms/step - accuracy: 0.8265 - loss: 0.5174\n",
            "Epoch 10/20\n",
            "\u001b[1m624/624\u001b[0m \u001b[32m━━━━━━━━━━━━━━━━━━━━\u001b[0m\u001b[37m\u001b[0m \u001b[1m0s\u001b[0m 13us/step - accuracy: 0.8438 - loss: 0.3232 \n",
            "Epoch 11/20\n",
            "\u001b[1m624/624\u001b[0m \u001b[32m━━━━━━━━━━━━━━━━━━━━\u001b[0m\u001b[37m\u001b[0m \u001b[1m106s\u001b[0m 169ms/step - accuracy: 0.8556 - loss: 0.4242\n",
            "Epoch 12/20\n",
            "\u001b[1m624/624\u001b[0m \u001b[32m━━━━━━━━━━━━━━━━━━━━\u001b[0m\u001b[37m\u001b[0m \u001b[1m0s\u001b[0m 12us/step - accuracy: 0.8438 - loss: 0.3258 \n",
            "Epoch 13/20\n",
            "\u001b[1m624/624\u001b[0m \u001b[32m━━━━━━━━━━━━━━━━━━━━\u001b[0m\u001b[37m\u001b[0m \u001b[1m102s\u001b[0m 162ms/step - accuracy: 0.8703 - loss: 0.3915\n",
            "Epoch 14/20\n",
            "\u001b[1m624/624\u001b[0m \u001b[32m━━━━━━━━━━━━━━━━━━━━\u001b[0m\u001b[37m\u001b[0m \u001b[1m0s\u001b[0m 13us/step - accuracy: 0.8750 - loss: 0.2642 \n",
            "Epoch 15/20\n",
            "\u001b[1m624/624\u001b[0m \u001b[32m━━━━━━━━━━━━━━━━━━━━\u001b[0m\u001b[37m\u001b[0m \u001b[1m141s\u001b[0m 162ms/step - accuracy: 0.8933 - loss: 0.3205\n",
            "Epoch 16/20\n",
            "\u001b[1m624/624\u001b[0m \u001b[32m━━━━━━━━━━━━━━━━━━━━\u001b[0m\u001b[37m\u001b[0m \u001b[1m0s\u001b[0m 12us/step - accuracy: 0.9062 - loss: 0.2427 \n",
            "Epoch 17/20\n",
            "\u001b[1m624/624\u001b[0m \u001b[32m━━━━━━━━━━━━━━━━━━━━\u001b[0m\u001b[37m\u001b[0m \u001b[1m143s\u001b[0m 164ms/step - accuracy: 0.9085 - loss: 0.2692\n",
            "Epoch 18/20\n",
            "\u001b[1m624/624\u001b[0m \u001b[32m━━━━━━━━━━━━━━━━━━━━\u001b[0m\u001b[37m\u001b[0m \u001b[1m0s\u001b[0m 12us/step - accuracy: 0.9688 - loss: 0.1073 \n",
            "Epoch 19/20\n",
            "\u001b[1m624/624\u001b[0m \u001b[32m━━━━━━━━━━━━━━━━━━━━\u001b[0m\u001b[37m\u001b[0m \u001b[1m105s\u001b[0m 166ms/step - accuracy: 0.9117 - loss: 0.2717\n",
            "Epoch 20/20\n",
            "\u001b[1m624/624\u001b[0m \u001b[32m━━━━━━━━━━━━━━━━━━━━\u001b[0m\u001b[37m\u001b[0m \u001b[1m0s\u001b[0m 12us/step - accuracy: 0.9062 - loss: 0.2705 \n"
          ]
        },
        {
          "output_type": "execute_result",
          "data": {
            "text/plain": [
              "<keras.src.callbacks.history.History at 0x7d51bfbafbe0>"
            ]
          },
          "metadata": {},
          "execution_count": 8
        }
      ]
    },
    {
      "cell_type": "code",
      "source": [
        "history = model.history\n",
        "\n",
        "# Plot training accuracy values\n",
        "plt.figure(figsize=(10, 5))\n",
        "plt.subplot(1, 2, 1)\n",
        "plt.plot(history.history['accuracy'])\n",
        "plt.title('Model accuracy')\n",
        "plt.ylabel('Accuracy')\n",
        "plt.xlabel('Epoch')\n",
        "\n",
        "# Plot training loss values\n",
        "plt.subplot(1, 2, 2)\n",
        "plt.plot(history.history['loss'])\n",
        "plt.title('Model loss')\n",
        "plt.ylabel('Loss')\n",
        "plt.xlabel('Epoch')\n",
        "\n",
        "plt.tight_layout()\n",
        "plt.show()"
      ],
      "metadata": {
        "colab": {
          "base_uri": "https://localhost:8080/",
          "height": 507
        },
        "id": "SjdTXwzasWli",
        "outputId": "d064fb51-0a45-4749-c794-707e1a6fb628"
      },
      "execution_count": 9,
      "outputs": [
        {
          "output_type": "display_data",
          "data": {
            "text/plain": [
              "<Figure size 1000x500 with 2 Axes>"
            ],
            "image/png": "[encoded data removed]"
          },
          "metadata": {}
        }
      ]
    },
    {
      "cell_type": "code",
      "source": [],
      "metadata": {
        "id": "vXJFY1Q-sX0_"
      },
      "execution_count": null,
      "outputs": []
    }
  ]
}