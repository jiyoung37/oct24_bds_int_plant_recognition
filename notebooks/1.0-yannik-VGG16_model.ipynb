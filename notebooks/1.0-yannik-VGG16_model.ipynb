{
 "cells": [
  {
   "cell_type": "markdown",
   "metadata": {},
   "source": [
    "# 1. Import and path setting\n",
    "Installing Kagglehub and downloading dataset via Kaggle API"
   ]
  },
  {
   "cell_type": "code",
   "execution_count": 1,
   "metadata": {},
   "outputs": [
    {
     "name": "stderr",
     "output_type": "stream",
     "text": [
      "/Users/yannik/anaconda3/envs/keras_env/lib/python3.8/site-packages/tqdm/auto.py:21: TqdmWarning: IProgress not found. Please update jupyter and ipywidgets. See https://ipywidgets.readthedocs.io/en/stable/user_install.html\n",
      "  from .autonotebook import tqdm as notebook_tqdm\n"
     ]
    },
    {
     "name": "stdout",
     "output_type": "stream",
     "text": [
      "Warning: Looks like you're using an outdated `kagglehub` version, please consider updating (latest version: 0.3.5)\n",
      "Path to dataset files: /Users/yannik/.cache/kagglehub/datasets/vipoooool/new-plant-diseases-dataset/versions/2\n"
     ]
    }
   ],
   "source": [
    "import kagglehub\n",
    "\n",
    "# Download latest version\n",
    "path = kagglehub.dataset_download(\"vipoooool/new-plant-diseases-dataset\")\n",
    "\n",
    "print(\"Path to dataset files:\", path)"
   ]
  },
  {
   "cell_type": "markdown",
   "metadata": {},
   "source": [
    "Defining the paths to training, validation, and testing folder. Counting the number of folders and files."
   ]
  },
  {
   "cell_type": "code",
   "execution_count": 2,
   "metadata": {},
   "outputs": [
    {
     "name": "stdout",
     "output_type": "stream",
     "text": [
      "Number of folders in train_path: 38\n",
      "Number of folders in valid_path: 38\n",
      "Number of files in test_path: 33\n",
      "-------------------------------------------------------------------\n",
      "Files in each folder (train_path):\n",
      "Strawberry___healthy: 1824 files\n",
      "Grape___Black_rot: 1888 files\n",
      "Potato___Early_blight: 1939 files\n",
      "Blueberry___healthy: 1816 files\n",
      "Corn_(maize)___healthy: 1859 files\n",
      "Tomato___Target_Spot: 1827 files\n",
      "Peach___healthy: 1728 files\n",
      "Potato___Late_blight: 1939 files\n",
      "Tomato___Late_blight: 1851 files\n",
      "Tomato___Tomato_mosaic_virus: 1790 files\n",
      "Pepper,_bell___healthy: 1988 files\n",
      "Orange___Haunglongbing_(Citrus_greening): 2010 files\n",
      "Tomato___Leaf_Mold: 1882 files\n",
      "Grape___Leaf_blight_(Isariopsis_Leaf_Spot): 1722 files\n",
      "Cherry_(including_sour)___Powdery_mildew: 1683 files\n",
      "Apple___Cedar_apple_rust: 1760 files\n",
      "Tomato___Bacterial_spot: 1702 files\n",
      "Grape___healthy: 1692 files\n",
      "Tomato___Early_blight: 1920 files\n",
      "Corn_(maize)___Common_rust_: 1907 files\n",
      "Grape___Esca_(Black_Measles): 1920 files\n",
      "Raspberry___healthy: 1781 files\n",
      "Tomato___healthy: 1926 files\n",
      "Cherry_(including_sour)___healthy: 1826 files\n",
      "Tomato___Tomato_Yellow_Leaf_Curl_Virus: 1961 files\n",
      "Apple___Apple_scab: 2016 files\n",
      "Corn_(maize)___Northern_Leaf_Blight: 1908 files\n",
      "Tomato___Spider_mites Two-spotted_spider_mite: 1741 files\n",
      "Peach___Bacterial_spot: 1838 files\n",
      "Pepper,_bell___Bacterial_spot: 1913 files\n",
      "Tomato___Septoria_leaf_spot: 1745 files\n",
      "Squash___Powdery_mildew: 1736 files\n",
      "Corn_(maize)___Cercospora_leaf_spot Gray_leaf_spot: 1642 files\n",
      "Apple___Black_rot: 1987 files\n",
      "Apple___healthy: 2008 files\n",
      "Strawberry___Leaf_scorch: 1774 files\n",
      "Potato___healthy: 1824 files\n",
      "Soybean___healthy: 2022 files\n",
      "\n",
      "Files in each folder (valid_path):\n",
      "Strawberry___healthy: 456 files\n",
      "Grape___Black_rot: 472 files\n",
      "Potato___Early_blight: 485 files\n",
      "Blueberry___healthy: 454 files\n",
      "Corn_(maize)___healthy: 465 files\n",
      "Tomato___Target_Spot: 457 files\n",
      "Peach___healthy: 432 files\n",
      "Potato___Late_blight: 485 files\n",
      "Tomato___Late_blight: 463 files\n",
      "Tomato___Tomato_mosaic_virus: 448 files\n",
      "Pepper,_bell___healthy: 497 files\n",
      "Orange___Haunglongbing_(Citrus_greening): 503 files\n",
      "Tomato___Leaf_Mold: 470 files\n",
      "Grape___Leaf_blight_(Isariopsis_Leaf_Spot): 430 files\n",
      "Cherry_(including_sour)___Powdery_mildew: 421 files\n",
      "Apple___Cedar_apple_rust: 440 files\n",
      "Tomato___Bacterial_spot: 425 files\n",
      "Grape___healthy: 423 files\n",
      "Tomato___Early_blight: 480 files\n",
      "Corn_(maize)___Common_rust_: 477 files\n",
      "Grape___Esca_(Black_Measles): 480 files\n",
      "Raspberry___healthy: 445 files\n",
      "Tomato___healthy: 481 files\n",
      "Cherry_(including_sour)___healthy: 456 files\n",
      "Tomato___Tomato_Yellow_Leaf_Curl_Virus: 490 files\n",
      "Apple___Apple_scab: 504 files\n",
      "Corn_(maize)___Northern_Leaf_Blight: 477 files\n",
      "Tomato___Spider_mites Two-spotted_spider_mite: 435 files\n",
      "Peach___Bacterial_spot: 459 files\n",
      "Pepper,_bell___Bacterial_spot: 478 files\n",
      "Tomato___Septoria_leaf_spot: 436 files\n",
      "Squash___Powdery_mildew: 434 files\n",
      "Corn_(maize)___Cercospora_leaf_spot Gray_leaf_spot: 410 files\n",
      "Apple___Black_rot: 497 files\n",
      "Apple___healthy: 502 files\n",
      "Strawberry___Leaf_scorch: 444 files\n",
      "Potato___healthy: 456 files\n",
      "Soybean___healthy: 505 files\n"
     ]
    }
   ],
   "source": [
    "import os\n",
    "\n",
    "# Define the dataset path\n",
    "root_folder = \"/Users/yannik/.cache/kagglehub/datasets/vipoooool/new-plant-diseases-dataset/versions/2\"\n",
    "\n",
    "data_dir = os.path.join(root_folder, 'new plant diseases dataset(augmented)/New Plant Diseases Dataset(Augmented)/')\n",
    "\n",
    "test_path = os.path.join(root_folder, 'test/test')\n",
    "train_path = os.path.join(data_dir, 'train')\n",
    "valid_path = os.path.join(data_dir, 'valid')\n",
    "\n",
    "# Count the number of folders in a directory\n",
    "def count_folders(path):\n",
    "    if os.path.exists(path):\n",
    "        return len([d for d in os.listdir(path) if os.path.isdir(os.path.join(path, d))])\n",
    "    else:\n",
    "        print(f\"Path does not exist: {path}\")\n",
    "        return 0\n",
    "\n",
    "# Count the number of files in a directory\n",
    "def count_files(path):\n",
    "    if os.path.exists(path):\n",
    "        return len([f for f in os.listdir(path) if os.path.isfile(os.path.join(path, f))])\n",
    "    else:\n",
    "        print(f\"Path does not exist: {path}\")\n",
    "        return 0\n",
    "\n",
    "# Function to count files in each folder of a given directory\n",
    "def count_files_in_folders(path):\n",
    "    if not os.path.exists(path):\n",
    "        print(f\"Path does not exist: {path}\")\n",
    "        return {}\n",
    "\n",
    "    folder_file_counts = {}\n",
    "    for folder in os.listdir(path):\n",
    "        folder_path = os.path.join(path, folder)\n",
    "        if os.path.isdir(folder_path):\n",
    "            file_count = len([f for f in os.listdir(folder_path) if os.path.isfile(os.path.join(folder_path, f))])\n",
    "            folder_file_counts[folder] = file_count\n",
    "\n",
    "    return folder_file_counts\n",
    "\n",
    "# Print counts\n",
    "print(f\"Number of folders in train_path: {count_folders(train_path)}\")\n",
    "print(f\"Number of folders in valid_path: {count_folders(valid_path)}\")\n",
    "print(f\"Number of files in test_path: {count_files(test_path)}\")\n",
    "print('-------------------------------------------------------------------')\n",
    "# Count files in each folder\n",
    "train_folder_counts = count_files_in_folders(train_path)\n",
    "valid_folder_counts = count_files_in_folders(valid_path)\n",
    "# Display results\n",
    "print(\"Files in each folder (train_path):\")\n",
    "for folder, count in train_folder_counts.items():\n",
    "    print(f\"{folder}: {count} files\")\n",
    "\n",
    "print(\"\\nFiles in each folder (valid_path):\")\n",
    "for folder, count in valid_folder_counts.items():\n",
    "    print(f\"{folder}: {count} files\")"
   ]
  },
  {
   "cell_type": "markdown",
   "metadata": {},
   "source": [
    "Importing all libraries"
   ]
  },
  {
   "cell_type": "code",
   "execution_count": 47,
   "metadata": {},
   "outputs": [],
   "source": [
    "from tensorflow.keras.backend import clear_session\n",
    "\n",
    "clear_session()"
   ]
  },
  {
   "cell_type": "code",
   "execution_count": 28,
   "metadata": {},
   "outputs": [],
   "source": [
    "import pandas as pd\n",
    "import numpy as np\n",
    "import matplotlib.pyplot as plt\n",
    "import seaborn as sns\n",
    "import PIL\n",
    "import scipy\n",
    "\n",
    "import tensorflow as tf\n",
    "from tensorflow.keras.preprocessing.image import ImageDataGenerator\n",
    "from keras.preprocessing.image import load_img, img_to_array\n",
    "from tensorflow.keras.models import Sequential\n",
    "from tensorflow.keras.layers import Conv2D, MaxPooling2D, Flatten, Dense, Dropout, GlobalAveragePooling2D\n",
    "from tensorflow.keras.callbacks import EarlyStopping, ReduceLROnPlateau, ModelCheckpoint\n",
    "from keras.models import load_model\n",
    "from tensorflow.keras.applications.vgg16 import VGG16"
   ]
  },
  {
   "cell_type": "markdown",
   "metadata": {},
   "source": [
    "# 2 First training session"
   ]
  },
  {
   "cell_type": "code",
   "execution_count": 6,
   "metadata": {},
   "outputs": [
    {
     "name": "stdout",
     "output_type": "stream",
     "text": [
      "Found 70295 images belonging to 38 classes.\n",
      "Found 17572 images belonging to 38 classes.\n"
     ]
    },
    {
     "name": "stderr",
     "output_type": "stream",
     "text": [
      "2024-12-13 21:22:24.157367: I metal_plugin/src/device/metal_device.cc:1154] Metal device set to: Apple M2\n",
      "2024-12-13 21:22:24.157396: I metal_plugin/src/device/metal_device.cc:296] systemMemory: 8.00 GB\n",
      "2024-12-13 21:22:24.157404: I metal_plugin/src/device/metal_device.cc:313] maxCacheSize: 2.67 GB\n",
      "2024-12-13 21:22:24.158022: I tensorflow/core/common_runtime/pluggable_device/pluggable_device_factory.cc:303] Could not identify NUMA node of platform GPU ID 0, defaulting to 0. Your kernel may not have been built with NUMA support.\n",
      "2024-12-13 21:22:24.158290: I tensorflow/core/common_runtime/pluggable_device/pluggable_device_factory.cc:269] Created TensorFlow device (/job:localhost/replica:0/task:0/device:GPU:0 with 0 MB memory) -> physical PluggableDevice (device: 0, name: METAL, pci bus id: <undefined>)\n"
     ]
    },
    {
     "name": "stdout",
     "output_type": "stream",
     "text": [
      "A local file was found, but it seems to be incomplete or outdated because the auto file hash does not match the original value of 6d6bbae143d832006294945121d1f1fc so we will re-download the data.\n",
      "Downloading data from https://storage.googleapis.com/tensorflow/keras-applications/vgg16/vgg16_weights_tf_dim_ordering_tf_kernels_notop.h5\n",
      "58889256/58889256 [==============================] - 45s 1us/step\n"
     ]
    }
   ],
   "source": [
    "# Define the image generators for the training and validation set\n",
    "\n",
    "batch_size = 32\n",
    "num_classes = 38\n",
    "img_size = (256, 256)\n",
    "\n",
    "train_datagen = ImageDataGenerator(rescale=1./255,\n",
    "                                   shear_range=0.2,\n",
    "                                   zoom_range=0.2,\n",
    "                                   rotation_range=20,\n",
    "                                   width_shift_range=0.2,\n",
    "                                   height_shift_range=0.2,\n",
    "                                   horizontal_flip=True)\n",
    "validation_datagen = ImageDataGenerator(rescale=1./255)\n",
    "\n",
    "train_generator = train_datagen.flow_from_directory(\n",
    "    train_path,\n",
    "    target_size=img_size,\n",
    "    batch_size=batch_size,\n",
    "    class_mode='categorical',\n",
    "    shuffle=True)  # randomize the order of the samples to avoid overfitting\n",
    "\n",
    "validation_generator = validation_datagen.flow_from_directory(\n",
    "    valid_path,\n",
    "    target_size=img_size,\n",
    "    batch_size=batch_size,\n",
    "    class_mode='categorical',\n",
    "    shuffle=True)  # randomize the order of the samples to avoid overfitting\n",
    "\n",
    "# Import the VGG16 model as a base line\n",
    "base_model = VGG16(weights=\"imagenet\", include_top=False)\n",
    "\n",
    "# base_model.trainable = False  #  freeze base model layers\n",
    "for layer in base_model.layers:\n",
    "    layer.trainable = False\n",
    "\n",
    "# Add custom layers for classification part \n",
    "model = Sequential()\n",
    "model.add(base_model)\n",
    "model.add(GlobalAveragePooling2D())\n",
    "model.add(Dense(1024, activation=\"relu\"))\n",
    "model.add(Dropout(rate=0.2))\n",
    "model.add(Dense(512, activation=\"relu\"))\n",
    "model.add(Dropout(rate=0.2))\n",
    "model.add(Dense(num_classes, activation=\"softmax\"))\n",
    "\n",
    "model.compile(optimizer='adam', loss='categorical_crossentropy', metrics=['accuracy'])"
   ]
  },
  {
   "cell_type": "code",
   "execution_count": 7,
   "metadata": {},
   "outputs": [
    {
     "name": "stdout",
     "output_type": "stream",
     "text": [
      "WARNING:tensorflow:`period` argument is deprecated. Please use `save_freq` to specify the frequency in number of batches seen.\n"
     ]
    }
   ],
   "source": [
    "# Early Stopping\n",
    "early_stopping = EarlyStopping(\n",
    "    monitor='val_accuracy',\n",
    "    patience=10,\n",
    "    restore_best_weights=True,\n",
    "    verbose=1\n",
    ")\n",
    "\n",
    "# ReduceLROnPlateau\n",
    "reduce_lr = ReduceLROnPlateau(\n",
    "    monitor='val_loss',\n",
    "    factor=0.2,\n",
    "    patience=5,\n",
    "    min_lr=1e-7,\n",
    "    verbose=1\n",
    ")\n",
    "\n",
    "# Save model every 10 epochs\n",
    "checkpoint_periodic = ModelCheckpoint(\n",
    "    'model_VGG16_epoch_{epoch:02d}.h5',\n",
    "    save_freq='epoch',\n",
    "    period=10,\n",
    "    save_best_only=False,\n",
    "    verbose=1\n",
    ")\n",
    "\n",
    "# Save model with best accuracy\n",
    "checkpoint_best = ModelCheckpoint(\n",
    "    'model_VGG16_best_accuracy.h5',\n",
    "    monitor='val_accuracy',\n",
    "    save_best_only=True,\n",
    "    mode='max',\n",
    "    verbose=1\n",
    ")\n",
    "\n",
    "# Combine all callbacks\n",
    "callbacks = [early_stopping, reduce_lr, checkpoint_periodic, checkpoint_best]"
   ]
  },
  {
   "cell_type": "code",
   "execution_count": 8,
   "metadata": {},
   "outputs": [
    {
     "name": "stdout",
     "output_type": "stream",
     "text": [
      "Epoch 1/10\n"
     ]
    },
    {
     "name": "stderr",
     "output_type": "stream",
     "text": [
      "2024-12-13 21:23:49.607091: I tensorflow/core/grappler/optimizers/custom_graph_optimizer_registry.cc:114] Plugin optimizer for device_type GPU is enabled.\n"
     ]
    },
    {
     "name": "stdout",
     "output_type": "stream",
     "text": [
      "2196/2196 [==============================] - ETA: 0s - loss: 1.3819 - accuracy: 0.5950"
     ]
    },
    {
     "name": "stderr",
     "output_type": "stream",
     "text": [
      "2024-12-13 21:44:02.254942: I tensorflow/core/grappler/optimizers/custom_graph_optimizer_registry.cc:114] Plugin optimizer for device_type GPU is enabled.\n"
     ]
    },
    {
     "name": "stdout",
     "output_type": "stream",
     "text": [
      "\n",
      "Epoch 1: val_accuracy improved from -inf to 0.76577, saving model to model_VGG16_best_accuracy.h5\n",
      "2196/2196 [==============================] - 1530s 696ms/step - loss: 1.3819 - accuracy: 0.5950 - val_loss: 0.8093 - val_accuracy: 0.7658 - lr: 0.0010\n"
     ]
    },
    {
     "name": "stderr",
     "output_type": "stream",
     "text": [
      "/Users/yannik/anaconda3/envs/keras_env/lib/python3.8/site-packages/keras/src/engine/training.py:3000: UserWarning: You are saving your model as an HDF5 file via `model.save()`. This file format is considered legacy. We recommend using instead the native Keras format, e.g. `model.save('my_model.keras')`.\n",
      "  saving_api.save_model(\n"
     ]
    },
    {
     "name": "stdout",
     "output_type": "stream",
     "text": [
      "Epoch 2/10\n",
      "2196/2196 [==============================] - ETA: 0s - loss: 1.0782 - accuracy: 0.7305\n",
      "Epoch 2: val_accuracy improved from 0.76577 to 0.79554, saving model to model_VGG16_best_accuracy.h5\n",
      "2196/2196 [==============================] - 1801s 820ms/step - loss: 1.0782 - accuracy: 0.7305 - val_loss: 0.8034 - val_accuracy: 0.7955 - lr: 0.0010\n",
      "Epoch 3/10\n",
      "2196/2196 [==============================] - ETA: 0s - loss: 1.2203 - accuracy: 0.7488\n",
      "Epoch 3: val_accuracy improved from 0.79554 to 0.82275, saving model to model_VGG16_best_accuracy.h5\n",
      "2196/2196 [==============================] - 1831s 834ms/step - loss: 1.2203 - accuracy: 0.7488 - val_loss: 0.7989 - val_accuracy: 0.8227 - lr: 0.0010\n",
      "Epoch 4/10\n",
      "2196/2196 [==============================] - ETA: 0s - loss: 1.4426 - accuracy: 0.7532\n",
      "Epoch 4: val_accuracy did not improve from 0.82275\n",
      "2196/2196 [==============================] - 1824s 831ms/step - loss: 1.4426 - accuracy: 0.7532 - val_loss: 1.3689 - val_accuracy: 0.7733 - lr: 0.0010\n",
      "Epoch 5/10\n",
      "2196/2196 [==============================] - ETA: 0s - loss: 1.5795 - accuracy: 0.7630\n",
      "Epoch 5: val_accuracy did not improve from 0.82275\n",
      "2196/2196 [==============================] - 1811s 825ms/step - loss: 1.5795 - accuracy: 0.7630 - val_loss: 1.2170 - val_accuracy: 0.8148 - lr: 0.0010\n",
      "Epoch 6/10\n",
      "2196/2196 [==============================] - ETA: 0s - loss: 1.7742 - accuracy: 0.7693\n",
      "Epoch 6: val_accuracy did not improve from 0.82275\n",
      "2196/2196 [==============================] - 1878s 855ms/step - loss: 1.7742 - accuracy: 0.7693 - val_loss: 1.9592 - val_accuracy: 0.7668 - lr: 0.0010\n",
      "Epoch 7/10\n",
      "2196/2196 [==============================] - ETA: 0s - loss: 1.9807 - accuracy: 0.7719\n",
      "Epoch 7: val_accuracy improved from 0.82275 to 0.82758, saving model to model_VGG16_best_accuracy.h5\n",
      "2196/2196 [==============================] - 1789s 815ms/step - loss: 1.9807 - accuracy: 0.7719 - val_loss: 1.3584 - val_accuracy: 0.8276 - lr: 0.0010\n",
      "Epoch 8/10\n",
      "2196/2196 [==============================] - ETA: 0s - loss: 2.1895 - accuracy: 0.7752\n",
      "Epoch 8: ReduceLROnPlateau reducing learning rate to 0.00020000000949949026.\n",
      "\n",
      "Epoch 8: val_accuracy did not improve from 0.82758\n",
      "2196/2196 [==============================] - 1757s 800ms/step - loss: 2.1895 - accuracy: 0.7752 - val_loss: 1.6669 - val_accuracy: 0.8196 - lr: 0.0010\n",
      "Epoch 9/10\n",
      "2196/2196 [==============================] - ETA: 0s - loss: 1.1133 - accuracy: 0.8502\n",
      "Epoch 9: val_accuracy improved from 0.82758 to 0.87238, saving model to model_VGG16_best_accuracy.h5\n",
      "2196/2196 [==============================] - 1750s 797ms/step - loss: 1.1133 - accuracy: 0.8502 - val_loss: 0.8451 - val_accuracy: 0.8724 - lr: 2.0000e-04\n",
      "Epoch 10/10\n",
      "2196/2196 [==============================] - ETA: 0s - loss: 0.9844 - accuracy: 0.8520\n",
      "Epoch 10: saving model to model_VGG16_epoch_10.h5\n",
      "\n",
      "Epoch 10: val_accuracy improved from 0.87238 to 0.87944, saving model to model_VGG16_best_accuracy.h5\n",
      "2196/2196 [==============================] - 1744s 794ms/step - loss: 0.9844 - accuracy: 0.8520 - val_loss: 0.7053 - val_accuracy: 0.8794 - lr: 2.0000e-04\n"
     ]
    }
   ],
   "source": [
    "# Training the model on my GPU cores\n",
    "\n",
    "with tf.device('/device:GPU:0'):\n",
    "    history_0 = model.fit(train_generator,\n",
    "            steps_per_epoch=train_generator.samples // batch_size,\n",
    "            epochs=10,\n",
    "            validation_data=validation_generator,\n",
    "            validation_steps=validation_generator.samples // batch_size,\n",
    "            callbacks=callbacks)"
   ]
  },
  {
   "cell_type": "code",
   "execution_count": 10,
   "metadata": {},
   "outputs": [],
   "source": [
    "# Unfreeze the last 4 layers of the base model\n",
    "for layer in base_model.layers[-4:]:\n",
    "    layer.trainable = True\n",
    "\n",
    "# Compile with a lower learning rate for fine-tuning\n",
    "model.compile(optimizer=tf.keras.optimizers.legacy.Adam(learning_rate=1e-4),\n",
    "              loss='categorical_crossentropy',\n",
    "              metrics=['accuracy'])"
   ]
  },
  {
   "cell_type": "code",
   "execution_count": 11,
   "metadata": {},
   "outputs": [
    {
     "name": "stdout",
     "output_type": "stream",
     "text": [
      "Epoch 1/5\n"
     ]
    },
    {
     "name": "stderr",
     "output_type": "stream",
     "text": [
      "2024-12-14 04:54:52.728929: I tensorflow/core/grappler/optimizers/custom_graph_optimizer_registry.cc:114] Plugin optimizer for device_type GPU is enabled.\n"
     ]
    },
    {
     "name": "stdout",
     "output_type": "stream",
     "text": [
      "2196/2196 [==============================] - ETA: 0s - loss: 0.8356 - accuracy: 0.8614"
     ]
    },
    {
     "name": "stderr",
     "output_type": "stream",
     "text": [
      "2024-12-14 05:13:20.108657: I tensorflow/core/grappler/optimizers/custom_graph_optimizer_registry.cc:114] Plugin optimizer for device_type GPU is enabled.\n"
     ]
    },
    {
     "name": "stdout",
     "output_type": "stream",
     "text": [
      "\n",
      "Epoch 1: val_accuracy did not improve from 0.87944\n",
      "2196/2196 [==============================] - 1397s 635ms/step - loss: 0.8356 - accuracy: 0.8614 - val_loss: 0.7026 - val_accuracy: 0.8772 - lr: 1.0000e-04\n",
      "Epoch 2/5\n",
      "2196/2196 [==============================] - ETA: 0s - loss: 0.7863 - accuracy: 0.8626\n",
      "Epoch 2: val_accuracy improved from 0.87944 to 0.88775, saving model to model_VGG16_best_accuracy.h5\n"
     ]
    },
    {
     "name": "stderr",
     "output_type": "stream",
     "text": [
      "/Users/yannik/anaconda3/envs/keras_env/lib/python3.8/site-packages/keras/src/engine/training.py:3000: UserWarning: You are saving your model as an HDF5 file via `model.save()`. This file format is considered legacy. We recommend using instead the native Keras format, e.g. `model.save('my_model.keras')`.\n",
      "  saving_api.save_model(\n"
     ]
    },
    {
     "name": "stdout",
     "output_type": "stream",
     "text": [
      "2196/2196 [==============================] - 1654s 753ms/step - loss: 0.7863 - accuracy: 0.8626 - val_loss: 0.6121 - val_accuracy: 0.8878 - lr: 1.0000e-04\n",
      "Epoch 3/5\n",
      "2196/2196 [==============================] - ETA: 0s - loss: 0.7704 - accuracy: 0.8632\n",
      "Epoch 3: val_accuracy improved from 0.88775 to 0.88821, saving model to model_VGG16_best_accuracy.h5\n",
      "2196/2196 [==============================] - 1702s 775ms/step - loss: 0.7704 - accuracy: 0.8632 - val_loss: 0.5596 - val_accuracy: 0.8882 - lr: 1.0000e-04\n",
      "Epoch 4/5\n",
      "2196/2196 [==============================] - ETA: 0s - loss: 0.7591 - accuracy: 0.8622\n",
      "Epoch 4: val_accuracy did not improve from 0.88821\n",
      "2196/2196 [==============================] - 1706s 777ms/step - loss: 0.7591 - accuracy: 0.8622 - val_loss: 0.6857 - val_accuracy: 0.8708 - lr: 1.0000e-04\n",
      "Epoch 5/5\n",
      "2196/2196 [==============================] - ETA: 0s - loss: 0.7503 - accuracy: 0.8603\n",
      "Epoch 5: val_accuracy did not improve from 0.88821\n",
      "2196/2196 [==============================] - 1713s 780ms/step - loss: 0.7503 - accuracy: 0.8603 - val_loss: 0.5978 - val_accuracy: 0.8817 - lr: 1.0000e-04\n"
     ]
    }
   ],
   "source": [
    "# Training the model on my GPU cores\n",
    "\n",
    "with tf.device('/device:GPU:0'):\n",
    "    history_1 = model.fit(train_generator,\n",
    "            steps_per_epoch=train_generator.samples // batch_size,\n",
    "            epochs=5,\n",
    "            validation_data=validation_generator,\n",
    "            validation_steps=validation_generator.samples // batch_size,\n",
    "            callbacks=callbacks)"
   ]
  },
  {
   "cell_type": "code",
   "execution_count": 12,
   "metadata": {},
   "outputs": [],
   "source": [
    "# Unfreeze the last 10 layers of the base model\n",
    "for layer in base_model.layers[-10:]:\n",
    "    layer.trainable = True\n",
    "\n",
    "# Compile with a lower learning rate for fine-tuning\n",
    "model.compile(optimizer=tf.keras.optimizers.legacy.Adam(learning_rate=1e-4),\n",
    "              loss='categorical_crossentropy',\n",
    "              metrics=['accuracy'])"
   ]
  },
  {
   "cell_type": "code",
   "execution_count": 13,
   "metadata": {},
   "outputs": [
    {
     "name": "stdout",
     "output_type": "stream",
     "text": [
      "Epoch 1/5\n"
     ]
    },
    {
     "name": "stderr",
     "output_type": "stream",
     "text": [
      "2024-12-14 08:37:29.184397: I tensorflow/core/grappler/optimizers/custom_graph_optimizer_registry.cc:114] Plugin optimizer for device_type GPU is enabled.\n"
     ]
    },
    {
     "name": "stdout",
     "output_type": "stream",
     "text": [
      "2196/2196 [==============================] - ETA: 0s - loss: 0.7333 - accuracy: 0.8620"
     ]
    },
    {
     "name": "stderr",
     "output_type": "stream",
     "text": [
      "2024-12-14 08:56:06.555159: I tensorflow/core/grappler/optimizers/custom_graph_optimizer_registry.cc:114] Plugin optimizer for device_type GPU is enabled.\n"
     ]
    },
    {
     "name": "stdout",
     "output_type": "stream",
     "text": [
      "\n",
      "Epoch 1: val_accuracy did not improve from 0.88821\n",
      "2196/2196 [==============================] - 1415s 644ms/step - loss: 0.7333 - accuracy: 0.8620 - val_loss: 0.6892 - val_accuracy: 0.8704 - lr: 1.0000e-04\n",
      "Epoch 2/5\n",
      "2196/2196 [==============================] - ETA: 0s - loss: 0.7249 - accuracy: 0.8610\n",
      "Epoch 2: val_accuracy improved from 0.88821 to 0.88895, saving model to model_VGG16_best_accuracy.h5\n",
      "2196/2196 [==============================] - 1658s 755ms/step - loss: 0.7249 - accuracy: 0.8610 - val_loss: 0.5360 - val_accuracy: 0.8889 - lr: 1.0000e-04\n"
     ]
    },
    {
     "name": "stderr",
     "output_type": "stream",
     "text": [
      "/Users/yannik/anaconda3/envs/keras_env/lib/python3.8/site-packages/keras/src/engine/training.py:3000: UserWarning: You are saving your model as an HDF5 file via `model.save()`. This file format is considered legacy. We recommend using instead the native Keras format, e.g. `model.save('my_model.keras')`.\n",
      "  saving_api.save_model(\n"
     ]
    },
    {
     "name": "stdout",
     "output_type": "stream",
     "text": [
      "Epoch 3/5\n",
      "2196/2196 [==============================] - ETA: 0s - loss: 0.7250 - accuracy: 0.8597\n",
      "Epoch 3: val_accuracy did not improve from 0.88895\n",
      "2196/2196 [==============================] - 1723s 785ms/step - loss: 0.7250 - accuracy: 0.8597 - val_loss: 0.6669 - val_accuracy: 0.8630 - lr: 1.0000e-04\n",
      "Epoch 4/5\n",
      "2196/2196 [==============================] - ETA: 0s - loss: 0.7207 - accuracy: 0.8580\n",
      "Epoch 4: val_accuracy did not improve from 0.88895\n",
      "2196/2196 [==============================] - 1801s 820ms/step - loss: 0.7207 - accuracy: 0.8580 - val_loss: 0.6142 - val_accuracy: 0.8748 - lr: 1.0000e-04\n",
      "Epoch 5/5\n",
      "2196/2196 [==============================] - ETA: 0s - loss: 0.6943 - accuracy: 0.8596\n",
      "Epoch 5: saving model to model_VGG16_epoch_05.h5\n",
      "\n",
      "Epoch 5: val_accuracy did not improve from 0.88895\n",
      "2196/2196 [==============================] - 1898s 865ms/step - loss: 0.6943 - accuracy: 0.8596 - val_loss: 0.5709 - val_accuracy: 0.8808 - lr: 1.0000e-04\n"
     ]
    }
   ],
   "source": [
    "# Training the model on my GPU cores\n",
    "\n",
    "with tf.device('/device:GPU:0'):\n",
    "    history_2 = model.fit(train_generator,\n",
    "            steps_per_epoch=train_generator.samples // batch_size,\n",
    "            epochs=5,\n",
    "            validation_data=validation_generator,\n",
    "            validation_steps=validation_generator.samples // batch_size,\n",
    "            callbacks=callbacks)"
   ]
  },
  {
   "cell_type": "code",
   "execution_count": 5,
   "metadata": {},
   "outputs": [
    {
     "name": "stderr",
     "output_type": "stream",
     "text": [
      "2024-12-15 21:18:08.164479: I metal_plugin/src/device/metal_device.cc:1154] Metal device set to: Apple M2\n",
      "2024-12-15 21:18:08.164502: I metal_plugin/src/device/metal_device.cc:296] systemMemory: 8.00 GB\n",
      "2024-12-15 21:18:08.164509: I metal_plugin/src/device/metal_device.cc:313] maxCacheSize: 2.67 GB\n",
      "2024-12-15 21:18:08.164914: I tensorflow/core/common_runtime/pluggable_device/pluggable_device_factory.cc:303] Could not identify NUMA node of platform GPU ID 0, defaulting to 0. Your kernel may not have been built with NUMA support.\n",
      "2024-12-15 21:18:08.165302: I tensorflow/core/common_runtime/pluggable_device/pluggable_device_factory.cc:269] Created TensorFlow device (/job:localhost/replica:0/task:0/device:GPU:0 with 0 MB memory) -> physical PluggableDevice (device: 0, name: METAL, pci bus id: <undefined>)\n"
     ]
    },
    {
     "name": "stdout",
     "output_type": "stream",
     "text": [
      "Model: \"sequential\"\n",
      "_________________________________________________________________\n",
      " Layer (type)                Output Shape              Param #   \n",
      "=================================================================\n",
      " vgg16 (Functional)          (None, None, None, 512)   14714688  \n",
      "                                                                 \n",
      " global_average_pooling2d (  (None, 512)               0         \n",
      " GlobalAveragePooling2D)                                         \n",
      "                                                                 \n",
      " dense (Dense)               (None, 1024)              525312    \n",
      "                                                                 \n",
      " dropout (Dropout)           (None, 1024)              0         \n",
      "                                                                 \n",
      " dense_1 (Dense)             (None, 512)               524800    \n",
      "                                                                 \n",
      " dropout_1 (Dropout)         (None, 512)               0         \n",
      "                                                                 \n",
      " dense_2 (Dense)             (None, 38)                19494     \n",
      "                                                                 \n",
      "=================================================================\n",
      "Total params: 15784294 (60.21 MB)\n",
      "Trainable params: 14638886 (55.84 MB)\n",
      "Non-trainable params: 1145408 (4.37 MB)\n",
      "_________________________________________________________________\n"
     ]
    }
   ],
   "source": [
    "# Load the current best model to continue training\n",
    "\n",
    "model = load_model(\"model_VGG16_best_accuracy.h5\")\n",
    "\n",
    "model.summary()"
   ]
  },
  {
   "cell_type": "code",
   "execution_count": 16,
   "metadata": {},
   "outputs": [],
   "source": [
    "# Unfreeze the last 10 layers of the base model\n",
    "for layer in base_model.layers:\n",
    "    layer.trainable = True\n",
    "\n",
    "# Compile with a lower learning rate for fine-tuning\n",
    "model.compile(optimizer=tf.keras.optimizers.legacy.Adam(learning_rate=1e-5),\n",
    "              loss='categorical_crossentropy',\n",
    "              metrics=['accuracy'])"
   ]
  },
  {
   "cell_type": "code",
   "execution_count": 17,
   "metadata": {},
   "outputs": [
    {
     "name": "stdout",
     "output_type": "stream",
     "text": [
      "Epoch 1/20\n"
     ]
    },
    {
     "name": "stderr",
     "output_type": "stream",
     "text": [
      "2024-12-14 11:28:50.718665: I tensorflow/core/grappler/optimizers/custom_graph_optimizer_registry.cc:114] Plugin optimizer for device_type GPU is enabled.\n"
     ]
    },
    {
     "name": "stdout",
     "output_type": "stream",
     "text": [
      "2196/2196 [==============================] - ETA: 0s - loss: 1.3514 - accuracy: 0.8343"
     ]
    },
    {
     "name": "stderr",
     "output_type": "stream",
     "text": [
      "2024-12-14 12:13:43.365598: I tensorflow/core/grappler/optimizers/custom_graph_optimizer_registry.cc:114] Plugin optimizer for device_type GPU is enabled.\n"
     ]
    },
    {
     "name": "stdout",
     "output_type": "stream",
     "text": [
      "\n",
      "Epoch 1: val_accuracy improved from 0.88895 to 0.89060, saving model to model_VGG16_best_accuracy.h5\n"
     ]
    },
    {
     "name": "stderr",
     "output_type": "stream",
     "text": [
      "/Users/yannik/anaconda3/envs/keras_env/lib/python3.8/site-packages/keras/src/engine/training.py:3000: UserWarning: You are saving your model as an HDF5 file via `model.save()`. This file format is considered legacy. We recommend using instead the native Keras format, e.g. `model.save('my_model.keras')`.\n",
      "  saving_api.save_model(\n"
     ]
    },
    {
     "name": "stdout",
     "output_type": "stream",
     "text": [
      "2196/2196 [==============================] - 3013s 1s/step - loss: 1.3514 - accuracy: 0.8343 - val_loss: 0.8812 - val_accuracy: 0.8906 - lr: 1.0000e-05\n",
      "Epoch 2/20\n",
      "2196/2196 [==============================] - ETA: 0s - loss: 0.9990 - accuracy: 0.8769\n",
      "Epoch 2: val_accuracy improved from 0.89060 to 0.90158, saving model to model_VGG16_best_accuracy.h5\n",
      "2196/2196 [==============================] - 3293s 1s/step - loss: 0.9990 - accuracy: 0.8769 - val_loss: 0.7394 - val_accuracy: 0.9016 - lr: 1.0000e-05\n",
      "Epoch 3/20\n",
      "2196/2196 [==============================] - ETA: 0s - loss: 1.0171 - accuracy: 0.8935\n",
      "Epoch 3: val_accuracy improved from 0.90158 to 0.92025, saving model to model_VGG16_best_accuracy.h5\n",
      "2196/2196 [==============================] - 3285s 1s/step - loss: 1.0171 - accuracy: 0.8935 - val_loss: 0.7910 - val_accuracy: 0.9203 - lr: 1.0000e-05\n",
      "Epoch 4/20\n",
      "2196/2196 [==============================] - ETA: 0s - loss: 0.8852 - accuracy: 0.9120\n",
      "Epoch 4: val_accuracy improved from 0.92025 to 0.94314, saving model to model_VGG16_best_accuracy.h5\n",
      "2196/2196 [==============================] - 3217s 1s/step - loss: 0.8852 - accuracy: 0.9120 - val_loss: 0.5131 - val_accuracy: 0.9431 - lr: 1.0000e-05\n",
      "Epoch 5/20\n",
      "2196/2196 [==============================] - ETA: 0s - loss: 1.2104 - accuracy: 0.9139\n",
      "Epoch 5: val_accuracy improved from 0.94314 to 0.94490, saving model to model_VGG16_best_accuracy.h5\n",
      "2196/2196 [==============================] - 3223s 1s/step - loss: 1.2104 - accuracy: 0.9139 - val_loss: 0.7562 - val_accuracy: 0.9449 - lr: 1.0000e-05\n",
      "Epoch 6/20\n",
      "2196/2196 [==============================] - ETA: 0s - loss: 1.5220 - accuracy: 0.9203\n",
      "Epoch 6: val_accuracy did not improve from 0.94490\n",
      "2196/2196 [==============================] - 3256s 1s/step - loss: 1.5220 - accuracy: 0.9203 - val_loss: 1.1351 - val_accuracy: 0.9321 - lr: 1.0000e-05\n",
      "Epoch 7/20\n",
      "2196/2196 [==============================] - ETA: 0s - loss: 1.4846 - accuracy: 0.9290\n",
      "Epoch 7: val_accuracy improved from 0.94490 to 0.95606, saving model to model_VGG16_best_accuracy.h5\n",
      "2196/2196 [==============================] - 3217s 1s/step - loss: 1.4846 - accuracy: 0.9290 - val_loss: 0.6973 - val_accuracy: 0.9561 - lr: 1.0000e-05\n",
      "Epoch 8/20\n",
      "2196/2196 [==============================] - ETA: 0s - loss: 2.2450 - accuracy: 0.9245\n",
      "Epoch 8: val_accuracy did not improve from 0.95606\n",
      "2196/2196 [==============================] - 3212s 1s/step - loss: 2.2450 - accuracy: 0.9245 - val_loss: 1.8723 - val_accuracy: 0.9308 - lr: 1.0000e-05\n",
      "Epoch 9/20\n",
      "2196/2196 [==============================] - ETA: 0s - loss: 3.0472 - accuracy: 0.9298\n",
      "Epoch 9: ReduceLROnPlateau reducing learning rate to 1.9999999494757505e-06.\n",
      "\n",
      "Epoch 9: val_accuracy did not improve from 0.95606\n",
      "2196/2196 [==============================] - 3376s 2s/step - loss: 3.0472 - accuracy: 0.9298 - val_loss: 2.1053 - val_accuracy: 0.9504 - lr: 1.0000e-05\n",
      "Epoch 10/20\n",
      "2196/2196 [==============================] - ETA: 0s - loss: 1.5121 - accuracy: 0.9580\n",
      "Epoch 10: saving model to model_VGG16_epoch_10.h5\n",
      "\n",
      "Epoch 10: val_accuracy improved from 0.95606 to 0.95976, saving model to model_VGG16_best_accuracy.h5\n",
      "2196/2196 [==============================] - 3237s 1s/step - loss: 1.5121 - accuracy: 0.9580 - val_loss: 1.6954 - val_accuracy: 0.9598 - lr: 2.0000e-06\n",
      "Epoch 11/20\n",
      "2196/2196 [==============================] - ETA: 0s - loss: 2.3152 - accuracy: 0.9569\n",
      "Epoch 11: val_accuracy did not improve from 0.95976\n",
      "2196/2196 [==============================] - 3294s 2s/step - loss: 2.3152 - accuracy: 0.9569 - val_loss: 4.2472 - val_accuracy: 0.9431 - lr: 2.0000e-06\n",
      "Epoch 12/20\n",
      "2196/2196 [==============================] - ETA: 0s - loss: 5.3681 - accuracy: 0.9460\n",
      "Epoch 12: val_accuracy did not improve from 0.95976\n",
      "2196/2196 [==============================] - 3291s 1s/step - loss: 5.3681 - accuracy: 0.9460 - val_loss: 6.7199 - val_accuracy: 0.9452 - lr: 2.0000e-06\n",
      "Epoch 13/20\n",
      "2196/2196 [==============================] - ETA: 0s - loss: 17.3747 - accuracy: 0.9277\n",
      "Epoch 13: val_accuracy did not improve from 0.95976\n",
      "2196/2196 [==============================] - 3262s 1s/step - loss: 17.3747 - accuracy: 0.9277 - val_loss: 22.4377 - val_accuracy: 0.9287 - lr: 2.0000e-06\n",
      "Epoch 14/20\n",
      "2196/2196 [==============================] - ETA: 0s - loss: 59.2154 - accuracy: 0.9018\n",
      "Epoch 14: ReduceLROnPlateau reducing learning rate to 3.999999989900971e-07.\n",
      "\n",
      "Epoch 14: val_accuracy did not improve from 0.95976\n",
      "2196/2196 [==============================] - 3267s 1s/step - loss: 59.2154 - accuracy: 0.9018 - val_loss: 124.6457 - val_accuracy: 0.8676 - lr: 2.0000e-06\n",
      "Epoch 15/20\n",
      "2196/2196 [==============================] - ETA: 0s - loss: 82.7590 - accuracy: 0.9003\n",
      "Epoch 15: val_accuracy did not improve from 0.95976\n",
      "2196/2196 [==============================] - 3333s 2s/step - loss: 82.7590 - accuracy: 0.9003 - val_loss: 89.2441 - val_accuracy: 0.8929 - lr: 4.0000e-07\n",
      "Epoch 16/20\n",
      "2196/2196 [==============================] - ETA: 0s - loss: 105.8924 - accuracy: 0.8917\n",
      "Epoch 16: val_accuracy did not improve from 0.95976\n",
      "2196/2196 [==============================] - 3274s 1s/step - loss: 105.8924 - accuracy: 0.8917 - val_loss: 108.4851 - val_accuracy: 0.8868 - lr: 4.0000e-07\n",
      "Epoch 17/20\n",
      "2196/2196 [==============================] - ETA: 0s - loss: 159.8716 - accuracy: 0.8736\n",
      "Epoch 17: val_accuracy did not improve from 0.95976\n",
      "2196/2196 [==============================] - 3320s 2s/step - loss: 159.8716 - accuracy: 0.8736 - val_loss: 150.8203 - val_accuracy: 0.8712 - lr: 4.0000e-07\n",
      "Epoch 18/20\n",
      "2196/2196 [==============================] - ETA: 0s - loss: 211.9440 - accuracy: 0.8606\n",
      "Epoch 18: val_accuracy did not improve from 0.95976\n",
      "2196/2196 [==============================] - 3257s 1s/step - loss: 211.9440 - accuracy: 0.8606 - val_loss: 303.7564 - val_accuracy: 0.8286 - lr: 4.0000e-07\n",
      "Epoch 19/20\n",
      "2196/2196 [==============================] - ETA: 0s - loss: 309.5410 - accuracy: 0.8411\n",
      "Epoch 19: ReduceLROnPlateau reducing learning rate to 1e-07.\n",
      "\n",
      "Epoch 19: val_accuracy did not improve from 0.95976\n",
      "2196/2196 [==============================] - 3263s 1s/step - loss: 309.5410 - accuracy: 0.8411 - val_loss: 265.7629 - val_accuracy: 0.8534 - lr: 4.0000e-07\n",
      "Epoch 20/20\n",
      "2196/2196 [==============================] - ETA: 0s - loss: 337.5178 - accuracy: 0.8403Restoring model weights from the end of the best epoch: 10.\n",
      "\n",
      "Epoch 20: saving model to model_VGG16_epoch_20.h5\n",
      "\n",
      "Epoch 20: val_accuracy did not improve from 0.95976\n",
      "2196/2196 [==============================] - 3232s 1s/step - loss: 337.5178 - accuracy: 0.8403 - val_loss: 268.5603 - val_accuracy: 0.8526 - lr: 1.0000e-07\n",
      "Epoch 20: early stopping\n"
     ]
    }
   ],
   "source": [
    "# Training the model on my GPU cores\n",
    "\n",
    "with tf.device('/device:GPU:0'):\n",
    "    history_3 = model.fit(train_generator,\n",
    "            steps_per_epoch=train_generator.samples // batch_size,\n",
    "            epochs=20,\n",
    "            validation_data=validation_generator,\n",
    "            validation_steps=validation_generator.samples // batch_size,\n",
    "            callbacks=callbacks)"
   ]
  },
  {
   "cell_type": "code",
   "execution_count": 22,
   "metadata": {},
   "outputs": [
    {
     "data": {
      "image/png": "[encoded data removed]",
      "text/plain": [
       "<Figure size 800x600 with 1 Axes>"
      ]
     },
     "metadata": {},
     "output_type": "display_data"
    }
   ],
   "source": [
    "# Having a look at the training and validation accuracy\n",
    "\n",
    "train_acc_0 = history_0.history['accuracy']\n",
    "train_acc_1 = history_1.history['accuracy']\n",
    "train_acc_2 = history_2.history['accuracy']\n",
    "train_acc_3 = history_3.history['accuracy']\n",
    "val_acc_0 = history_0.history['val_accuracy']\n",
    "val_acc_1 = history_1.history['val_accuracy']\n",
    "val_acc_2 = history_2.history['val_accuracy']\n",
    "val_acc_3 = history_3.history['val_accuracy']\n",
    "\n",
    "train_acc_total = train_acc_0 + train_acc_1 + train_acc_2 + train_acc_3\n",
    "val_acc_total = val_acc_0 + val_acc_1 + val_acc_2 + val_acc_3\n",
    "\n",
    "plt.figure(figsize=(8, 6))\n",
    "plt.plot(np.arange(len(train_acc_total)), train_acc_total, c=\"g\", label=\"training\")\n",
    "plt.plot(np.arange(len(val_acc_total)), val_acc_total, c=\"r\", label=\"validation\")\n",
    "plt.xlabel(\"Epochs\")\n",
    "plt.ylabel(\"Accuracy\")\n",
    "plt.title(\"Transfer Learning VGG16 base line\")\n",
    "plt.legend()\n",
    "plt.show()"
   ]
  },
  {
   "cell_type": "code",
   "execution_count": null,
   "metadata": {},
   "outputs": [
    {
     "data": {
      "image/png": "[encoded data removed]",
      "text/plain": [
       "<Figure size 800x600 with 1 Axes>"
      ]
     },
     "metadata": {},
     "output_type": "display_data"
    }
   ],
   "source": [
    "# Having a look at the training and validation loss\n",
    "\n",
    "train_loss_0 = history_0.history['loss']\n",
    "train_loss_1 = history_1.history['loss']\n",
    "train_loss_2 = history_2.history['loss']\n",
    "train_loss_3 = history_3.history['loss']\n",
    "val_loss_0 = history_0.history['val_loss']\n",
    "val_loss_1 = history_1.history['val_loss']\n",
    "val_loss_2 = history_2.history['val_loss']\n",
    "val_loss_3 = history_3.history['val_loss']\n",
    "\n",
    "train_loss_total = train_loss_0 + train_loss_1 + train_loss_2 + train_loss_3\n",
    "val_loss_total = val_loss_0 + val_loss_1 + val_loss_2 + val_loss_3\n",
    "\n",
    "plt.figure(figsize=(8, 6))\n",
    "plt.plot(np.arange(len(train_loss_total)), train_loss_total, c=\"g\", label=\"training\")\n",
    "plt.plot(np.arange(len(val_loss_total)), val_loss_total, c=\"r\", label=\"validation\")\n",
    "plt.xlabel(\"Epochs\")\n",
    "plt.ylabel(\"Accuracy\")\n",
    "plt.title(\"Transfer Learning VGG16 base line\")\n",
    "plt.legend()\n",
    "plt.show()"
   ]
  },
  {
   "cell_type": "markdown",
   "metadata": {},
   "source": [
    "After the model peaks at a validation accuracy of 0.96 in epoch 30, the model starts to overfit which can be seen in the drastic increase in the loss and the decrease in accuracy. I will now change a couple of things for further fine-tuning:\n",
    "\n",
    "- Increasing the rate of the second dropout layer to 0.3\n",
    "- Adding regularization to the second Dense layer of the classification part\n",
    "- changing the EarlyStopping callback to monitor the val_loss instead of val_accuracy with a smaller patience of 5"
   ]
  },
  {
   "cell_type": "markdown",
   "metadata": {},
   "source": [
    "# 3 Fine-tuning "
   ]
  },
  {
   "cell_type": "code",
   "execution_count": 58,
   "metadata": {},
   "outputs": [],
   "source": [
    "# Clearing the session to prevent continued training on top of an existing model\n",
    "from tensorflow.keras.backend import clear_session\n",
    "\n",
    "clear_session()"
   ]
  },
  {
   "cell_type": "code",
   "execution_count": 59,
   "metadata": {},
   "outputs": [
    {
     "name": "stdout",
     "output_type": "stream",
     "text": [
      "Model: \"sequential\"\n",
      "_________________________________________________________________\n",
      " Layer (type)                Output Shape              Param #   \n",
      "=================================================================\n",
      " vgg16 (Functional)          (None, None, None, 512)   14714688  \n",
      "                                                                 \n",
      " global_average_pooling2d (  (None, 512)               0         \n",
      " GlobalAveragePooling2D)                                         \n",
      "                                                                 \n",
      " dense (Dense)               (None, 1024)              525312    \n",
      "                                                                 \n",
      " dropout (Dropout)           (None, 1024)              0         \n",
      "                                                                 \n",
      " dense_1 (Dense)             (None, 512)               524800    \n",
      "                                                                 \n",
      " dropout_1 (Dropout)         (None, 512)               0         \n",
      "                                                                 \n",
      " dense_2 (Dense)             (None, 38)                19494     \n",
      "                                                                 \n",
      "=================================================================\n",
      "Total params: 15784294 (60.21 MB)\n",
      "Trainable params: 14638886 (55.84 MB)\n",
      "Non-trainable params: 1145408 (4.37 MB)\n",
      "_________________________________________________________________\n"
     ]
    }
   ],
   "source": [
    "# Load the current best model\n",
    "model = load_model(\"model_VGG16_best_accuracy.h5\")\n",
    "\n",
    "model.summary()"
   ]
  },
  {
   "cell_type": "code",
   "execution_count": 44,
   "metadata": {},
   "outputs": [
    {
     "name": "stderr",
     "output_type": "stream",
     "text": [
      "2024-12-16 11:26:41.529188: I tensorflow/core/grappler/optimizers/custom_graph_optimizer_registry.cc:114] Plugin optimizer for device_type GPU is enabled.\n"
     ]
    },
    {
     "name": "stdout",
     "output_type": "stream",
     "text": [
      "2197/2197 [==============================] - 1364s 621ms/step - loss: 1.3913 - accuracy: 0.9598\n",
      "Training Accuracy: 0.9598\n",
      "550/550 [==============================] - 392s 713ms/step - loss: 1.6950 - accuracy: 0.9598\n",
      "Validation Accuracy: 0.9598\n"
     ]
    }
   ],
   "source": [
    "# Check if the accuracies of the loaded model match the results from the training above\n",
    "with tf.device('/device:GPU:0'):\n",
    "    # Evaluate on the training set\n",
    "    train_loss, train_accuracy = model.evaluate(train_generator, verbose=1)\n",
    "    print(f\"Training Accuracy: {train_accuracy:.4f}\")\n",
    "\n",
    "    # Evaluate on the validation set\n",
    "    val_loss, val_accuracy = model.evaluate(validation_generator, verbose=1)\n",
    "    print(f\"Validation Accuracy: {val_accuracy:.4f}\")"
   ]
  },
  {
   "cell_type": "code",
   "execution_count": 60,
   "metadata": {},
   "outputs": [
    {
     "name": "stdout",
     "output_type": "stream",
     "text": [
      "Model: \"vgg16\"\n",
      "_________________________________________________________________\n",
      " Layer (type)                Output Shape              Param #   \n",
      "=================================================================\n",
      " input_1 (InputLayer)        [(None, None, None, 3)]   0         \n",
      "                                                                 \n",
      " block1_conv1 (Conv2D)       (None, None, None, 64)    1792      \n",
      "                                                                 \n",
      " block1_conv2 (Conv2D)       (None, None, None, 64)    36928     \n",
      "                                                                 \n",
      " block1_pool (MaxPooling2D)  (None, None, None, 64)    0         \n",
      "                                                                 \n",
      " block2_conv1 (Conv2D)       (None, None, None, 128)   73856     \n",
      "                                                                 \n",
      " block2_conv2 (Conv2D)       (None, None, None, 128)   147584    \n",
      "                                                                 \n",
      " block2_pool (MaxPooling2D)  (None, None, None, 128)   0         \n",
      "                                                                 \n",
      " block3_conv1 (Conv2D)       (None, None, None, 256)   295168    \n",
      "                                                                 \n",
      " block3_conv2 (Conv2D)       (None, None, None, 256)   590080    \n",
      "                                                                 \n",
      " block3_conv3 (Conv2D)       (None, None, None, 256)   590080    \n",
      "                                                                 \n",
      " block3_pool (MaxPooling2D)  (None, None, None, 256)   0         \n",
      "                                                                 \n",
      " block4_conv1 (Conv2D)       (None, None, None, 512)   1180160   \n",
      "                                                                 \n",
      " block4_conv2 (Conv2D)       (None, None, None, 512)   2359808   \n",
      "                                                                 \n",
      " block4_conv3 (Conv2D)       (None, None, None, 512)   2359808   \n",
      "                                                                 \n",
      " block4_pool (MaxPooling2D)  (None, None, None, 512)   0         \n",
      "                                                                 \n",
      " block5_conv1 (Conv2D)       (None, None, None, 512)   2359808   \n",
      "                                                                 \n",
      " block5_conv2 (Conv2D)       (None, None, None, 512)   2359808   \n",
      "                                                                 \n",
      " block5_conv3 (Conv2D)       (None, None, None, 512)   2359808   \n",
      "                                                                 \n",
      " block5_pool (MaxPooling2D)  (None, None, None, 512)   0         \n",
      "                                                                 \n",
      "=================================================================\n",
      "Total params: 14714688 (56.13 MB)\n",
      "Trainable params: 13569280 (51.76 MB)\n",
      "Non-trainable params: 1145408 (4.37 MB)\n",
      "_________________________________________________________________\n"
     ]
    }
   ],
   "source": [
    "# Define the VGG16 base model again from the loaded model\n",
    "base_model = model.layers[0]\n",
    "base_model.summary()"
   ]
  },
  {
   "cell_type": "code",
   "execution_count": 61,
   "metadata": {},
   "outputs": [
    {
     "name": "stdout",
     "output_type": "stream",
     "text": [
      "0.2\n",
      "None\n"
     ]
    }
   ],
   "source": [
    "print(model.get_layer(\"dropout_1\").rate)\n",
    "print(model.get_layer(\"dense_1\").kernel_regularizer)"
   ]
  },
  {
   "cell_type": "code",
   "execution_count": 62,
   "metadata": {},
   "outputs": [
    {
     "name": "stdout",
     "output_type": "stream",
     "text": [
      "Found 70295 images belonging to 38 classes.\n",
      "Found 17572 images belonging to 38 classes.\n"
     ]
    }
   ],
   "source": [
    "# Define the image generators for the training and validation set\n",
    "\n",
    "batch_size = 32\n",
    "num_classes = 38\n",
    "img_size = (256, 256)\n",
    "\n",
    "train_datagen = ImageDataGenerator(rescale=1./255,\n",
    "                                   shear_range=0.2,\n",
    "                                   zoom_range=0.2,\n",
    "                                   rotation_range=20,\n",
    "                                   width_shift_range=0.2,\n",
    "                                   height_shift_range=0.2,\n",
    "                                   horizontal_flip=True)\n",
    "validation_datagen = ImageDataGenerator(rescale=1./255)\n",
    "\n",
    "train_generator = train_datagen.flow_from_directory(\n",
    "    train_path,\n",
    "    target_size=img_size,\n",
    "    batch_size=batch_size,\n",
    "    class_mode='categorical',\n",
    "    shuffle=True)  # randomize the order of the samples to avoid overfitting\n",
    "\n",
    "validation_generator = validation_datagen.flow_from_directory(\n",
    "    valid_path,\n",
    "    target_size=img_size,\n",
    "    batch_size=batch_size,\n",
    "    class_mode='categorical',\n",
    "    shuffle=True)  # randomize the order of the samples to avoid overfitting"
   ]
  },
  {
   "cell_type": "code",
   "execution_count": 63,
   "metadata": {},
   "outputs": [],
   "source": [
    "# Define new callbacks\n",
    "checkpoint_best = ModelCheckpoint(\n",
    "    \"model_VGG16_fine_tuned_best_accuracy.h5\", \n",
    "    monitor=\"val_loss\", \n",
    "    save_best_only=True, \n",
    "    mode=\"min\", \n",
    "    verbose=1\n",
    ")\n",
    "\n",
    "early_stopping = EarlyStopping(\n",
    "    monitor=\"val_loss\", \n",
    "    patience=3, \n",
    "    restore_best_weights=True, \n",
    "    verbose=1\n",
    ")\n",
    "\n",
    "# ReduceLROnPlateau\n",
    "reduce_lr = ReduceLROnPlateau(\n",
    "    monitor='val_loss',\n",
    "    factor=0.5,\n",
    "    patience=3,\n",
    "    min_lr=1e-7,\n",
    "    verbose=1\n",
    ")\n",
    "\n",
    "callbacks = [early_stopping, reduce_lr, checkpoint_best]"
   ]
  },
  {
   "cell_type": "code",
   "execution_count": 64,
   "metadata": {},
   "outputs": [
    {
     "name": "stdout",
     "output_type": "stream",
     "text": [
      "vgg16 True\n",
      "global_average_pooling2d True\n",
      "dense True\n",
      "dropout True\n",
      "dense_1 True\n",
      "dropout_1 True\n",
      "dense_2 True\n"
     ]
    }
   ],
   "source": [
    "# Check if all alyer are trainable\n",
    "for layer in model.layers:\n",
    "    print(layer.name, layer.trainable)"
   ]
  },
  {
   "cell_type": "code",
   "execution_count": 65,
   "metadata": {},
   "outputs": [
    {
     "name": "stdout",
     "output_type": "stream",
     "text": [
      "Old learning rate: 2e-06\n"
     ]
    }
   ],
   "source": [
    "#  Check the learning rate at the moment the model was saved\n",
    "\n",
    "print(\"Old learning rate:\", model.optimizer.learning_rate.numpy())\n",
    "# model.optimizer.learning_rate.assign(1e-5)\n",
    "# print(\"New learning rate:\", model.optimizer.learning_rate.numpy())"
   ]
  },
  {
   "cell_type": "markdown",
   "metadata": {},
   "source": [
    "So far, I did not apply any changes to the model. I only modified the EarlyStopping callback to monitor the \"val_loss\" instead of the val_accuracy\" in the training before. I also reduced the pateince variable to 3 in the EarlyStopping and ReduceLROnPlateau callback. For the latter, I also change the \"factor\" to 0.5 so the rate gets only reduce by half.\n",
    "The strategy is now as follows:\n",
    "- First I will have a look at the performance within 3 epochs. Since I did not change anything of model, I expect that the overfitting issues as in the former training will start to emerge (indicated by an increasing val_loss and a decreasing val_accuracy).\n",
    "- Then I will try to apply the above mentioned changes (dropout rate, regularization) incrementally and check the first 3 epochs. If I see improvements, I will continue the training. Else, I will try the next strategy"
   ]
  },
  {
   "cell_type": "code",
   "execution_count": 66,
   "metadata": {},
   "outputs": [
    {
     "name": "stdout",
     "output_type": "stream",
     "text": [
      "Epoch 1/3\n"
     ]
    },
    {
     "name": "stderr",
     "output_type": "stream",
     "text": [
      "2024-12-16 15:00:55.116019: I tensorflow/core/grappler/optimizers/custom_graph_optimizer_registry.cc:114] Plugin optimizer for device_type GPU is enabled.\n"
     ]
    },
    {
     "name": "stdout",
     "output_type": "stream",
     "text": [
      "2196/2196 [==============================] - ETA: 0s - loss: 2.5122 - accuracy: 0.9554"
     ]
    },
    {
     "name": "stderr",
     "output_type": "stream",
     "text": [
      "2024-12-16 15:50:00.958747: I tensorflow/core/grappler/optimizers/custom_graph_optimizer_registry.cc:114] Plugin optimizer for device_type GPU is enabled.\n"
     ]
    },
    {
     "name": "stdout",
     "output_type": "stream",
     "text": [
      "\n",
      "Epoch 1: val_loss improved from inf to 2.75731, saving model to model_VGG16_fine_tuned_best_accuracy.h5\n",
      "2196/2196 [==============================] - 3275s 1s/step - loss: 2.5122 - accuracy: 0.9554 - val_loss: 2.7573 - val_accuracy: 0.9574 - lr: 2.0000e-06\n",
      "Epoch 2/3\n",
      "2196/2196 [==============================] - ETA: 0s - loss: 6.7515 - accuracy: 0.9434\n",
      "Epoch 2: val_loss did not improve from 2.75731\n",
      "2196/2196 [==============================] - 3301s 2s/step - loss: 6.7515 - accuracy: 0.9434 - val_loss: 10.3867 - val_accuracy: 0.9366 - lr: 2.0000e-06\n",
      "Epoch 3/3\n",
      "2196/2196 [==============================] - ETA: 0s - loss: 18.4887 - accuracy: 0.9274\n",
      "Epoch 3: val_loss did not improve from 2.75731\n",
      "2196/2196 [==============================] - 3377s 2s/step - loss: 18.4887 - accuracy: 0.9274 - val_loss: 17.0470 - val_accuracy: 0.9388 - lr: 2.0000e-06\n"
     ]
    }
   ],
   "source": [
    "# Training the model on my GPU cores\n",
    "\n",
    "with tf.device('/device:GPU:0'):\n",
    "    history_fine_tuning_0 = model.fit(\n",
    "        train_generator,\n",
    "        steps_per_epoch=train_generator.samples // batch_size,\n",
    "        epochs=3,\n",
    "        validation_data=validation_generator,\n",
    "        validation_steps=validation_generator.samples // batch_size,\n",
    "        callbacks=callbacks\n",
    "    )"
   ]
  },
  {
   "cell_type": "markdown",
   "metadata": {},
   "source": [
    "As expected, overfitting issues start to decrease the model performance right from the beginning. next, I will increase the rate of the last dopout layer from 0.2 to 0.5."
   ]
  },
  {
   "cell_type": "code",
   "execution_count": 67,
   "metadata": {},
   "outputs": [
    {
     "name": "stdout",
     "output_type": "stream",
     "text": [
      "Model: \"sequential\"\n",
      "_________________________________________________________________\n",
      " Layer (type)                Output Shape              Param #   \n",
      "=================================================================\n",
      " vgg16 (Functional)          (None, None, None, 512)   14714688  \n",
      "                                                                 \n",
      " global_average_pooling2d (  (None, 512)               0         \n",
      " GlobalAveragePooling2D)                                         \n",
      "                                                                 \n",
      " dense (Dense)               (None, 1024)              525312    \n",
      "                                                                 \n",
      " dropout (Dropout)           (None, 1024)              0         \n",
      "                                                                 \n",
      " dense_1 (Dense)             (None, 512)               524800    \n",
      "                                                                 \n",
      " dropout_1 (Dropout)         (None, 512)               0         \n",
      "                                                                 \n",
      " dense_2 (Dense)             (None, 38)                19494     \n",
      "                                                                 \n",
      "=================================================================\n",
      "Total params: 15784294 (60.21 MB)\n",
      "Trainable params: 14638886 (55.84 MB)\n",
      "Non-trainable params: 1145408 (4.37 MB)\n",
      "_________________________________________________________________\n"
     ]
    }
   ],
   "source": [
    "model.summary()"
   ]
  },
  {
   "cell_type": "markdown",
   "metadata": {},
   "source": [
    "# 4 Testing the model on the test set"
   ]
  },
  {
   "cell_type": "code",
   "execution_count": 29,
   "metadata": {},
   "outputs": [
    {
     "name": "stdout",
     "output_type": "stream",
     "text": [
      "1/2 [==============>...............] - ETA: 0s"
     ]
    },
    {
     "name": "stderr",
     "output_type": "stream",
     "text": [
      "2024-12-15 23:14:55.372304: I tensorflow/core/grappler/optimizers/custom_graph_optimizer_registry.cc:114] Plugin optimizer for device_type GPU is enabled.\n"
     ]
    },
    {
     "name": "stdout",
     "output_type": "stream",
     "text": [
      "2/2 [==============================] - 1s 691ms/step\n",
      "Prediction: Corn_(maize)___Cercospora_leaf_spot Gray_leaf_spot \t True class: AppleScab3.JPG\n",
      "Prediction: Tomato___Early_blight \t True class: TomatoEarlyBlight2.JPG\n",
      "Prediction: Tomato___Early_blight \t True class: TomatoEarlyBlight3.JPG\n",
      "Prediction: Potato___healthy \t True class: PotatoHealthy1.JPG\n",
      "Prediction: Apple___Apple_scab \t True class: AppleScab2.JPG\n",
      "Prediction: Tomato___Target_Spot \t True class: TomatoEarlyBlight1.JPG\n",
      "Prediction: Potato___healthy \t True class: PotatoHealthy2.JPG\n",
      "Prediction: Apple___Apple_scab \t True class: AppleScab1.JPG\n",
      "Prediction: Tomato___Early_blight \t True class: TomatoEarlyBlight4.JPG\n",
      "Prediction: Tomato___Target_Spot \t True class: TomatoEarlyBlight5.JPG\n",
      "Prediction: Tomato___Spider_mites Two-spotted_spider_mite \t True class: TomatoEarlyBlight6.JPG\n",
      "Prediction: Potato___Early_blight \t True class: PotatoEarlyBlight4.JPG\n",
      "Prediction: Potato___healthy \t True class: PotatoEarlyBlight5.JPG\n",
      "Prediction: Potato___Early_blight \t True class: PotatoEarlyBlight2.JPG\n",
      "Prediction: Potato___healthy \t True class: PotatoEarlyBlight3.JPG\n",
      "Prediction: Potato___Early_blight \t True class: PotatoEarlyBlight1.JPG\n",
      "Prediction: Tomato___Tomato_Yellow_Leaf_Curl_Virus \t True class: TomatoYellowCurlVirus2.JPG\n",
      "Prediction: Tomato___Early_blight \t True class: TomatoYellowCurlVirus3.JPG\n",
      "Prediction: Tomato___Spider_mites Two-spotted_spider_mite \t True class: TomatoYellowCurlVirus1.JPG\n",
      "Prediction: Tomato___healthy \t True class: TomatoHealthy4.JPG\n",
      "Prediction: Tomato___Tomato_Yellow_Leaf_Curl_Virus \t True class: TomatoYellowCurlVirus4.JPG\n",
      "Prediction: Tomato___healthy \t True class: TomatoHealthy1.JPG\n",
      "Prediction: Tomato___Tomato_Yellow_Leaf_Curl_Virus \t True class: TomatoYellowCurlVirus5.JPG\n",
      "Prediction: Tomato___healthy \t True class: TomatoHealthy3.JPG\n",
      "Prediction: Tomato___healthy \t True class: TomatoHealthy2.JPG\n",
      "Prediction: Tomato___Tomato_Yellow_Leaf_Curl_Virus \t True class: TomatoYellowCurlVirus6.JPG\n",
      "Prediction: Apple___Cedar_apple_rust \t True class: AppleCedarRust2.JPG\n",
      "Prediction: Corn_(maize)___Common_rust_ \t True class: CornCommonRust1.JPG\n",
      "Prediction: Apple___Cedar_apple_rust \t True class: AppleCedarRust3.JPG\n",
      "Prediction: Apple___Cedar_apple_rust \t True class: AppleCedarRust1.JPG\n",
      "Prediction: Corn_(maize)___Common_rust_ \t True class: CornCommonRust2.JPG\n",
      "Prediction: Corn_(maize)___Common_rust_ \t True class: CornCommonRust3.JPG\n",
      "Prediction: Apple___Cedar_apple_rust \t True class: AppleCedarRust4.JPG\n"
     ]
    }
   ],
   "source": [
    "\n",
    "\n",
    "# # Define fucntion for loading and preprocessing the test images\n",
    "def load_and_preprocess_image(image_path):\n",
    "    img = load_img(image_path, target_size=(256, 256), color_mode='rgb')\n",
    "    img_array = img_to_array(img)\n",
    "    img_array = img_array.astype('float32') / 255.0\n",
    "    return img_array\n",
    "\n",
    "test_images = []\n",
    "for image_file in os.listdir(test_path):\n",
    "    image_path = os.path.join(test_path, image_file)\n",
    "    img_array = load_and_preprocess_image(image_path)\n",
    "    test_images.append(img_array)\n",
    "\n",
    "test_images = np.array(test_images)\n",
    "\n",
    "predictions = model.predict(test_images)\n",
    "predicted_classes = np.argmax(predictions, axis=1)\n",
    "\n",
    "class_indices = train_generator.class_indices\n",
    "class_names = {v: k for k, v in class_indices.items()}\n",
    "predicted_classes_names = [class_names[idx] for idx in predicted_classes]\n",
    "\n",
    "for prediction, true_class in zip(predicted_classes_names, os.listdir(test_path)):\n",
    "    print(\"Prediction:\", prediction, \"\\t True class:\", true_class)"
   ]
  },
  {
   "cell_type": "code",
   "execution_count": 31,
   "metadata": {},
   "outputs": [
    {
     "data": {
      "text/html": [
       "<div>\n",
       "<style scoped>\n",
       "    .dataframe tbody tr th:only-of-type {\n",
       "        vertical-align: middle;\n",
       "    }\n",
       "\n",
       "    .dataframe tbody tr th {\n",
       "        vertical-align: top;\n",
       "    }\n",
       "\n",
       "    .dataframe thead th {\n",
       "        text-align: right;\n",
       "    }\n",
       "</style>\n",
       "<table border=\"1\" class=\"dataframe\">\n",
       "  <thead>\n",
       "    <tr style=\"text-align: right;\">\n",
       "      <th></th>\n",
       "      <th>Predictions</th>\n",
       "      <th>True_classes</th>\n",
       "      <th>Correct</th>\n",
       "    </tr>\n",
       "  </thead>\n",
       "  <tbody>\n",
       "    <tr>\n",
       "      <th>0</th>\n",
       "      <td>Corn_(maize)___Cercospora_leaf_spot Gray_leaf_...</td>\n",
       "      <td>AppleScab3.JPG</td>\n",
       "      <td>0</td>\n",
       "    </tr>\n",
       "    <tr>\n",
       "      <th>1</th>\n",
       "      <td>Tomato___Early_blight</td>\n",
       "      <td>TomatoEarlyBlight2.JPG</td>\n",
       "      <td>1</td>\n",
       "    </tr>\n",
       "    <tr>\n",
       "      <th>2</th>\n",
       "      <td>Tomato___Early_blight</td>\n",
       "      <td>TomatoEarlyBlight3.JPG</td>\n",
       "      <td>1</td>\n",
       "    </tr>\n",
       "    <tr>\n",
       "      <th>3</th>\n",
       "      <td>Potato___healthy</td>\n",
       "      <td>PotatoHealthy1.JPG</td>\n",
       "      <td>1</td>\n",
       "    </tr>\n",
       "    <tr>\n",
       "      <th>4</th>\n",
       "      <td>Apple___Apple_scab</td>\n",
       "      <td>AppleScab2.JPG</td>\n",
       "      <td>1</td>\n",
       "    </tr>\n",
       "    <tr>\n",
       "      <th>5</th>\n",
       "      <td>Tomato___Target_Spot</td>\n",
       "      <td>TomatoEarlyBlight1.JPG</td>\n",
       "      <td>0</td>\n",
       "    </tr>\n",
       "    <tr>\n",
       "      <th>6</th>\n",
       "      <td>Potato___healthy</td>\n",
       "      <td>PotatoHealthy2.JPG</td>\n",
       "      <td>1</td>\n",
       "    </tr>\n",
       "    <tr>\n",
       "      <th>7</th>\n",
       "      <td>Apple___Apple_scab</td>\n",
       "      <td>AppleScab1.JPG</td>\n",
       "      <td>1</td>\n",
       "    </tr>\n",
       "    <tr>\n",
       "      <th>8</th>\n",
       "      <td>Tomato___Early_blight</td>\n",
       "      <td>TomatoEarlyBlight4.JPG</td>\n",
       "      <td>1</td>\n",
       "    </tr>\n",
       "    <tr>\n",
       "      <th>9</th>\n",
       "      <td>Tomato___Target_Spot</td>\n",
       "      <td>TomatoEarlyBlight5.JPG</td>\n",
       "      <td>0</td>\n",
       "    </tr>\n",
       "    <tr>\n",
       "      <th>10</th>\n",
       "      <td>Tomato___Spider_mites Two-spotted_spider_mite</td>\n",
       "      <td>TomatoEarlyBlight6.JPG</td>\n",
       "      <td>0</td>\n",
       "    </tr>\n",
       "    <tr>\n",
       "      <th>11</th>\n",
       "      <td>Potato___Early_blight</td>\n",
       "      <td>PotatoEarlyBlight4.JPG</td>\n",
       "      <td>1</td>\n",
       "    </tr>\n",
       "    <tr>\n",
       "      <th>12</th>\n",
       "      <td>Potato___healthy</td>\n",
       "      <td>PotatoEarlyBlight5.JPG</td>\n",
       "      <td>0</td>\n",
       "    </tr>\n",
       "    <tr>\n",
       "      <th>13</th>\n",
       "      <td>Potato___Early_blight</td>\n",
       "      <td>PotatoEarlyBlight2.JPG</td>\n",
       "      <td>1</td>\n",
       "    </tr>\n",
       "    <tr>\n",
       "      <th>14</th>\n",
       "      <td>Potato___healthy</td>\n",
       "      <td>PotatoEarlyBlight3.JPG</td>\n",
       "      <td>0</td>\n",
       "    </tr>\n",
       "    <tr>\n",
       "      <th>15</th>\n",
       "      <td>Potato___Early_blight</td>\n",
       "      <td>PotatoEarlyBlight1.JPG</td>\n",
       "      <td>1</td>\n",
       "    </tr>\n",
       "    <tr>\n",
       "      <th>16</th>\n",
       "      <td>Tomato___Tomato_Yellow_Leaf_Curl_Virus</td>\n",
       "      <td>TomatoYellowCurlVirus2.JPG</td>\n",
       "      <td>1</td>\n",
       "    </tr>\n",
       "    <tr>\n",
       "      <th>17</th>\n",
       "      <td>Tomato___Early_blight</td>\n",
       "      <td>TomatoYellowCurlVirus3.JPG</td>\n",
       "      <td>0</td>\n",
       "    </tr>\n",
       "    <tr>\n",
       "      <th>18</th>\n",
       "      <td>Tomato___Spider_mites Two-spotted_spider_mite</td>\n",
       "      <td>TomatoYellowCurlVirus1.JPG</td>\n",
       "      <td>0</td>\n",
       "    </tr>\n",
       "    <tr>\n",
       "      <th>19</th>\n",
       "      <td>Tomato___healthy</td>\n",
       "      <td>TomatoHealthy4.JPG</td>\n",
       "      <td>1</td>\n",
       "    </tr>\n",
       "    <tr>\n",
       "      <th>20</th>\n",
       "      <td>Tomato___Tomato_Yellow_Leaf_Curl_Virus</td>\n",
       "      <td>TomatoYellowCurlVirus4.JPG</td>\n",
       "      <td>1</td>\n",
       "    </tr>\n",
       "    <tr>\n",
       "      <th>21</th>\n",
       "      <td>Tomato___healthy</td>\n",
       "      <td>TomatoHealthy1.JPG</td>\n",
       "      <td>1</td>\n",
       "    </tr>\n",
       "    <tr>\n",
       "      <th>22</th>\n",
       "      <td>Tomato___Tomato_Yellow_Leaf_Curl_Virus</td>\n",
       "      <td>TomatoYellowCurlVirus5.JPG</td>\n",
       "      <td>1</td>\n",
       "    </tr>\n",
       "    <tr>\n",
       "      <th>23</th>\n",
       "      <td>Tomato___healthy</td>\n",
       "      <td>TomatoHealthy3.JPG</td>\n",
       "      <td>1</td>\n",
       "    </tr>\n",
       "    <tr>\n",
       "      <th>24</th>\n",
       "      <td>Tomato___healthy</td>\n",
       "      <td>TomatoHealthy2.JPG</td>\n",
       "      <td>1</td>\n",
       "    </tr>\n",
       "    <tr>\n",
       "      <th>25</th>\n",
       "      <td>Tomato___Tomato_Yellow_Leaf_Curl_Virus</td>\n",
       "      <td>TomatoYellowCurlVirus6.JPG</td>\n",
       "      <td>1</td>\n",
       "    </tr>\n",
       "    <tr>\n",
       "      <th>26</th>\n",
       "      <td>Apple___Cedar_apple_rust</td>\n",
       "      <td>AppleCedarRust2.JPG</td>\n",
       "      <td>1</td>\n",
       "    </tr>\n",
       "    <tr>\n",
       "      <th>27</th>\n",
       "      <td>Corn_(maize)___Common_rust_</td>\n",
       "      <td>CornCommonRust1.JPG</td>\n",
       "      <td>1</td>\n",
       "    </tr>\n",
       "    <tr>\n",
       "      <th>28</th>\n",
       "      <td>Apple___Cedar_apple_rust</td>\n",
       "      <td>AppleCedarRust3.JPG</td>\n",
       "      <td>1</td>\n",
       "    </tr>\n",
       "    <tr>\n",
       "      <th>29</th>\n",
       "      <td>Apple___Cedar_apple_rust</td>\n",
       "      <td>AppleCedarRust1.JPG</td>\n",
       "      <td>1</td>\n",
       "    </tr>\n",
       "    <tr>\n",
       "      <th>30</th>\n",
       "      <td>Corn_(maize)___Common_rust_</td>\n",
       "      <td>CornCommonRust2.JPG</td>\n",
       "      <td>1</td>\n",
       "    </tr>\n",
       "    <tr>\n",
       "      <th>31</th>\n",
       "      <td>Corn_(maize)___Common_rust_</td>\n",
       "      <td>CornCommonRust3.JPG</td>\n",
       "      <td>1</td>\n",
       "    </tr>\n",
       "    <tr>\n",
       "      <th>32</th>\n",
       "      <td>Apple___Cedar_apple_rust</td>\n",
       "      <td>AppleCedarRust4.JPG</td>\n",
       "      <td>1</td>\n",
       "    </tr>\n",
       "  </tbody>\n",
       "</table>\n",
       "</div>"
      ],
      "text/plain": [
       "                                          Predictions  \\\n",
       "0   Corn_(maize)___Cercospora_leaf_spot Gray_leaf_...   \n",
       "1                               Tomato___Early_blight   \n",
       "2                               Tomato___Early_blight   \n",
       "3                                    Potato___healthy   \n",
       "4                                  Apple___Apple_scab   \n",
       "5                                Tomato___Target_Spot   \n",
       "6                                    Potato___healthy   \n",
       "7                                  Apple___Apple_scab   \n",
       "8                               Tomato___Early_blight   \n",
       "9                                Tomato___Target_Spot   \n",
       "10      Tomato___Spider_mites Two-spotted_spider_mite   \n",
       "11                              Potato___Early_blight   \n",
       "12                                   Potato___healthy   \n",
       "13                              Potato___Early_blight   \n",
       "14                                   Potato___healthy   \n",
       "15                              Potato___Early_blight   \n",
       "16             Tomato___Tomato_Yellow_Leaf_Curl_Virus   \n",
       "17                              Tomato___Early_blight   \n",
       "18      Tomato___Spider_mites Two-spotted_spider_mite   \n",
       "19                                   Tomato___healthy   \n",
       "20             Tomato___Tomato_Yellow_Leaf_Curl_Virus   \n",
       "21                                   Tomato___healthy   \n",
       "22             Tomato___Tomato_Yellow_Leaf_Curl_Virus   \n",
       "23                                   Tomato___healthy   \n",
       "24                                   Tomato___healthy   \n",
       "25             Tomato___Tomato_Yellow_Leaf_Curl_Virus   \n",
       "26                           Apple___Cedar_apple_rust   \n",
       "27                        Corn_(maize)___Common_rust_   \n",
       "28                           Apple___Cedar_apple_rust   \n",
       "29                           Apple___Cedar_apple_rust   \n",
       "30                        Corn_(maize)___Common_rust_   \n",
       "31                        Corn_(maize)___Common_rust_   \n",
       "32                           Apple___Cedar_apple_rust   \n",
       "\n",
       "                  True_classes  Correct  \n",
       "0               AppleScab3.JPG        0  \n",
       "1       TomatoEarlyBlight2.JPG        1  \n",
       "2       TomatoEarlyBlight3.JPG        1  \n",
       "3           PotatoHealthy1.JPG        1  \n",
       "4               AppleScab2.JPG        1  \n",
       "5       TomatoEarlyBlight1.JPG        0  \n",
       "6           PotatoHealthy2.JPG        1  \n",
       "7               AppleScab1.JPG        1  \n",
       "8       TomatoEarlyBlight4.JPG        1  \n",
       "9       TomatoEarlyBlight5.JPG        0  \n",
       "10      TomatoEarlyBlight6.JPG        0  \n",
       "11      PotatoEarlyBlight4.JPG        1  \n",
       "12      PotatoEarlyBlight5.JPG        0  \n",
       "13      PotatoEarlyBlight2.JPG        1  \n",
       "14      PotatoEarlyBlight3.JPG        0  \n",
       "15      PotatoEarlyBlight1.JPG        1  \n",
       "16  TomatoYellowCurlVirus2.JPG        1  \n",
       "17  TomatoYellowCurlVirus3.JPG        0  \n",
       "18  TomatoYellowCurlVirus1.JPG        0  \n",
       "19          TomatoHealthy4.JPG        1  \n",
       "20  TomatoYellowCurlVirus4.JPG        1  \n",
       "21          TomatoHealthy1.JPG        1  \n",
       "22  TomatoYellowCurlVirus5.JPG        1  \n",
       "23          TomatoHealthy3.JPG        1  \n",
       "24          TomatoHealthy2.JPG        1  \n",
       "25  TomatoYellowCurlVirus6.JPG        1  \n",
       "26         AppleCedarRust2.JPG        1  \n",
       "27         CornCommonRust1.JPG        1  \n",
       "28         AppleCedarRust3.JPG        1  \n",
       "29         AppleCedarRust1.JPG        1  \n",
       "30         CornCommonRust2.JPG        1  \n",
       "31         CornCommonRust3.JPG        1  \n",
       "32         AppleCedarRust4.JPG        1  "
      ]
     },
     "metadata": {},
     "output_type": "display_data"
    }
   ],
   "source": [
    "test_comparison = pd.DataFrame({\n",
    "    \"Predictions\": predicted_classes_names,\n",
    "    \"True_classes\": os.listdir(test_path)\n",
    "})\n",
    "\n",
    "test_comparison[\"Correct\"] = [0, 1, 1, 1, 1, 0, 1, 1, 1, 0, 0, 1, 0, 1, 0, 1, 1, 0, 0, 1, 1, 1, 1, 1, 1, 1, 1, 1, 1, 1, 1, 1, 1]\n",
    "\n",
    "display(test_comparison)"
   ]
  },
  {
   "cell_type": "code",
   "execution_count": 32,
   "metadata": {},
   "outputs": [
    {
     "data": {
      "text/plain": [
       "Correct\n",
       "1    0.757576\n",
       "0    0.242424\n",
       "Name: proportion, dtype: float64"
      ]
     },
     "execution_count": 32,
     "metadata": {},
     "output_type": "execute_result"
    }
   ],
   "source": [
    "test_comparison[\"Correct\"].value_counts(normalize=True)"
   ]
  }
 ],
 "metadata": {
  "kernelspec": {
   "display_name": "keras_env",
   "language": "python",
   "name": "python3"
  },
  "language_info": {
   "codemirror_mode": {
    "name": "ipython",
    "version": 3
   },
   "file_extension": ".py",
   "mimetype": "text/x-python",
   "name": "python",
   "nbconvert_exporter": "python",
   "pygments_lexer": "ipython3",
   "version": "3.8.13"
  }
 },
 "nbformat": 4,
 "nbformat_minor": 2
}
