{
 "cells": [
  {
   "cell_type": "markdown",
   "metadata": {},
   "source": [
    "# 1. Import and path setting\n",
    "Installing Kagglehub and downloading dataset via Kaggle API"
   ]
  },
  {
   "cell_type": "code",
   "execution_count": 1,
   "metadata": {},
   "outputs": [
    {
     "name": "stdout",
     "output_type": "stream",
     "text": [
      "Requirement already satisfied: kagglehub in /Users/yannik/anaconda3/envs/keras_env/lib/python3.8/site-packages (0.2.9)\n",
      "Requirement already satisfied: packaging in /Users/yannik/anaconda3/envs/keras_env/lib/python3.8/site-packages (from kagglehub) (24.2)\n",
      "Requirement already satisfied: requests in /Users/yannik/anaconda3/envs/keras_env/lib/python3.8/site-packages (from kagglehub) (2.32.3)\n",
      "Requirement already satisfied: tqdm in /Users/yannik/anaconda3/envs/keras_env/lib/python3.8/site-packages (from kagglehub) (4.67.1)\n",
      "Requirement already satisfied: charset-normalizer<4,>=2 in /Users/yannik/anaconda3/envs/keras_env/lib/python3.8/site-packages (from requests->kagglehub) (3.4.0)\n",
      "Requirement already satisfied: idna<4,>=2.5 in /Users/yannik/anaconda3/envs/keras_env/lib/python3.8/site-packages (from requests->kagglehub) (3.10)\n",
      "Requirement already satisfied: urllib3<3,>=1.21.1 in /Users/yannik/anaconda3/envs/keras_env/lib/python3.8/site-packages (from requests->kagglehub) (2.2.3)\n",
      "Requirement already satisfied: certifi>=2017.4.17 in /Users/yannik/anaconda3/envs/keras_env/lib/python3.8/site-packages (from requests->kagglehub) (2024.8.30)\n"
     ]
    },
    {
     "name": "stderr",
     "output_type": "stream",
     "text": [
      "/Users/yannik/anaconda3/envs/keras_env/lib/python3.8/site-packages/tqdm/auto.py:21: TqdmWarning: IProgress not found. Please update jupyter and ipywidgets. See https://ipywidgets.readthedocs.io/en/stable/user_install.html\n",
      "  from .autonotebook import tqdm as notebook_tqdm\n"
     ]
    },
    {
     "name": "stdout",
     "output_type": "stream",
     "text": [
      "Warning: Looks like you're using an outdated `kagglehub` version, please consider updating (latest version: 0.3.4)\n",
      "Path to dataset files: /Users/yannik/.cache/kagglehub/datasets/vipoooool/new-plant-diseases-dataset/versions/2\n"
     ]
    }
   ],
   "source": [
    "import kagglehub\n",
    "\n",
    "# Download latest version\n",
    "path = kagglehub.dataset_download(\"vipoooool/new-plant-diseases-dataset\")\n",
    "\n",
    "print(\"Path to dataset files:\", path)"
   ]
  },
  {
   "cell_type": "markdown",
   "metadata": {},
   "source": [
    "Defining the paths to training, validation, and testing folder. Counting the number of folders and files."
   ]
  },
  {
   "cell_type": "code",
   "execution_count": 2,
   "metadata": {},
   "outputs": [
    {
     "name": "stdout",
     "output_type": "stream",
     "text": [
      "Number of folders in train_path: 38\n",
      "Number of folders in valid_path: 38\n",
      "Number of files in test_path: 33\n",
      "-------------------------------------------------------------------\n",
      "Files in each folder (train_path):\n",
      "Strawberry___healthy: 1824 files\n",
      "Grape___Black_rot: 1888 files\n",
      "Potato___Early_blight: 1939 files\n",
      "Blueberry___healthy: 1816 files\n",
      "Corn_(maize)___healthy: 1859 files\n",
      "Tomato___Target_Spot: 1827 files\n",
      "Peach___healthy: 1728 files\n",
      "Potato___Late_blight: 1939 files\n",
      "Tomato___Late_blight: 1851 files\n",
      "Tomato___Tomato_mosaic_virus: 1790 files\n",
      "Pepper,_bell___healthy: 1988 files\n",
      "Orange___Haunglongbing_(Citrus_greening): 2010 files\n",
      "Tomato___Leaf_Mold: 1882 files\n",
      "Grape___Leaf_blight_(Isariopsis_Leaf_Spot): 1722 files\n",
      "Cherry_(including_sour)___Powdery_mildew: 1683 files\n",
      "Apple___Cedar_apple_rust: 1760 files\n",
      "Tomato___Bacterial_spot: 1702 files\n",
      "Grape___healthy: 1692 files\n",
      "Tomato___Early_blight: 1920 files\n",
      "Corn_(maize)___Common_rust_: 1907 files\n",
      "Grape___Esca_(Black_Measles): 1920 files\n",
      "Raspberry___healthy: 1781 files\n",
      "Tomato___healthy: 1926 files\n",
      "Cherry_(including_sour)___healthy: 1826 files\n",
      "Tomato___Tomato_Yellow_Leaf_Curl_Virus: 1961 files\n",
      "Apple___Apple_scab: 2016 files\n",
      "Corn_(maize)___Northern_Leaf_Blight: 1908 files\n",
      "Tomato___Spider_mites Two-spotted_spider_mite: 1741 files\n",
      "Peach___Bacterial_spot: 1838 files\n",
      "Pepper,_bell___Bacterial_spot: 1913 files\n",
      "Tomato___Septoria_leaf_spot: 1745 files\n",
      "Squash___Powdery_mildew: 1736 files\n",
      "Corn_(maize)___Cercospora_leaf_spot Gray_leaf_spot: 1642 files\n",
      "Apple___Black_rot: 1987 files\n",
      "Apple___healthy: 2008 files\n",
      "Strawberry___Leaf_scorch: 1774 files\n",
      "Potato___healthy: 1824 files\n",
      "Soybean___healthy: 2022 files\n",
      "\n",
      "Files in each folder (valid_path):\n",
      "Strawberry___healthy: 456 files\n",
      "Grape___Black_rot: 472 files\n",
      "Potato___Early_blight: 485 files\n",
      "Blueberry___healthy: 454 files\n",
      "Corn_(maize)___healthy: 465 files\n",
      "Tomato___Target_Spot: 457 files\n",
      "Peach___healthy: 432 files\n",
      "Potato___Late_blight: 485 files\n",
      "Tomato___Late_blight: 463 files\n",
      "Tomato___Tomato_mosaic_virus: 448 files\n",
      "Pepper,_bell___healthy: 497 files\n",
      "Orange___Haunglongbing_(Citrus_greening): 503 files\n",
      "Tomato___Leaf_Mold: 470 files\n",
      "Grape___Leaf_blight_(Isariopsis_Leaf_Spot): 430 files\n",
      "Cherry_(including_sour)___Powdery_mildew: 421 files\n",
      "Apple___Cedar_apple_rust: 440 files\n",
      "Tomato___Bacterial_spot: 425 files\n",
      "Grape___healthy: 423 files\n",
      "Tomato___Early_blight: 480 files\n",
      "Corn_(maize)___Common_rust_: 477 files\n",
      "Grape___Esca_(Black_Measles): 480 files\n",
      "Raspberry___healthy: 445 files\n",
      "Tomato___healthy: 481 files\n",
      "Cherry_(including_sour)___healthy: 456 files\n",
      "Tomato___Tomato_Yellow_Leaf_Curl_Virus: 490 files\n",
      "Apple___Apple_scab: 504 files\n",
      "Corn_(maize)___Northern_Leaf_Blight: 477 files\n",
      "Tomato___Spider_mites Two-spotted_spider_mite: 435 files\n",
      "Peach___Bacterial_spot: 459 files\n",
      "Pepper,_bell___Bacterial_spot: 478 files\n",
      "Tomato___Septoria_leaf_spot: 436 files\n",
      "Squash___Powdery_mildew: 434 files\n",
      "Corn_(maize)___Cercospora_leaf_spot Gray_leaf_spot: 410 files\n",
      "Apple___Black_rot: 497 files\n",
      "Apple___healthy: 502 files\n",
      "Strawberry___Leaf_scorch: 444 files\n",
      "Potato___healthy: 456 files\n",
      "Soybean___healthy: 505 files\n"
     ]
    }
   ],
   "source": [
    "import os\n",
    "\n",
    "# Define the dataset path\n",
    "root_folder = \"/Users/yannik/.cache/kagglehub/datasets/vipoooool/new-plant-diseases-dataset/versions/2\"\n",
    "\n",
    "data_dir = os.path.join(root_folder, 'new plant diseases dataset(augmented)/New Plant Diseases Dataset(Augmented)/')\n",
    "\n",
    "test_path = os.path.join(root_folder, 'test/test')\n",
    "train_path = os.path.join(data_dir, 'train')\n",
    "valid_path = os.path.join(data_dir, 'valid')\n",
    "\n",
    "# Count the number of folders in a directory\n",
    "def count_folders(path):\n",
    "    if os.path.exists(path):\n",
    "        return len([d for d in os.listdir(path) if os.path.isdir(os.path.join(path, d))])\n",
    "    else:\n",
    "        print(f\"Path does not exist: {path}\")\n",
    "        return 0\n",
    "\n",
    "# Count the number of files in a directory\n",
    "def count_files(path):\n",
    "    if os.path.exists(path):\n",
    "        return len([f for f in os.listdir(path) if os.path.isfile(os.path.join(path, f))])\n",
    "    else:\n",
    "        print(f\"Path does not exist: {path}\")\n",
    "        return 0\n",
    "\n",
    "# Function to count files in each folder of a given directory\n",
    "def count_files_in_folders(path):\n",
    "    if not os.path.exists(path):\n",
    "        print(f\"Path does not exist: {path}\")\n",
    "        return {}\n",
    "\n",
    "    folder_file_counts = {}\n",
    "    for folder in os.listdir(path):\n",
    "        folder_path = os.path.join(path, folder)\n",
    "        if os.path.isdir(folder_path):\n",
    "            file_count = len([f for f in os.listdir(folder_path) if os.path.isfile(os.path.join(folder_path, f))])\n",
    "            folder_file_counts[folder] = file_count\n",
    "\n",
    "    return folder_file_counts\n",
    "\n",
    "# Print counts\n",
    "print(f\"Number of folders in train_path: {count_folders(train_path)}\")\n",
    "print(f\"Number of folders in valid_path: {count_folders(valid_path)}\")\n",
    "print(f\"Number of files in test_path: {count_files(test_path)}\")\n",
    "print('-------------------------------------------------------------------')\n",
    "# Count files in each folder\n",
    "train_folder_counts = count_files_in_folders(train_path)\n",
    "valid_folder_counts = count_files_in_folders(valid_path)\n",
    "# Display results\n",
    "print(\"Files in each folder (train_path):\")\n",
    "for folder, count in train_folder_counts.items():\n",
    "    print(f\"{folder}: {count} files\")\n",
    "\n",
    "print(\"\\nFiles in each folder (valid_path):\")\n",
    "for folder, count in valid_folder_counts.items():\n",
    "    print(f\"{folder}: {count} files\")"
   ]
  },
  {
   "cell_type": "code",
   "execution_count": 5,
   "metadata": {},
   "outputs": [
    {
     "name": "stdout",
     "output_type": "stream",
     "text": [
      "Collecting pandas\n",
      "  Downloading pandas-2.0.3-cp38-cp38-macosx_11_0_arm64.whl.metadata (18 kB)\n",
      "Requirement already satisfied: numpy in /Users/yannik/anaconda3/envs/keras_env/lib/python3.8/site-packages (1.23.2)\n",
      "Collecting matplotlib\n",
      "  Downloading matplotlib-3.7.5-cp38-cp38-macosx_11_0_arm64.whl.metadata (5.7 kB)\n",
      "Collecting seaborn\n",
      "  Downloading seaborn-0.13.2-py3-none-any.whl.metadata (5.4 kB)\n",
      "Collecting tensorflow\n",
      "  Downloading tensorflow-2.13.1-cp38-cp38-macosx_12_0_arm64.whl.metadata (2.6 kB)\n",
      "Requirement already satisfied: python-dateutil>=2.8.2 in /Users/yannik/anaconda3/envs/keras_env/lib/python3.8/site-packages (from pandas) (2.8.2)\n",
      "Collecting pytz>=2020.1 (from pandas)\n",
      "  Downloading pytz-2024.2-py2.py3-none-any.whl.metadata (22 kB)\n",
      "Collecting tzdata>=2022.1 (from pandas)\n",
      "  Downloading tzdata-2024.2-py2.py3-none-any.whl.metadata (1.4 kB)\n",
      "Collecting contourpy>=1.0.1 (from matplotlib)\n",
      "  Downloading contourpy-1.1.1-cp38-cp38-macosx_11_0_arm64.whl.metadata (5.9 kB)\n",
      "Collecting cycler>=0.10 (from matplotlib)\n",
      "  Using cached cycler-0.12.1-py3-none-any.whl.metadata (3.8 kB)\n",
      "Collecting fonttools>=4.22.0 (from matplotlib)\n",
      "  Downloading fonttools-4.55.1-cp38-cp38-macosx_10_9_universal2.whl.metadata (164 kB)\n",
      "Collecting kiwisolver>=1.0.1 (from matplotlib)\n",
      "  Downloading kiwisolver-1.4.7-cp38-cp38-macosx_11_0_arm64.whl.metadata (6.3 kB)\n",
      "Requirement already satisfied: packaging>=20.0 in /Users/yannik/anaconda3/envs/keras_env/lib/python3.8/site-packages (from matplotlib) (24.2)\n",
      "Collecting pillow>=6.2.0 (from matplotlib)\n",
      "  Downloading pillow-10.4.0-cp38-cp38-macosx_11_0_arm64.whl.metadata (9.2 kB)\n",
      "Collecting pyparsing>=2.3.1 (from matplotlib)\n",
      "  Downloading pyparsing-3.1.4-py3-none-any.whl.metadata (5.1 kB)\n",
      "Collecting importlib-resources>=3.2.0 (from matplotlib)\n",
      "  Downloading importlib_resources-6.4.5-py3-none-any.whl.metadata (4.0 kB)\n",
      "INFO: pip is looking at multiple versions of tensorflow to determine which version is compatible with other requirements. This could take a while.\n",
      "Collecting tensorflow\n",
      "  Downloading tensorflow-2.13.0-cp38-cp38-macosx_12_0_arm64.whl.metadata (2.6 kB)\n",
      "Requirement already satisfied: tensorflow-macos==2.13.0 in /Users/yannik/anaconda3/envs/keras_env/lib/python3.8/site-packages (from tensorflow) (2.13.0)\n",
      "Requirement already satisfied: absl-py>=1.0.0 in /Users/yannik/anaconda3/envs/keras_env/lib/python3.8/site-packages (from tensorflow-macos==2.13.0->tensorflow) (2.1.0)\n",
      "Requirement already satisfied: astunparse>=1.6.0 in /Users/yannik/anaconda3/envs/keras_env/lib/python3.8/site-packages (from tensorflow-macos==2.13.0->tensorflow) (1.6.3)\n",
      "Requirement already satisfied: flatbuffers>=23.1.21 in /Users/yannik/anaconda3/envs/keras_env/lib/python3.8/site-packages (from tensorflow-macos==2.13.0->tensorflow) (24.3.25)\n",
      "Requirement already satisfied: gast<=0.4.0,>=0.2.1 in /Users/yannik/anaconda3/envs/keras_env/lib/python3.8/site-packages (from tensorflow-macos==2.13.0->tensorflow) (0.4.0)\n",
      "Requirement already satisfied: google-pasta>=0.1.1 in /Users/yannik/anaconda3/envs/keras_env/lib/python3.8/site-packages (from tensorflow-macos==2.13.0->tensorflow) (0.2.0)\n",
      "Requirement already satisfied: h5py>=2.9.0 in /Users/yannik/.local/lib/python3.8/site-packages (from tensorflow-macos==2.13.0->tensorflow) (3.9.0)\n",
      "Requirement already satisfied: libclang>=13.0.0 in /Users/yannik/anaconda3/envs/keras_env/lib/python3.8/site-packages (from tensorflow-macos==2.13.0->tensorflow) (18.1.1)\n",
      "Requirement already satisfied: opt-einsum>=2.3.2 in /Users/yannik/anaconda3/envs/keras_env/lib/python3.8/site-packages (from tensorflow-macos==2.13.0->tensorflow) (3.4.0)\n",
      "Requirement already satisfied: protobuf!=4.21.0,!=4.21.1,!=4.21.2,!=4.21.3,!=4.21.4,!=4.21.5,<5.0.0dev,>=3.20.3 in /Users/yannik/anaconda3/envs/keras_env/lib/python3.8/site-packages (from tensorflow-macos==2.13.0->tensorflow) (4.25.5)\n",
      "Requirement already satisfied: setuptools in /Users/yannik/anaconda3/envs/keras_env/lib/python3.8/site-packages (from tensorflow-macos==2.13.0->tensorflow) (70.3.0)\n",
      "Requirement already satisfied: six>=1.12.0 in /Users/yannik/anaconda3/envs/keras_env/lib/python3.8/site-packages (from tensorflow-macos==2.13.0->tensorflow) (1.16.0)\n",
      "Requirement already satisfied: termcolor>=1.1.0 in /Users/yannik/anaconda3/envs/keras_env/lib/python3.8/site-packages (from tensorflow-macos==2.13.0->tensorflow) (2.4.0)\n",
      "Collecting typing-extensions<4.6.0,>=3.6.6 (from tensorflow-macos==2.13.0->tensorflow)\n",
      "  Using cached typing_extensions-4.5.0-py3-none-any.whl.metadata (8.5 kB)\n",
      "Requirement already satisfied: wrapt>=1.11.0 in /Users/yannik/anaconda3/envs/keras_env/lib/python3.8/site-packages (from tensorflow-macos==2.13.0->tensorflow) (1.17.0)\n",
      "Requirement already satisfied: grpcio<2.0,>=1.24.3 in /Users/yannik/anaconda3/envs/keras_env/lib/python3.8/site-packages (from tensorflow-macos==2.13.0->tensorflow) (1.68.1)\n",
      "Requirement already satisfied: tensorboard<2.14,>=2.13 in /Users/yannik/anaconda3/envs/keras_env/lib/python3.8/site-packages (from tensorflow-macos==2.13.0->tensorflow) (2.13.0)\n",
      "Requirement already satisfied: tensorflow-estimator<2.14,>=2.13.0 in /Users/yannik/anaconda3/envs/keras_env/lib/python3.8/site-packages (from tensorflow-macos==2.13.0->tensorflow) (2.13.0)\n",
      "Requirement already satisfied: keras<2.14,>=2.13.1 in /Users/yannik/anaconda3/envs/keras_env/lib/python3.8/site-packages (from tensorflow-macos==2.13.0->tensorflow) (2.13.1)\n",
      "Requirement already satisfied: zipp>=3.1.0 in /Users/yannik/anaconda3/envs/keras_env/lib/python3.8/site-packages (from importlib-resources>=3.2.0->matplotlib) (3.20.2)\n",
      "Requirement already satisfied: wheel<1.0,>=0.23.0 in /Users/yannik/anaconda3/envs/keras_env/lib/python3.8/site-packages (from astunparse>=1.6.0->tensorflow-macos==2.13.0->tensorflow) (0.45.1)\n",
      "Requirement already satisfied: google-auth<3,>=1.6.3 in /Users/yannik/anaconda3/envs/keras_env/lib/python3.8/site-packages (from tensorboard<2.14,>=2.13->tensorflow-macos==2.13.0->tensorflow) (2.36.0)\n",
      "Requirement already satisfied: google-auth-oauthlib<1.1,>=0.5 in /Users/yannik/anaconda3/envs/keras_env/lib/python3.8/site-packages (from tensorboard<2.14,>=2.13->tensorflow-macos==2.13.0->tensorflow) (1.0.0)\n",
      "Requirement already satisfied: markdown>=2.6.8 in /Users/yannik/anaconda3/envs/keras_env/lib/python3.8/site-packages (from tensorboard<2.14,>=2.13->tensorflow-macos==2.13.0->tensorflow) (3.7)\n",
      "Requirement already satisfied: requests<3,>=2.21.0 in /Users/yannik/anaconda3/envs/keras_env/lib/python3.8/site-packages (from tensorboard<2.14,>=2.13->tensorflow-macos==2.13.0->tensorflow) (2.32.3)\n",
      "Requirement already satisfied: tensorboard-data-server<0.8.0,>=0.7.0 in /Users/yannik/anaconda3/envs/keras_env/lib/python3.8/site-packages (from tensorboard<2.14,>=2.13->tensorflow-macos==2.13.0->tensorflow) (0.7.2)\n",
      "Requirement already satisfied: werkzeug>=1.0.1 in /Users/yannik/anaconda3/envs/keras_env/lib/python3.8/site-packages (from tensorboard<2.14,>=2.13->tensorflow-macos==2.13.0->tensorflow) (3.0.6)\n",
      "Requirement already satisfied: cachetools<6.0,>=2.0.0 in /Users/yannik/anaconda3/envs/keras_env/lib/python3.8/site-packages (from google-auth<3,>=1.6.3->tensorboard<2.14,>=2.13->tensorflow-macos==2.13.0->tensorflow) (5.5.0)\n",
      "Requirement already satisfied: pyasn1-modules>=0.2.1 in /Users/yannik/anaconda3/envs/keras_env/lib/python3.8/site-packages (from google-auth<3,>=1.6.3->tensorboard<2.14,>=2.13->tensorflow-macos==2.13.0->tensorflow) (0.4.1)\n",
      "Requirement already satisfied: rsa<5,>=3.1.4 in /Users/yannik/anaconda3/envs/keras_env/lib/python3.8/site-packages (from google-auth<3,>=1.6.3->tensorboard<2.14,>=2.13->tensorflow-macos==2.13.0->tensorflow) (4.9)\n",
      "Requirement already satisfied: requests-oauthlib>=0.7.0 in /Users/yannik/anaconda3/envs/keras_env/lib/python3.8/site-packages (from google-auth-oauthlib<1.1,>=0.5->tensorboard<2.14,>=2.13->tensorflow-macos==2.13.0->tensorflow) (2.0.0)\n",
      "Requirement already satisfied: importlib-metadata>=4.4 in /Users/yannik/anaconda3/envs/keras_env/lib/python3.8/site-packages (from markdown>=2.6.8->tensorboard<2.14,>=2.13->tensorflow-macos==2.13.0->tensorflow) (8.5.0)\n",
      "Requirement already satisfied: charset-normalizer<4,>=2 in /Users/yannik/anaconda3/envs/keras_env/lib/python3.8/site-packages (from requests<3,>=2.21.0->tensorboard<2.14,>=2.13->tensorflow-macos==2.13.0->tensorflow) (3.4.0)\n",
      "Requirement already satisfied: idna<4,>=2.5 in /Users/yannik/anaconda3/envs/keras_env/lib/python3.8/site-packages (from requests<3,>=2.21.0->tensorboard<2.14,>=2.13->tensorflow-macos==2.13.0->tensorflow) (3.10)\n",
      "Requirement already satisfied: urllib3<3,>=1.21.1 in /Users/yannik/anaconda3/envs/keras_env/lib/python3.8/site-packages (from requests<3,>=2.21.0->tensorboard<2.14,>=2.13->tensorflow-macos==2.13.0->tensorflow) (2.2.3)\n",
      "Requirement already satisfied: certifi>=2017.4.17 in /Users/yannik/anaconda3/envs/keras_env/lib/python3.8/site-packages (from requests<3,>=2.21.0->tensorboard<2.14,>=2.13->tensorflow-macos==2.13.0->tensorflow) (2024.8.30)\n",
      "Requirement already satisfied: MarkupSafe>=2.1.1 in /Users/yannik/anaconda3/envs/keras_env/lib/python3.8/site-packages (from werkzeug>=1.0.1->tensorboard<2.14,>=2.13->tensorflow-macos==2.13.0->tensorflow) (2.1.5)\n",
      "Requirement already satisfied: pyasn1<0.7.0,>=0.4.6 in /Users/yannik/anaconda3/envs/keras_env/lib/python3.8/site-packages (from pyasn1-modules>=0.2.1->google-auth<3,>=1.6.3->tensorboard<2.14,>=2.13->tensorflow-macos==2.13.0->tensorflow) (0.6.1)\n",
      "Requirement already satisfied: oauthlib>=3.0.0 in /Users/yannik/anaconda3/envs/keras_env/lib/python3.8/site-packages (from requests-oauthlib>=0.7.0->google-auth-oauthlib<1.1,>=0.5->tensorboard<2.14,>=2.13->tensorflow-macos==2.13.0->tensorflow) (3.2.2)\n",
      "Downloading pandas-2.0.3-cp38-cp38-macosx_11_0_arm64.whl (10.7 MB)\n",
      "\u001b[2K   \u001b[90m━━━━━━━━━━━━━━━━━━━━━━━━━━━━━━━━━━━━━━━━\u001b[0m \u001b[32m10.7/10.7 MB\u001b[0m \u001b[31m3.1 MB/s\u001b[0m eta \u001b[36m0:00:00\u001b[0m00:01\u001b[0m0:01\u001b[0m\n",
      "\u001b[?25hDownloading matplotlib-3.7.5-cp38-cp38-macosx_11_0_arm64.whl (7.3 MB)\n",
      "\u001b[2K   \u001b[90m━━━━━━━━━━━━━━━━━━━━━━━━━━━━━━━━━━━━━━━━\u001b[0m \u001b[32m7.3/7.3 MB\u001b[0m \u001b[31m3.8 MB/s\u001b[0m eta \u001b[36m0:00:00\u001b[0ma \u001b[36m0:00:01\u001b[0m\n",
      "\u001b[?25hDownloading seaborn-0.13.2-py3-none-any.whl (294 kB)\n",
      "Downloading tensorflow-2.13.0-cp38-cp38-macosx_12_0_arm64.whl (1.9 kB)\n",
      "Downloading contourpy-1.1.1-cp38-cp38-macosx_11_0_arm64.whl (232 kB)\n",
      "Using cached cycler-0.12.1-py3-none-any.whl (8.3 kB)\n",
      "Downloading fonttools-4.55.1-cp38-cp38-macosx_10_9_universal2.whl (2.8 MB)\n",
      "\u001b[2K   \u001b[90m━━━━━━━━━━━━━━━━━━━━━━━━━━━━━━━━━━━━━━━━\u001b[0m \u001b[32m2.8/2.8 MB\u001b[0m \u001b[31m4.5 MB/s\u001b[0m eta \u001b[36m0:00:00\u001b[0ma \u001b[36m0:00:01\u001b[0m\n",
      "\u001b[?25hDownloading importlib_resources-6.4.5-py3-none-any.whl (36 kB)\n",
      "Downloading kiwisolver-1.4.7-cp38-cp38-macosx_11_0_arm64.whl (64 kB)\n",
      "Downloading pillow-10.4.0-cp38-cp38-macosx_11_0_arm64.whl (3.4 MB)\n",
      "\u001b[2K   \u001b[90m━━━━━━━━━━━━━━━━━━━━━━━━━━━━━━━━━━━━━━━━\u001b[0m \u001b[32m3.4/3.4 MB\u001b[0m \u001b[31m4.3 MB/s\u001b[0m eta \u001b[36m0:00:00\u001b[0ma \u001b[36m0:00:01\u001b[0m\n",
      "\u001b[?25hDownloading pyparsing-3.1.4-py3-none-any.whl (104 kB)\n",
      "Downloading pytz-2024.2-py2.py3-none-any.whl (508 kB)\n",
      "Downloading tzdata-2024.2-py2.py3-none-any.whl (346 kB)\n",
      "Using cached typing_extensions-4.5.0-py3-none-any.whl (27 kB)\n",
      "Installing collected packages: pytz, tzdata, typing-extensions, pyparsing, pillow, kiwisolver, importlib-resources, fonttools, cycler, contourpy, pandas, matplotlib, seaborn, tensorflow\n",
      "  Attempting uninstall: typing-extensions\n",
      "    Found existing installation: typing_extensions 4.12.2\n",
      "    Uninstalling typing_extensions-4.12.2:\n",
      "      Successfully uninstalled typing_extensions-4.12.2\n",
      "\u001b[31mERROR: pip's dependency resolver does not currently take into account all the packages that are installed. This behaviour is the source of the following dependency conflicts.\n",
      "clims 0.4.4 requires ase>=3.21.1, which is not installed.\n",
      "clims 0.4.4 requires pytest>=6.2.3, which is not installed.\n",
      "phonopy 2.20.0 requires PyYAML>=5.3, which is not installed.\u001b[0m\u001b[31m\n",
      "\u001b[0mSuccessfully installed contourpy-1.1.1 cycler-0.12.1 fonttools-4.55.1 importlib-resources-6.4.5 kiwisolver-1.4.7 matplotlib-3.7.5 pandas-2.0.3 pillow-10.4.0 pyparsing-3.1.4 pytz-2024.2 seaborn-0.13.2 tensorflow-2.13.0 typing-extensions-4.5.0 tzdata-2024.2\n"
     ]
    }
   ],
   "source": [
    "!pip install pandas numpy matplotlib seaborn tensorflow"
   ]
  },
  {
   "cell_type": "code",
   "execution_count": 3,
   "metadata": {},
   "outputs": [],
   "source": [
    "import pandas as pd\n",
    "import numpy as np\n",
    "import matplotlib.pyplot as plt\n",
    "import seaborn as sns\n",
    "\n",
    "from tensorflow.keras.preprocessing.image import ImageDataGenerator\n",
    "from tensorflow.keras.models import Sequential\n",
    "from tensorflow.keras.layers import Conv2D, MaxPooling2D, Flatten, Dense, Dropout"
   ]
  },
  {
   "cell_type": "code",
   "execution_count": 4,
   "metadata": {},
   "outputs": [
    {
     "name": "stdout",
     "output_type": "stream",
     "text": [
      "WARNING:tensorflow:From /var/folders/k_/2bfsctdx2z91qswg8rrs20lh0000gn/T/ipykernel_5798/2701214142.py:2: is_gpu_available (from tensorflow.python.framework.test_util) is deprecated and will be removed in a future version.\n",
      "Instructions for updating:\n",
      "Use `tf.config.list_physical_devices('GPU')` instead.\n",
      "GPU Available: True\n",
      "[PhysicalDevice(name='/physical_device:GPU:0', device_type='GPU')]\n"
     ]
    },
    {
     "name": "stderr",
     "output_type": "stream",
     "text": [
      "2024-12-09 23:09:42.497938: I metal_plugin/src/device/metal_device.cc:1154] Metal device set to: Apple M2\n",
      "2024-12-09 23:09:42.498000: I metal_plugin/src/device/metal_device.cc:296] systemMemory: 8.00 GB\n",
      "2024-12-09 23:09:42.498014: I metal_plugin/src/device/metal_device.cc:313] maxCacheSize: 2.67 GB\n",
      "2024-12-09 23:09:42.498253: I tensorflow/core/common_runtime/pluggable_device/pluggable_device_factory.cc:303] Could not identify NUMA node of platform GPU ID 0, defaulting to 0. Your kernel may not have been built with NUMA support.\n",
      "2024-12-09 23:09:42.498359: I tensorflow/core/common_runtime/pluggable_device/pluggable_device_factory.cc:269] Created TensorFlow device (/device:GPU:0 with 0 MB memory) -> physical PluggableDevice (device: 0, name: METAL, pci bus id: <undefined>)\n"
     ]
    }
   ],
   "source": [
    "import tensorflow as tf\n",
    "print(\"GPU Available:\", tf.test.is_gpu_available())\n",
    "print(tf.config.list_physical_devices('GPU'))"
   ]
  },
  {
   "cell_type": "code",
   "execution_count": 5,
   "metadata": {},
   "outputs": [
    {
     "name": "stdout",
     "output_type": "stream",
     "text": [
      "10.4.0\n",
      "1.10.1\n"
     ]
    }
   ],
   "source": [
    "import PIL\n",
    "import scipy\n",
    "\n",
    "print(PIL.__version__)\n",
    "print(scipy.__version__)"
   ]
  },
  {
   "cell_type": "markdown",
   "metadata": {},
   "source": [
    "# 2. First simple LeNet model"
   ]
  },
  {
   "cell_type": "code",
   "execution_count": 6,
   "metadata": {},
   "outputs": [
    {
     "name": "stdout",
     "output_type": "stream",
     "text": [
      "Found 70295 images belonging to 38 classes.\n",
      "Found 17572 images belonging to 38 classes.\n"
     ]
    },
    {
     "name": "stderr",
     "output_type": "stream",
     "text": [
      "2024-12-04 16:25:12.131921: I tensorflow/core/common_runtime/pluggable_device/pluggable_device_factory.cc:303] Could not identify NUMA node of platform GPU ID 0, defaulting to 0. Your kernel may not have been built with NUMA support.\n",
      "2024-12-04 16:25:12.131953: I tensorflow/core/common_runtime/pluggable_device/pluggable_device_factory.cc:269] Created TensorFlow device (/job:localhost/replica:0/task:0/device:GPU:0 with 0 MB memory) -> physical PluggableDevice (device: 0, name: METAL, pci bus id: <undefined>)\n"
     ]
    },
    {
     "name": "stdout",
     "output_type": "stream",
     "text": [
      "Epoch 1/20\n"
     ]
    },
    {
     "name": "stderr",
     "output_type": "stream",
     "text": [
      "2024-12-04 16:25:12.777027: I tensorflow/core/grappler/optimizers/custom_graph_optimizer_registry.cc:114] Plugin optimizer for device_type GPU is enabled.\n"
     ]
    },
    {
     "name": "stdout",
     "output_type": "stream",
     "text": [
      "2196/2196 [==============================] - ETA: 0s - loss: 2.8029 - accuracy: 0.5221"
     ]
    },
    {
     "name": "stderr",
     "output_type": "stream",
     "text": [
      "2024-12-04 16:33:39.727968: I tensorflow/core/grappler/optimizers/custom_graph_optimizer_registry.cc:114] Plugin optimizer for device_type GPU is enabled.\n"
     ]
    },
    {
     "name": "stdout",
     "output_type": "stream",
     "text": [
      "2196/2196 [==============================] - 552s 250ms/step - loss: 2.8029 - accuracy: 0.5221 - val_loss: 5.2035 - val_accuracy: 0.6523\n",
      "Epoch 2/20\n",
      "2196/2196 [==============================] - 610s 278ms/step - loss: 41.3363 - accuracy: 0.6467 - val_loss: 65.2788 - val_accuracy: 0.7595\n",
      "Epoch 3/20\n",
      "2196/2196 [==============================] - 672s 306ms/step - loss: 284.3245 - accuracy: 0.7388 - val_loss: 326.8709 - val_accuracy: 0.8148\n",
      "Epoch 4/20\n",
      "2196/2196 [==============================] - 700s 319ms/step - loss: 1331.1671 - accuracy: 0.7788 - val_loss: 1286.6937 - val_accuracy: 0.8439\n",
      "Epoch 5/20\n",
      "2196/2196 [==============================] - 702s 319ms/step - loss: 3279.4695 - accuracy: 0.8144 - val_loss: 2715.9570 - val_accuracy: 0.8692\n",
      "Epoch 6/20\n",
      "2196/2196 [==============================] - 720s 328ms/step - loss: 7451.3101 - accuracy: 0.8275 - val_loss: 6738.3057 - val_accuracy: 0.8682\n",
      "Epoch 7/20\n",
      "2196/2196 [==============================] - 707s 322ms/step - loss: 14052.9854 - accuracy: 0.8406 - val_loss: 19072.3242 - val_accuracy: 0.8371\n",
      "Epoch 8/20\n",
      "2196/2196 [==============================] - 739s 336ms/step - loss: 22944.2402 - accuracy: 0.8519 - val_loss: 18703.4980 - val_accuracy: 0.8881\n",
      "Epoch 9/20\n",
      "2196/2196 [==============================] - 704s 321ms/step - loss: 35263.1719 - accuracy: 0.8604 - val_loss: 32576.2305 - val_accuracy: 0.8737\n",
      "Epoch 10/20\n",
      "2196/2196 [==============================] - 779s 354ms/step - loss: 51456.9805 - accuracy: 0.8638 - val_loss: 46183.0859 - val_accuracy: 0.8896\n",
      "Epoch 11/20\n",
      "2196/2196 [==============================] - 734s 334ms/step - loss: 71776.9219 - accuracy: 0.8715 - val_loss: 75940.2656 - val_accuracy: 0.8818\n",
      "Epoch 12/20\n",
      "2196/2196 [==============================] - 730s 332ms/step - loss: 99882.5000 - accuracy: 0.8736 - val_loss: 94728.9766 - val_accuracy: 0.8907\n",
      "Epoch 13/20\n",
      "2196/2196 [==============================] - 683s 311ms/step - loss: 129777.8750 - accuracy: 0.8794 - val_loss: 127059.1484 - val_accuracy: 0.8972\n",
      "Epoch 14/20\n",
      "2196/2196 [==============================] - 706s 321ms/step - loss: 176815.5625 - accuracy: 0.8790 - val_loss: 202592.6719 - val_accuracy: 0.8801\n",
      "Epoch 15/20\n",
      "2196/2196 [==============================] - 679s 309ms/step - loss: 230265.1875 - accuracy: 0.8809 - val_loss: 316437.7812 - val_accuracy: 0.8680\n",
      "Epoch 16/20\n",
      "2196/2196 [==============================] - 700s 319ms/step - loss: 287346.6562 - accuracy: 0.8844 - val_loss: 302811.0000 - val_accuracy: 0.8913\n",
      "Epoch 17/20\n",
      "2196/2196 [==============================] - 677s 308ms/step - loss: 368142.3438 - accuracy: 0.8847 - val_loss: 407275.0312 - val_accuracy: 0.8834\n",
      "Epoch 18/20\n",
      "2196/2196 [==============================] - 684s 312ms/step - loss: 420392.7812 - accuracy: 0.8885 - val_loss: 444026.9688 - val_accuracy: 0.8949\n",
      "Epoch 19/20\n",
      "2196/2196 [==============================] - 682s 311ms/step - loss: 560923.5625 - accuracy: 0.8877 - val_loss: 595186.6875 - val_accuracy: 0.8944\n",
      "Epoch 20/20\n",
      "2196/2196 [==============================] - 661s 301ms/step - loss: 689794.6875 - accuracy: 0.8878 - val_loss: 855681.8125 - val_accuracy: 0.8828\n"
     ]
    }
   ],
   "source": [
    "# Define the image generators for the training and validation set\n",
    "\n",
    "batch_size = 32\n",
    "num_classes = 38\n",
    "\n",
    "train_datagen = ImageDataGenerator(rescale=1./255)\n",
    "validation_datagen = ImageDataGenerator(rescale=1./255)\n",
    "\n",
    "train_generator = train_datagen.flow_from_directory(\n",
    "    train_path,\n",
    "    target_size=(256, 256),\n",
    "    batch_size=32,\n",
    "    class_mode='categorical',\n",
    "    shuffle=True)  # randomize the order of the samples to avoid overfitting\n",
    "\n",
    "validation_generator = validation_datagen.flow_from_directory(\n",
    "    valid_path,\n",
    "    target_size=(256, 256),\n",
    "    batch_size=32,\n",
    "    class_mode='categorical',\n",
    "    shuffle=True)  # randomize the order of the samples to avoid overfitting\n",
    "\n",
    "# Define the CNN model which adapts the architecture of a LeNet model\n",
    "\n",
    "model_lenet = Sequential([\n",
    "    Conv2D(32, (5, 5), activation='relu', input_shape=(256, 256, 3)),\n",
    "    MaxPooling2D(pool_size=(2, 2)),\n",
    "    Conv2D(64, (5, 5), activation='relu'),\n",
    "    MaxPooling2D(pool_size=(2, 2)),\n",
    "    Conv2D(128, (3, 3), activation='relu'),\n",
    "    MaxPooling2D(pool_size=(2, 2)),\n",
    "    Flatten(),\n",
    "    Dense(512, activation='relu'),\n",
    "    Dropout(0.5),\n",
    "    Dense(num_classes, activation='softmax')\n",
    "])\n",
    "\n",
    "model_lenet.compile(optimizer='adam', loss='categorical_crossentropy', metrics=['accuracy'])\n",
    "\n",
    "# Training the model on my GPU cores\n",
    "\n",
    "with tf.device('/device:GPU:0'):\n",
    "    model_lenet.fit(train_generator,\n",
    "            steps_per_epoch=train_generator.samples // batch_size,\n",
    "            epochs=20,\n",
    "            validation_data=validation_generator,\n",
    "            validation_steps=validation_generator.samples // batch_size)"
   ]
  },
  {
   "cell_type": "code",
   "execution_count": 10,
   "metadata": {},
   "outputs": [
    {
     "data": {
      "image/png": "[encoded data removed]",
      "text/plain": [
       "<Figure size 800x600 with 1 Axes>"
      ]
     },
     "metadata": {},
     "output_type": "display_data"
    }
   ],
   "source": [
    "# I forgot to save the history of the fitting process in a history object\n",
    "# I will manually copy&paste the training and validation accuracy from the verbose output above\n",
    "\n",
    "train_acc = [0.5221, 0.6467, 0.7388, 0.7788, 0.8144, 0.8275, 0.8406, 0.8519, 0.8604, 0.8638, 0.8715, 0.8736, 0.8794, 0.8790, 0.8809, 0.8844, 0.8847, 0.8885, 0.8877, 0.8878]\n",
    "val_acc = [0.6523, 0.7595, 0.8148, 0.8439, 0.8692, 0.8682, 0.8371, 0.8881, 0.8737, 0.8896, 0.8818, 0.8907, 0.8972, 0.8801, 0.8680, 0.8913, 0.8834, 0.8949, 0.8944, 0.8828]\n",
    "\n",
    "plt.figure(figsize=(8, 6))\n",
    "plt.plot(np.arange(20), train_acc, c=\"g\", label=\"training\")\n",
    "plt.plot(np.arange(20), val_acc, c=\"r\", label=\"validation\")\n",
    "plt.xlabel(\"Epochs\")\n",
    "plt.ylabel(\"Accuracy\")\n",
    "plt.title(\"LeNet with shuffled image batches\")\n",
    "plt.legend()\n",
    "plt.show()"
   ]
  },
  {
   "cell_type": "code",
   "execution_count": 12,
   "metadata": {},
   "outputs": [
    {
     "name": "stderr",
     "output_type": "stream",
     "text": [
      "/Users/yannik/anaconda3/envs/keras_env/lib/python3.8/site-packages/keras/src/engine/training.py:3000: UserWarning: You are saving your model as an HDF5 file via `model.save()`. This file format is considered legacy. We recommend using instead the native Keras format, e.g. `model.save('my_model.keras')`.\n",
      "  saving_api.save_model(\n"
     ]
    }
   ],
   "source": [
    "model_lenet.save(\"lenet_model_shuffled_batches.h5\")"
   ]
  },
  {
   "cell_type": "markdown",
   "metadata": {},
   "source": [
    "# 3 LeNet with augmentation"
   ]
  },
  {
   "cell_type": "markdown",
   "metadata": {},
   "source": [
    "3.1 EarlyStopping is monitoring val_loss"
   ]
  },
  {
   "cell_type": "code",
   "execution_count": 25,
   "metadata": {},
   "outputs": [
    {
     "name": "stdout",
     "output_type": "stream",
     "text": [
      "Found 70295 images belonging to 38 classes.\n",
      "Found 17572 images belonging to 38 classes.\n"
     ]
    }
   ],
   "source": [
    "# Define the image generators for the training and validation set\n",
    "\n",
    "batch_size = 32\n",
    "num_classes = 38\n",
    "\n",
    "train_datagen = ImageDataGenerator(rescale=1./255,\n",
    "                                   shear_range=0.2,\n",
    "                                   zoom_range=0.2,\n",
    "                                   rotation_range=20,\n",
    "                                   width_shift_range=0.2,\n",
    "                                   height_shift_range=0.2,\n",
    "                                   horizontal_flip=True)\n",
    "validation_datagen = ImageDataGenerator(rescale=1./255,\n",
    "                                   shear_range=0.2,\n",
    "                                   zoom_range=0.2,\n",
    "                                   rotation_range=20,\n",
    "                                   width_shift_range=0.2,\n",
    "                                   height_shift_range=0.2,\n",
    "                                   horizontal_flip=True)\n",
    "\n",
    "train_generator = train_datagen.flow_from_directory(\n",
    "    train_path,\n",
    "    target_size=(256, 256),\n",
    "    batch_size=batch_size,\n",
    "    class_mode='categorical',\n",
    "    shuffle=True)  # randomize the order of the samples to avoid overfitting\n",
    "\n",
    "validation_generator = validation_datagen.flow_from_directory(\n",
    "    valid_path,\n",
    "    target_size=(256, 256),\n",
    "    batch_size=batch_size,\n",
    "    class_mode='categorical',\n",
    "    shuffle=True)  # randomize the order of the samples to avoid overfitting\n",
    "\n",
    "# Define the CNN model which adapts the architecture of a LeNet model\n",
    "\n",
    "model_lenet = Sequential([\n",
    "    Conv2D(32, (5, 5), activation='relu', input_shape=(256, 256, 3)),\n",
    "    MaxPooling2D(pool_size=(2, 2)),\n",
    "    Conv2D(64, (5, 5), activation='relu'),\n",
    "    MaxPooling2D(pool_size=(2, 2)),\n",
    "    Conv2D(128, (3, 3), activation='relu'),\n",
    "    MaxPooling2D(pool_size=(2, 2)),\n",
    "    Flatten(),\n",
    "    Dense(512, activation='relu'),\n",
    "    Dropout(0.5),\n",
    "    Dense(num_classes, activation='softmax')\n",
    "])\n",
    "\n",
    "model_lenet.compile(optimizer='adam', loss='categorical_crossentropy', metrics=['accuracy'])"
   ]
  },
  {
   "cell_type": "code",
   "execution_count": 26,
   "metadata": {},
   "outputs": [
    {
     "name": "stdout",
     "output_type": "stream",
     "text": [
      "WARNING:tensorflow:`period` argument is deprecated. Please use `save_freq` to specify the frequency in number of batches seen.\n"
     ]
    }
   ],
   "source": [
    "# Early Stopping\n",
    "early_stopping = EarlyStopping(\n",
    "    monitor='val_loss',\n",
    "    patience=10,\n",
    "    restore_best_weights=True,\n",
    "    verbose=1\n",
    ")\n",
    "\n",
    "# ReduceLROnPlateau\n",
    "reduce_lr = ReduceLROnPlateau(\n",
    "    monitor='val_loss',\n",
    "    factor=0.2,\n",
    "    patience=5,\n",
    "    min_lr=0.0001,\n",
    "    verbose=1\n",
    ")\n",
    "\n",
    "# Save model every 10 epochs\n",
    "checkpoint_periodic = ModelCheckpoint(\n",
    "    'model_lenet_epoch_{epoch:02d}.h5',\n",
    "    save_freq='epoch',\n",
    "    period=10,\n",
    "    save_best_only=False,\n",
    "    verbose=1\n",
    ")\n",
    "\n",
    "# Save model with best accuracy\n",
    "checkpoint_best = ModelCheckpoint(\n",
    "    'model_lenet_best_accuracy.h5',\n",
    "    monitor='val_accuracy',\n",
    "    save_best_only=True,\n",
    "    mode='max',\n",
    "    verbose=1\n",
    ")\n",
    "\n",
    "# Combine all callbacks\n",
    "callbacks = [early_stopping, reduce_lr, checkpoint_periodic, checkpoint_best]"
   ]
  },
  {
   "cell_type": "code",
   "execution_count": 27,
   "metadata": {},
   "outputs": [
    {
     "name": "stdout",
     "output_type": "stream",
     "text": [
      "Epoch 1/50\n"
     ]
    },
    {
     "name": "stderr",
     "output_type": "stream",
     "text": [
      "2024-12-10 21:58:29.978496: I tensorflow/core/grappler/optimizers/custom_graph_optimizer_registry.cc:114] Plugin optimizer for device_type GPU is enabled.\n"
     ]
    },
    {
     "name": "stdout",
     "output_type": "stream",
     "text": [
      "2196/2196 [==============================] - ETA: 0s - loss: 4.0913 - accuracy: 0.2925"
     ]
    },
    {
     "name": "stderr",
     "output_type": "stream",
     "text": [
      "2024-12-10 22:09:12.367470: I tensorflow/core/grappler/optimizers/custom_graph_optimizer_registry.cc:114] Plugin optimizer for device_type GPU is enabled.\n"
     ]
    },
    {
     "name": "stdout",
     "output_type": "stream",
     "text": [
      "\n",
      "Epoch 1: val_accuracy improved from -inf to 0.28518, saving model to model_lenet_best_accuracy.h5\n"
     ]
    },
    {
     "name": "stderr",
     "output_type": "stream",
     "text": [
      "/Users/yannik/anaconda3/envs/keras_env/lib/python3.8/site-packages/keras/src/engine/training.py:3000: UserWarning: You are saving your model as an HDF5 file via `model.save()`. This file format is considered legacy. We recommend using instead the native Keras format, e.g. `model.save('my_model.keras')`.\n",
      "  saving_api.save_model(\n"
     ]
    },
    {
     "name": "stdout",
     "output_type": "stream",
     "text": [
      "2196/2196 [==============================] - 759s 345ms/step - loss: 4.0913 - accuracy: 0.2925 - val_loss: 13.7067 - val_accuracy: 0.2852 - lr: 0.0010\n",
      "Epoch 2/50\n",
      "2196/2196 [==============================] - ETA: 0s - loss: 114.5785 - accuracy: 0.3504\n",
      "Epoch 2: val_accuracy improved from 0.28518 to 0.46380, saving model to model_lenet_best_accuracy.h5\n",
      "2196/2196 [==============================] - 871s 397ms/step - loss: 114.5785 - accuracy: 0.3504 - val_loss: 317.1215 - val_accuracy: 0.4638 - lr: 0.0010\n",
      "Epoch 3/50\n",
      "2196/2196 [==============================] - ETA: 0s - loss: 1198.2384 - accuracy: 0.4708\n",
      "Epoch 3: val_accuracy improved from 0.46380 to 0.52835, saving model to model_lenet_best_accuracy.h5\n",
      "2196/2196 [==============================] - 875s 398ms/step - loss: 1198.2384 - accuracy: 0.4708 - val_loss: 1966.1979 - val_accuracy: 0.5283 - lr: 0.0010\n",
      "Epoch 4/50\n",
      "2196/2196 [==============================] - ETA: 0s - loss: 5208.5273 - accuracy: 0.5353\n",
      "Epoch 4: val_accuracy improved from 0.52835 to 0.67162, saving model to model_lenet_best_accuracy.h5\n",
      "2196/2196 [==============================] - 840s 383ms/step - loss: 5208.5273 - accuracy: 0.5353 - val_loss: 4786.6782 - val_accuracy: 0.6716 - lr: 0.0010\n",
      "Epoch 5/50\n",
      "2196/2196 [==============================] - ETA: 0s - loss: 17818.3281 - accuracy: 0.5638\n",
      "Epoch 5: val_accuracy did not improve from 0.67162\n",
      "2196/2196 [==============================] - 851s 388ms/step - loss: 17818.3281 - accuracy: 0.5638 - val_loss: 19538.5469 - val_accuracy: 0.6341 - lr: 0.0010\n",
      "Epoch 6/50\n",
      "2196/2196 [==============================] - ETA: 0s - loss: 41254.1445 - accuracy: 0.5828\n",
      "Epoch 6: ReduceLROnPlateau reducing learning rate to 0.00020000000949949026.\n",
      "\n",
      "Epoch 6: val_accuracy did not improve from 0.67162\n",
      "2196/2196 [==============================] - 843s 384ms/step - loss: 41254.1445 - accuracy: 0.5828 - val_loss: 35770.9883 - val_accuracy: 0.6652 - lr: 0.0010\n",
      "Epoch 7/50\n",
      "2196/2196 [==============================] - ETA: 0s - loss: 27577.0645 - accuracy: 0.7137\n",
      "Epoch 7: val_accuracy improved from 0.67162 to 0.77476, saving model to model_lenet_best_accuracy.h5\n",
      "2196/2196 [==============================] - 842s 383ms/step - loss: 27577.0645 - accuracy: 0.7137 - val_loss: 16628.7129 - val_accuracy: 0.7748 - lr: 2.0000e-04\n",
      "Epoch 8/50\n",
      "2196/2196 [==============================] - ETA: 0s - loss: 26342.8496 - accuracy: 0.7188\n",
      "Epoch 8: val_accuracy did not improve from 0.77476\n",
      "2196/2196 [==============================] - 840s 383ms/step - loss: 26342.8496 - accuracy: 0.7188 - val_loss: 23879.7422 - val_accuracy: 0.7354 - lr: 2.0000e-04\n",
      "Epoch 9/50\n",
      "2196/2196 [==============================] - ETA: 0s - loss: 28356.6719 - accuracy: 0.7134\n",
      "Epoch 9: val_accuracy did not improve from 0.77476\n",
      "2196/2196 [==============================] - 854s 389ms/step - loss: 28356.6719 - accuracy: 0.7134 - val_loss: 21830.8535 - val_accuracy: 0.7503 - lr: 2.0000e-04\n",
      "Epoch 10/50\n",
      "2196/2196 [==============================] - ETA: 0s - loss: 30847.8203 - accuracy: 0.7047\n",
      "Epoch 10: saving model to model_lenet_epoch_10.h5\n",
      "\n",
      "Epoch 10: val_accuracy did not improve from 0.77476\n",
      "2196/2196 [==============================] - 832s 379ms/step - loss: 30847.8203 - accuracy: 0.7047 - val_loss: 26628.1348 - val_accuracy: 0.7263 - lr: 2.0000e-04\n",
      "Epoch 11/50\n",
      "2196/2196 [==============================] - ETA: 0s - loss: 34455.7461 - accuracy: 0.6968Restoring model weights from the end of the best epoch: 1.\n",
      "\n",
      "Epoch 11: ReduceLROnPlateau reducing learning rate to 0.0001.\n",
      "\n",
      "Epoch 11: val_accuracy did not improve from 0.77476\n",
      "2196/2196 [==============================] - 834s 380ms/step - loss: 34455.7461 - accuracy: 0.6968 - val_loss: 31332.2266 - val_accuracy: 0.7164 - lr: 2.0000e-04\n",
      "Epoch 11: early stopping\n"
     ]
    }
   ],
   "source": [
    "# Training the model on my GPU cores\n",
    "\n",
    "with tf.device('/device:GPU:0'):\n",
    "    history = model_lenet.fit(train_generator,\n",
    "            steps_per_epoch=train_generator.samples // batch_size,\n",
    "            epochs=50,\n",
    "            validation_data=validation_generator,\n",
    "            validation_steps=validation_generator.samples // batch_size,\n",
    "            callbacks=callbacks)"
   ]
  },
  {
   "cell_type": "code",
   "execution_count": 36,
   "metadata": {},
   "outputs": [
    {
     "data": {
      "image/png": "[encoded data removed]",
      "text/plain": [
       "<Figure size 800x600 with 1 Axes>"
      ]
     },
     "metadata": {},
     "output_type": "display_data"
    }
   ],
   "source": [
    "# Having a look at the training and validation accuracy\n",
    "\n",
    "train_acc = history.history['accuracy']\n",
    "val_acc = history.history['val_accuracy']\n",
    "\n",
    "plt.figure(figsize=(8, 6))\n",
    "plt.plot(np.arange(len(train_acc)), train_acc, c=\"g\", label=\"training\")\n",
    "plt.plot(np.arange(len(val_acc)), val_acc, c=\"r\", label=\"validation\")\n",
    "plt.xlabel(\"Epochs\")\n",
    "plt.ylabel(\"Accuracy\")\n",
    "plt.title(\"LeNet EarlyStopping (monitor=val_loss, patience=10)\")\n",
    "plt.legend()\n",
    "plt.show()"
   ]
  },
  {
   "cell_type": "markdown",
   "metadata": {},
   "source": [
    "3.2 EarlyStopping is monitoring val_accuracy"
   ]
  },
  {
   "cell_type": "code",
   "execution_count": 30,
   "metadata": {},
   "outputs": [
    {
     "name": "stdout",
     "output_type": "stream",
     "text": [
      "WARNING:tensorflow:`period` argument is deprecated. Please use `save_freq` to specify the frequency in number of batches seen.\n"
     ]
    }
   ],
   "source": [
    "# Early Stopping\n",
    "early_stopping = EarlyStopping(\n",
    "    monitor='val_accuracy',\n",
    "    patience=10,\n",
    "    restore_best_weights=True,\n",
    "    verbose=1\n",
    ")\n",
    "\n",
    "# ReduceLROnPlateau\n",
    "reduce_lr = ReduceLROnPlateau(\n",
    "    monitor='val_loss',\n",
    "    factor=0.2,\n",
    "    patience=5,\n",
    "    min_lr=0.0001,\n",
    "    verbose=1\n",
    ")\n",
    "\n",
    "# Save model every 10 epochs\n",
    "checkpoint_periodic = ModelCheckpoint(\n",
    "    'model_lenet_v2_epoch_{epoch:02d}.h5',\n",
    "    save_freq='epoch',\n",
    "    period=10,\n",
    "    save_best_only=False,\n",
    "    verbose=1\n",
    ")\n",
    "\n",
    "# Save model with best accuracy\n",
    "checkpoint_best = ModelCheckpoint(\n",
    "    'model_lenet_v2_best_accuracy.h5',\n",
    "    monitor='val_accuracy',\n",
    "    save_best_only=True,\n",
    "    mode='max',\n",
    "    verbose=1\n",
    ")\n",
    "\n",
    "# Combine all callbacks\n",
    "callbacks = [early_stopping, reduce_lr, checkpoint_periodic, checkpoint_best]"
   ]
  },
  {
   "cell_type": "code",
   "execution_count": 31,
   "metadata": {},
   "outputs": [
    {
     "name": "stdout",
     "output_type": "stream",
     "text": [
      "Epoch 1/50\n"
     ]
    },
    {
     "name": "stderr",
     "output_type": "stream",
     "text": [
      "2024-12-11 08:13:05.333337: I tensorflow/core/grappler/optimizers/custom_graph_optimizer_registry.cc:114] Plugin optimizer for device_type GPU is enabled.\n"
     ]
    },
    {
     "name": "stdout",
     "output_type": "stream",
     "text": [
      "2196/2196 [==============================] - ETA: 0s - loss: 2.7272 - accuracy: 0.2804"
     ]
    },
    {
     "name": "stderr",
     "output_type": "stream",
     "text": [
      "2024-12-11 08:22:05.632662: I tensorflow/core/grappler/optimizers/custom_graph_optimizer_registry.cc:114] Plugin optimizer for device_type GPU is enabled.\n"
     ]
    },
    {
     "name": "stdout",
     "output_type": "stream",
     "text": [
      "\n",
      "Epoch 1: val_accuracy improved from -inf to 0.44194, saving model to model_lenet_v2_best_accuracy.h5\n"
     ]
    },
    {
     "name": "stderr",
     "output_type": "stream",
     "text": [
      "/Users/yannik/anaconda3/envs/keras_env/lib/python3.8/site-packages/keras/src/engine/training.py:3000: UserWarning: You are saving your model as an HDF5 file via `model.save()`. This file format is considered legacy. We recommend using instead the native Keras format, e.g. `model.save('my_model.keras')`.\n",
      "  saving_api.save_model(\n"
     ]
    },
    {
     "name": "stdout",
     "output_type": "stream",
     "text": [
      "2196/2196 [==============================] - 654s 297ms/step - loss: 2.7272 - accuracy: 0.2804 - val_loss: 2.3236 - val_accuracy: 0.4419 - lr: 0.0010\n",
      "Epoch 2/50\n",
      "2196/2196 [==============================] - ETA: 0s - loss: 10.9361 - accuracy: 0.4175\n",
      "Epoch 2: val_accuracy improved from 0.44194 to 0.47735, saving model to model_lenet_v2_best_accuracy.h5\n",
      "2196/2196 [==============================] - 736s 335ms/step - loss: 10.9361 - accuracy: 0.4175 - val_loss: 19.1819 - val_accuracy: 0.4773 - lr: 0.0010\n",
      "Epoch 3/50\n",
      "2196/2196 [==============================] - ETA: 0s - loss: 72.1126 - accuracy: 0.5230\n",
      "Epoch 3: val_accuracy improved from 0.47735 to 0.64959, saving model to model_lenet_v2_best_accuracy.h5\n",
      "2196/2196 [==============================] - 759s 346ms/step - loss: 72.1126 - accuracy: 0.5230 - val_loss: 83.2206 - val_accuracy: 0.6496 - lr: 0.0010\n",
      "Epoch 4/50\n",
      "2196/2196 [==============================] - ETA: 0s - loss: 275.2869 - accuracy: 0.6096\n",
      "Epoch 4: val_accuracy improved from 0.64959 to 0.68841, saving model to model_lenet_v2_best_accuracy.h5\n",
      "2196/2196 [==============================] - 764s 348ms/step - loss: 275.2869 - accuracy: 0.6096 - val_loss: 300.9796 - val_accuracy: 0.6884 - lr: 0.0010\n",
      "Epoch 5/50\n",
      "2196/2196 [==============================] - ETA: 0s - loss: 790.1251 - accuracy: 0.6543\n",
      "Epoch 5: val_accuracy improved from 0.68841 to 0.74892, saving model to model_lenet_v2_best_accuracy.h5\n",
      "2196/2196 [==============================] - 767s 349ms/step - loss: 790.1251 - accuracy: 0.6543 - val_loss: 607.4405 - val_accuracy: 0.7489 - lr: 0.0010\n",
      "Epoch 6/50\n",
      "2196/2196 [==============================] - ETA: 0s - loss: 2000.6964 - accuracy: 0.6829\n",
      "Epoch 6: ReduceLROnPlateau reducing learning rate to 0.00020000000949949026.\n",
      "\n",
      "Epoch 6: val_accuracy did not improve from 0.74892\n",
      "2196/2196 [==============================] - 781s 356ms/step - loss: 2000.6964 - accuracy: 0.6829 - val_loss: 1791.7858 - val_accuracy: 0.7486 - lr: 0.0010\n",
      "Epoch 7/50\n",
      "2196/2196 [==============================] - ETA: 0s - loss: 1607.6515 - accuracy: 0.7889\n",
      "Epoch 7: val_accuracy improved from 0.74892 to 0.83720, saving model to model_lenet_v2_best_accuracy.h5\n",
      "2196/2196 [==============================] - 787s 359ms/step - loss: 1607.6515 - accuracy: 0.7889 - val_loss: 998.2066 - val_accuracy: 0.8372 - lr: 2.0000e-04\n",
      "Epoch 8/50\n",
      "2196/2196 [==============================] - ETA: 0s - loss: 1544.2682 - accuracy: 0.8028\n",
      "Epoch 8: val_accuracy did not improve from 0.83720\n",
      "2196/2196 [==============================] - 790s 360ms/step - loss: 1544.2682 - accuracy: 0.8028 - val_loss: 1170.8381 - val_accuracy: 0.8275 - lr: 2.0000e-04\n",
      "Epoch 9/50\n",
      "2196/2196 [==============================] - ETA: 0s - loss: 1798.5875 - accuracy: 0.7968\n",
      "Epoch 9: val_accuracy did not improve from 0.83720\n",
      "2196/2196 [==============================] - 795s 362ms/step - loss: 1798.5875 - accuracy: 0.7968 - val_loss: 1609.3596 - val_accuracy: 0.8056 - lr: 2.0000e-04\n",
      "Epoch 10/50\n",
      "2196/2196 [==============================] - ETA: 0s - loss: 2154.1162 - accuracy: 0.7903\n",
      "Epoch 10: saving model to model_lenet_v2_epoch_10.h5\n",
      "\n",
      "Epoch 10: val_accuracy did not improve from 0.83720\n",
      "2196/2196 [==============================] - 795s 362ms/step - loss: 2154.1162 - accuracy: 0.7903 - val_loss: 1869.7924 - val_accuracy: 0.7989 - lr: 2.0000e-04\n",
      "Epoch 11/50\n",
      "2196/2196 [==============================] - ETA: 0s - loss: 2663.2700 - accuracy: 0.7797\n",
      "Epoch 11: ReduceLROnPlateau reducing learning rate to 0.0001.\n",
      "\n",
      "Epoch 11: val_accuracy did not improve from 0.83720\n",
      "2196/2196 [==============================] - 791s 360ms/step - loss: 2663.2700 - accuracy: 0.7797 - val_loss: 2586.3423 - val_accuracy: 0.7753 - lr: 2.0000e-04\n",
      "Epoch 12/50\n",
      "2196/2196 [==============================] - ETA: 0s - loss: 2510.2017 - accuracy: 0.7979\n",
      "Epoch 12: val_accuracy did not improve from 0.83720\n",
      "2196/2196 [==============================] - 789s 359ms/step - loss: 2510.2017 - accuracy: 0.7979 - val_loss: 2358.9590 - val_accuracy: 0.7979 - lr: 1.0000e-04\n",
      "Epoch 13/50\n",
      "2196/2196 [==============================] - ETA: 0s - loss: 2764.7227 - accuracy: 0.7922\n",
      "Epoch 13: val_accuracy did not improve from 0.83720\n",
      "2196/2196 [==============================] - 796s 362ms/step - loss: 2764.7227 - accuracy: 0.7922 - val_loss: 2833.1750 - val_accuracy: 0.7781 - lr: 1.0000e-04\n",
      "Epoch 14/50\n",
      "2196/2196 [==============================] - ETA: 0s - loss: 3018.2529 - accuracy: 0.7891\n",
      "Epoch 14: val_accuracy did not improve from 0.83720\n",
      "2196/2196 [==============================] - 792s 361ms/step - loss: 3018.2529 - accuracy: 0.7891 - val_loss: 3191.2449 - val_accuracy: 0.7674 - lr: 1.0000e-04\n",
      "Epoch 15/50\n",
      "2196/2196 [==============================] - ETA: 0s - loss: 3443.3728 - accuracy: 0.7790\n",
      "Epoch 15: val_accuracy did not improve from 0.83720\n",
      "2196/2196 [==============================] - 799s 364ms/step - loss: 3443.3728 - accuracy: 0.7790 - val_loss: 3337.3188 - val_accuracy: 0.7769 - lr: 1.0000e-04\n",
      "Epoch 16/50\n",
      "2196/2196 [==============================] - ETA: 0s - loss: 3989.3552 - accuracy: 0.7713\n",
      "Epoch 16: val_accuracy did not improve from 0.83720\n",
      "2196/2196 [==============================] - 802s 365ms/step - loss: 3989.3552 - accuracy: 0.7713 - val_loss: 4339.9600 - val_accuracy: 0.7433 - lr: 1.0000e-04\n",
      "Epoch 17/50\n",
      "2196/2196 [==============================] - ETA: 0s - loss: 4506.8325 - accuracy: 0.7606Restoring model weights from the end of the best epoch: 7.\n",
      "\n",
      "Epoch 17: val_accuracy did not improve from 0.83720\n",
      "2196/2196 [==============================] - 802s 365ms/step - loss: 4506.8325 - accuracy: 0.7606 - val_loss: 5009.9058 - val_accuracy: 0.7361 - lr: 1.0000e-04\n",
      "Epoch 17: early stopping\n"
     ]
    }
   ],
   "source": [
    "# Training the model on my GPU cores\n",
    "\n",
    "with tf.device('/device:GPU:0'):\n",
    "    history_v2 = model_lenet_v2.fit(train_generator,\n",
    "            steps_per_epoch=train_generator.samples // batch_size,\n",
    "            epochs=50,\n",
    "            validation_data=validation_generator,\n",
    "            validation_steps=validation_generator.samples // batch_size,\n",
    "            callbacks=callbacks)"
   ]
  },
  {
   "cell_type": "code",
   "execution_count": 37,
   "metadata": {},
   "outputs": [
    {
     "data": {
      "image/png": "[encoded data removed]",
      "text/plain": [
       "<Figure size 800x600 with 1 Axes>"
      ]
     },
     "metadata": {},
     "output_type": "display_data"
    }
   ],
   "source": [
    "# Having a look at the training and validation accuracy\n",
    "\n",
    "train_acc = history_v2.history['accuracy']\n",
    "val_acc = history_v2.history['val_accuracy']\n",
    "\n",
    "plt.figure(figsize=(8, 6))\n",
    "plt.plot(np.arange(len(train_acc)), train_acc, c=\"g\", label=\"training\")\n",
    "plt.plot(np.arange(len(val_acc)), val_acc, c=\"r\", label=\"validation\")\n",
    "plt.xlabel(\"Epochs\")\n",
    "plt.ylabel(\"Accuracy\")\n",
    "plt.title(\"LeNet EarlyStopping (monitor=val_accuracy, patience=10)\")\n",
    "plt.legend()\n",
    "plt.show()"
   ]
  },
  {
   "cell_type": "markdown",
   "metadata": {},
   "source": [
    "# 4 LeNet without augmentation"
   ]
  },
  {
   "cell_type": "code",
   "execution_count": null,
   "metadata": {},
   "outputs": [],
   "source": [
    "import keras\n",
    "keras.backend.clear_session()"
   ]
  },
  {
   "cell_type": "code",
   "execution_count": null,
   "metadata": {},
   "outputs": [],
   "source": [
    "import pandas as pd\n",
    "import numpy as np\n",
    "import matplotlib.pyplot as plt\n",
    "import seaborn as sns\n",
    "import PIL\n",
    "import scipy\n",
    "\n",
    "import tensorflow as tf\n",
    "from tensorflow.keras.preprocessing.image import ImageDataGenerator\n",
    "from tensorflow.keras.models import Sequential\n",
    "from tensorflow.keras.layers import Conv2D, MaxPooling2D, Flatten, Dense, Dropout\n",
    "from tensorflow.keras.callbacks import EarlyStopping, ReduceLROnPlateau, ModelCheckpoint\n",
    "from tensorflow.keras.utils import Sequence\n",
    "from keras.models import load_model\n",
    "\n",
    "from sklearn.model_selection import train_test_split"
   ]
  },
  {
   "cell_type": "code",
   "execution_count": 38,
   "metadata": {},
   "outputs": [
    {
     "name": "stdout",
     "output_type": "stream",
     "text": [
      "Found 70295 images belonging to 38 classes.\n",
      "Found 17572 images belonging to 38 classes.\n"
     ]
    }
   ],
   "source": [
    "# Define the image generators for the training and validation set\n",
    "\n",
    "batch_size = 32\n",
    "num_classes = 38\n",
    "\n",
    "train_datagen = ImageDataGenerator(rescale=1./255,)\n",
    "validation_datagen = ImageDataGenerator(rescale=1./255,)\n",
    "\n",
    "train_generator = train_datagen.flow_from_directory(\n",
    "    train_path,\n",
    "    target_size=(256, 256),\n",
    "    batch_size=batch_size,\n",
    "    class_mode='categorical',\n",
    "    shuffle=True)  # randomize the order of the samples to avoid overfitting\n",
    "\n",
    "validation_generator = validation_datagen.flow_from_directory(\n",
    "    valid_path,\n",
    "    target_size=(256, 256),\n",
    "    batch_size=batch_size,\n",
    "    class_mode='categorical',\n",
    "    shuffle=True)  # randomize the order of the samples to avoid overfitting\n",
    "\n",
    "# Define the CNN model which adapts the architecture of a LeNet model\n",
    "\n",
    "model_lenet_v3 = Sequential([\n",
    "    Conv2D(32, (5, 5), activation='relu', input_shape=(256, 256, 3)),\n",
    "    MaxPooling2D(pool_size=(2, 2)),\n",
    "    Conv2D(64, (5, 5), activation='relu'),\n",
    "    MaxPooling2D(pool_size=(2, 2)),\n",
    "    Conv2D(128, (3, 3), activation='relu'),\n",
    "    MaxPooling2D(pool_size=(2, 2)),\n",
    "    Flatten(),\n",
    "    Dense(512, activation='relu'),\n",
    "    Dropout(0.5),\n",
    "    Dense(num_classes, activation='softmax')\n",
    "])\n",
    "\n",
    "model_lenet_v3.compile(optimizer='adam', loss='categorical_crossentropy', metrics=['accuracy'])"
   ]
  },
  {
   "cell_type": "code",
   "execution_count": 39,
   "metadata": {},
   "outputs": [
    {
     "name": "stdout",
     "output_type": "stream",
     "text": [
      "WARNING:tensorflow:`period` argument is deprecated. Please use `save_freq` to specify the frequency in number of batches seen.\n"
     ]
    }
   ],
   "source": [
    "# Early Stopping\n",
    "early_stopping = EarlyStopping(\n",
    "    monitor='val_accuracy',\n",
    "    patience=10,\n",
    "    restore_best_weights=True,\n",
    "    verbose=1\n",
    ")\n",
    "\n",
    "# ReduceLROnPlateau\n",
    "reduce_lr = ReduceLROnPlateau(\n",
    "    monitor='val_loss',\n",
    "    factor=0.2,\n",
    "    patience=5,\n",
    "    min_lr=0.0001,\n",
    "    verbose=1\n",
    ")\n",
    "\n",
    "# Save model every 10 epochs\n",
    "checkpoint_periodic = ModelCheckpoint(\n",
    "    'model_lenet_epoch_{epoch:02d}.h5',\n",
    "    save_freq='epoch',\n",
    "    period=10,\n",
    "    save_best_only=False,\n",
    "    verbose=1\n",
    ")\n",
    "\n",
    "# Save model with best accuracy\n",
    "checkpoint_best = ModelCheckpoint(\n",
    "    'model_lenet_best_accuracy.h5',\n",
    "    monitor='val_accuracy',\n",
    "    save_best_only=True,\n",
    "    mode='max',\n",
    "    verbose=1\n",
    ")\n",
    "\n",
    "# Combine all callbacks\n",
    "callbacks = [early_stopping, reduce_lr, checkpoint_periodic, checkpoint_best]"
   ]
  },
  {
   "cell_type": "code",
   "execution_count": 40,
   "metadata": {},
   "outputs": [
    {
     "name": "stdout",
     "output_type": "stream",
     "text": [
      "Epoch 1/50\n"
     ]
    },
    {
     "name": "stderr",
     "output_type": "stream",
     "text": [
      "2024-12-11 14:14:02.626097: I tensorflow/core/grappler/optimizers/custom_graph_optimizer_registry.cc:114] Plugin optimizer for device_type GPU is enabled.\n"
     ]
    },
    {
     "name": "stdout",
     "output_type": "stream",
     "text": [
      "2196/2196 [==============================] - ETA: 0s - loss: 3.2907 - accuracy: 0.5007"
     ]
    },
    {
     "name": "stderr",
     "output_type": "stream",
     "text": [
      "2024-12-11 14:22:34.276101: I tensorflow/core/grappler/optimizers/custom_graph_optimizer_registry.cc:114] Plugin optimizer for device_type GPU is enabled.\n"
     ]
    },
    {
     "name": "stdout",
     "output_type": "stream",
     "text": [
      "\n",
      "Epoch 1: val_accuracy improved from -inf to 0.63445, saving model to model_lenet_v2_best_accuracy.h5\n"
     ]
    },
    {
     "name": "stderr",
     "output_type": "stream",
     "text": [
      "/Users/yannik/anaconda3/envs/keras_env/lib/python3.8/site-packages/keras/src/engine/training.py:3000: UserWarning: You are saving your model as an HDF5 file via `model.save()`. This file format is considered legacy. We recommend using instead the native Keras format, e.g. `model.save('my_model.keras')`.\n",
      "  saving_api.save_model(\n"
     ]
    },
    {
     "name": "stdout",
     "output_type": "stream",
     "text": [
      "2196/2196 [==============================] - 549s 250ms/step - loss: 3.2907 - accuracy: 0.5007 - val_loss: 5.2057 - val_accuracy: 0.6344 - lr: 0.0010\n",
      "Epoch 2/50\n",
      "2196/2196 [==============================] - ETA: 0s - loss: 80.3031 - accuracy: 0.6283\n",
      "Epoch 2: val_accuracy improved from 0.63445 to 0.72279, saving model to model_lenet_v2_best_accuracy.h5\n",
      "2196/2196 [==============================] - 609s 278ms/step - loss: 80.3031 - accuracy: 0.6283 - val_loss: 150.5542 - val_accuracy: 0.7228 - lr: 0.0010\n",
      "Epoch 3/50\n",
      "2196/2196 [==============================] - ETA: 0s - loss: 526.5872 - accuracy: 0.7288\n",
      "Epoch 3: val_accuracy improved from 0.72279 to 0.79696, saving model to model_lenet_v2_best_accuracy.h5\n",
      "2196/2196 [==============================] - 633s 288ms/step - loss: 526.5872 - accuracy: 0.7288 - val_loss: 580.6160 - val_accuracy: 0.7970 - lr: 0.0010\n",
      "Epoch 4/50\n",
      "2196/2196 [==============================] - ETA: 0s - loss: 1886.8373 - accuracy: 0.7730\n",
      "Epoch 4: val_accuracy improved from 0.79696 to 0.82730, saving model to model_lenet_v2_best_accuracy.h5\n",
      "2196/2196 [==============================] - 651s 296ms/step - loss: 1886.8373 - accuracy: 0.7730 - val_loss: 2063.2053 - val_accuracy: 0.8273 - lr: 0.0010\n",
      "Epoch 5/50\n",
      "2196/2196 [==============================] - ETA: 0s - loss: 5141.2861 - accuracy: 0.7988\n",
      "Epoch 5: val_accuracy improved from 0.82730 to 0.84381, saving model to model_lenet_v2_best_accuracy.h5\n",
      "2196/2196 [==============================] - 661s 301ms/step - loss: 5141.2861 - accuracy: 0.7988 - val_loss: 4753.8252 - val_accuracy: 0.8438 - lr: 0.0010\n",
      "Epoch 6/50\n",
      "2196/2196 [==============================] - ETA: 0s - loss: 10596.9561 - accuracy: 0.8175\n",
      "Epoch 6: ReduceLROnPlateau reducing learning rate to 0.00020000000949949026.\n",
      "\n",
      "Epoch 6: val_accuracy improved from 0.84381 to 0.85200, saving model to model_lenet_v2_best_accuracy.h5\n",
      "2196/2196 [==============================] - 665s 303ms/step - loss: 10596.9561 - accuracy: 0.8175 - val_loss: 10113.3320 - val_accuracy: 0.8520 - lr: 0.0010\n",
      "Epoch 7/50\n",
      "2196/2196 [==============================] - ETA: 0s - loss: 6289.6196 - accuracy: 0.8971\n",
      "Epoch 7: val_accuracy improved from 0.85200 to 0.88860, saving model to model_lenet_v2_best_accuracy.h5\n",
      "2196/2196 [==============================] - 671s 306ms/step - loss: 6289.6196 - accuracy: 0.8971 - val_loss: 6891.0215 - val_accuracy: 0.8886 - lr: 2.0000e-04\n",
      "Epoch 8/50\n",
      "2196/2196 [==============================] - ETA: 0s - loss: 5415.9282 - accuracy: 0.9075\n",
      "Epoch 8: val_accuracy improved from 0.88860 to 0.89105, saving model to model_lenet_v2_best_accuracy.h5\n",
      "2196/2196 [==============================] - 678s 309ms/step - loss: 5415.9282 - accuracy: 0.9075 - val_loss: 6950.5459 - val_accuracy: 0.8911 - lr: 2.0000e-04\n",
      "Epoch 9/50\n",
      "2196/2196 [==============================] - ETA: 0s - loss: 5505.5835 - accuracy: 0.9105\n",
      "Epoch 9: val_accuracy improved from 0.89105 to 0.89242, saving model to model_lenet_v2_best_accuracy.h5\n",
      "2196/2196 [==============================] - 674s 307ms/step - loss: 5505.5835 - accuracy: 0.9105 - val_loss: 6920.5171 - val_accuracy: 0.8924 - lr: 2.0000e-04\n",
      "Epoch 10/50\n",
      "2196/2196 [==============================] - ETA: 0s - loss: 5433.2495 - accuracy: 0.9119\n",
      "Epoch 10: saving model to model_lenet_v2_epoch_10.h5\n",
      "\n",
      "Epoch 10: val_accuracy improved from 0.89242 to 0.89538, saving model to model_lenet_v2_best_accuracy.h5\n",
      "2196/2196 [==============================] - 677s 308ms/step - loss: 5433.2495 - accuracy: 0.9119 - val_loss: 7090.1304 - val_accuracy: 0.8954 - lr: 2.0000e-04\n",
      "Epoch 11/50\n",
      "2196/2196 [==============================] - ETA: 0s - loss: 5602.5220 - accuracy: 0.9141\n",
      "Epoch 11: ReduceLROnPlateau reducing learning rate to 0.0001.\n",
      "\n",
      "Epoch 11: val_accuracy did not improve from 0.89538\n",
      "2196/2196 [==============================] - 676s 308ms/step - loss: 5602.5220 - accuracy: 0.9141 - val_loss: 8583.8350 - val_accuracy: 0.8884 - lr: 2.0000e-04\n",
      "Epoch 12/50\n",
      "2196/2196 [==============================] - ETA: 0s - loss: 4917.0581 - accuracy: 0.9221\n",
      "Epoch 12: val_accuracy improved from 0.89538 to 0.89674, saving model to model_lenet_v2_best_accuracy.h5\n",
      "2196/2196 [==============================] - 684s 311ms/step - loss: 4917.0581 - accuracy: 0.9221 - val_loss: 7572.0288 - val_accuracy: 0.8967 - lr: 1.0000e-04\n",
      "Epoch 13/50\n",
      "2196/2196 [==============================] - ETA: 0s - loss: 4881.6758 - accuracy: 0.9251\n",
      "Epoch 13: val_accuracy improved from 0.89674 to 0.89953, saving model to model_lenet_v2_best_accuracy.h5\n",
      "2196/2196 [==============================] - 680s 310ms/step - loss: 4881.6758 - accuracy: 0.9251 - val_loss: 7454.2915 - val_accuracy: 0.8995 - lr: 1.0000e-04\n",
      "Epoch 14/50\n",
      "2196/2196 [==============================] - ETA: 0s - loss: 4865.9336 - accuracy: 0.9257\n",
      "Epoch 14: val_accuracy did not improve from 0.89953\n",
      "2196/2196 [==============================] - 675s 308ms/step - loss: 4865.9336 - accuracy: 0.9257 - val_loss: 7787.5146 - val_accuracy: 0.8985 - lr: 1.0000e-04\n",
      "Epoch 15/50\n",
      "2196/2196 [==============================] - ETA: 0s - loss: 4840.7075 - accuracy: 0.9260\n",
      "Epoch 15: val_accuracy did not improve from 0.89953\n",
      "2196/2196 [==============================] - 684s 312ms/step - loss: 4840.7075 - accuracy: 0.9260 - val_loss: 8103.4736 - val_accuracy: 0.8955 - lr: 1.0000e-04\n",
      "Epoch 16/50\n",
      "2196/2196 [==============================] - ETA: 0s - loss: 4891.2925 - accuracy: 0.9264\n",
      "Epoch 16: val_accuracy did not improve from 0.89953\n",
      "2196/2196 [==============================] - 678s 309ms/step - loss: 4891.2925 - accuracy: 0.9264 - val_loss: 8193.8408 - val_accuracy: 0.8983 - lr: 1.0000e-04\n",
      "Epoch 17/50\n",
      "2196/2196 [==============================] - ETA: 0s - loss: 4846.4683 - accuracy: 0.9286\n",
      "Epoch 17: val_accuracy improved from 0.89953 to 0.90061, saving model to model_lenet_v2_best_accuracy.h5\n",
      "2196/2196 [==============================] - 675s 307ms/step - loss: 4846.4683 - accuracy: 0.9286 - val_loss: 8159.4907 - val_accuracy: 0.9006 - lr: 1.0000e-04\n",
      "Epoch 18/50\n",
      "2196/2196 [==============================] - ETA: 0s - loss: 5081.5410 - accuracy: 0.9253\n",
      "Epoch 18: val_accuracy did not improve from 0.90061\n",
      "2196/2196 [==============================] - 706s 321ms/step - loss: 5081.5410 - accuracy: 0.9253 - val_loss: 9310.9297 - val_accuracy: 0.8944 - lr: 1.0000e-04\n",
      "Epoch 19/50\n",
      "2196/2196 [==============================] - ETA: 0s - loss: 5296.8975 - accuracy: 0.9260\n",
      "Epoch 19: val_accuracy did not improve from 0.90061\n",
      "2196/2196 [==============================] - 709s 323ms/step - loss: 5296.8975 - accuracy: 0.9260 - val_loss: 9099.4531 - val_accuracy: 0.8966 - lr: 1.0000e-04\n",
      "Epoch 20/50\n",
      "2196/2196 [==============================] - ETA: 0s - loss: 5238.6553 - accuracy: 0.9267\n",
      "Epoch 20: saving model to model_lenet_v2_epoch_20.h5\n",
      "\n",
      "Epoch 20: val_accuracy did not improve from 0.90061\n",
      "2196/2196 [==============================] - 739s 337ms/step - loss: 5238.6553 - accuracy: 0.9267 - val_loss: 9074.5723 - val_accuracy: 0.8978 - lr: 1.0000e-04\n",
      "Epoch 21/50\n",
      "2196/2196 [==============================] - ETA: 0s - loss: 5363.1050 - accuracy: 0.9273\n",
      "Epoch 21: val_accuracy did not improve from 0.90061\n",
      "2196/2196 [==============================] - 735s 335ms/step - loss: 5363.1050 - accuracy: 0.9273 - val_loss: 9901.6182 - val_accuracy: 0.8952 - lr: 1.0000e-04\n",
      "Epoch 22/50\n",
      "2196/2196 [==============================] - ETA: 0s - loss: 5436.1035 - accuracy: 0.9275\n",
      "Epoch 22: val_accuracy did not improve from 0.90061\n",
      "2196/2196 [==============================] - 736s 335ms/step - loss: 5436.1035 - accuracy: 0.9275 - val_loss: 10155.6270 - val_accuracy: 0.8959 - lr: 1.0000e-04\n",
      "Epoch 23/50\n",
      "2196/2196 [==============================] - ETA: 0s - loss: 5485.7534 - accuracy: 0.9278\n",
      "Epoch 23: val_accuracy did not improve from 0.90061\n",
      "2196/2196 [==============================] - 752s 343ms/step - loss: 5485.7534 - accuracy: 0.9278 - val_loss: 10516.1104 - val_accuracy: 0.8945 - lr: 1.0000e-04\n",
      "Epoch 24/50\n",
      "2196/2196 [==============================] - ETA: 0s - loss: 5845.9580 - accuracy: 0.9266\n",
      "Epoch 24: val_accuracy did not improve from 0.90061\n",
      "2196/2196 [==============================] - 775s 353ms/step - loss: 5845.9580 - accuracy: 0.9266 - val_loss: 11382.7871 - val_accuracy: 0.8909 - lr: 1.0000e-04\n",
      "Epoch 25/50\n",
      "2196/2196 [==============================] - ETA: 0s - loss: 5849.3589 - accuracy: 0.9280\n",
      "Epoch 25: val_accuracy did not improve from 0.90061\n",
      "2196/2196 [==============================] - 734s 334ms/step - loss: 5849.3589 - accuracy: 0.9280 - val_loss: 10543.4531 - val_accuracy: 0.8966 - lr: 1.0000e-04\n",
      "Epoch 26/50\n",
      "2196/2196 [==============================] - ETA: 0s - loss: 5910.5557 - accuracy: 0.9278\n",
      "Epoch 26: val_accuracy did not improve from 0.90061\n",
      "2196/2196 [==============================] - 727s 331ms/step - loss: 5910.5557 - accuracy: 0.9278 - val_loss: 11246.4600 - val_accuracy: 0.8954 - lr: 1.0000e-04\n",
      "Epoch 27/50\n",
      "2196/2196 [==============================] - ETA: 0s - loss: 6004.0879 - accuracy: 0.9283Restoring model weights from the end of the best epoch: 17.\n",
      "\n",
      "Epoch 27: val_accuracy did not improve from 0.90061\n",
      "2196/2196 [==============================] - 731s 333ms/step - loss: 6004.0879 - accuracy: 0.9283 - val_loss: 11973.1689 - val_accuracy: 0.8925 - lr: 1.0000e-04\n",
      "Epoch 27: early stopping\n"
     ]
    }
   ],
   "source": [
    "# Training the model on my GPU cores\n",
    "\n",
    "with tf.device('/device:GPU:0'):\n",
    "    history_v3 = model_lenet_v3.fit(train_generator,\n",
    "            steps_per_epoch=train_generator.samples // batch_size,\n",
    "            epochs=50,\n",
    "            validation_data=validation_generator,\n",
    "            validation_steps=validation_generator.samples // batch_size,\n",
    "            callbacks=callbacks)"
   ]
  },
  {
   "cell_type": "code",
   "execution_count": 43,
   "metadata": {},
   "outputs": [
    {
     "data": {
      "image/png": "[encoded data removed]",
      "text/plain": [
       "<Figure size 800x600 with 1 Axes>"
      ]
     },
     "metadata": {},
     "output_type": "display_data"
    }
   ],
   "source": [
    "# Having a look at the training and validation accuracy\n",
    "\n",
    "train_acc = history_v3.history['accuracy']\n",
    "val_acc = history_v3.history['val_accuracy']\n",
    "\n",
    "plt.figure(figsize=(8, 6))\n",
    "plt.plot(np.arange(len(train_acc)), train_acc, c=\"g\", label=\"training\")\n",
    "plt.plot(np.arange(len(val_acc)), val_acc, c=\"r\", label=\"validation\")\n",
    "plt.xlabel(\"Epochs\")\n",
    "plt.ylabel(\"Accuracy\")\n",
    "plt.title(\"LeNet without augmentation\")\n",
    "plt.legend()\n",
    "plt.show()"
   ]
  },
  {
   "cell_type": "markdown",
   "metadata": {},
   "source": [
    "Testing model performance on test set"
   ]
  },
  {
   "cell_type": "code",
   "execution_count": 75,
   "metadata": {},
   "outputs": [],
   "source": [
    "# Load the current best model \n",
    "model_lenet_best = load_model(\"../models/model_lenet_best_accuracy.h5\")\n",
    "\n",
    "# # Define fucntion for loading and preprocessing the test images\n",
    "def load_and_preprocess_image(image_path):\n",
    "    img = load_img(image_path, target_size=(256, 256), color_mode='rgb')\n",
    "    img_array = img_to_array(img)\n",
    "    img_array = img_array.astype('float32') / 255.0\n",
    "    return img_array\n",
    "\n",
    "test_images = []\n",
    "for image_file in os.listdir(test_path):\n",
    "    image_path = os.path.join(test_path, image_file)\n",
    "    img_array = load_and_preprocess_image(image_path)\n",
    "    test_images.append(img_array)\n",
    "\n",
    "test_images = np.array(test_images)"
   ]
  },
  {
   "cell_type": "code",
   "execution_count": 76,
   "metadata": {},
   "outputs": [
    {
     "name": "stdout",
     "output_type": "stream",
     "text": [
      "1/2 [==============>...............] - ETA: 0s"
     ]
    },
    {
     "name": "stderr",
     "output_type": "stream",
     "text": [
      "2024-12-12 14:28:19.520415: I tensorflow/core/grappler/optimizers/custom_graph_optimizer_registry.cc:114] Plugin optimizer for device_type GPU is enabled.\n"
     ]
    },
    {
     "name": "stdout",
     "output_type": "stream",
     "text": [
      "2/2 [==============================] - 0s 116ms/step\n"
     ]
    }
   ],
   "source": [
    "predictions = model_lenet_best.predict(test_images)\n",
    "predicted_classes = np.argmax(predictions, axis=1)\n",
    "\n",
    "class_indices = train_generator.class_indices\n",
    "class_names = {v: k for k, v in class_indices.items()}\n",
    "predicted_classes_names = [class_names[idx] for idx in predicted_classes]"
   ]
  },
  {
   "cell_type": "code",
   "execution_count": 78,
   "metadata": {},
   "outputs": [
    {
     "name": "stdout",
     "output_type": "stream",
     "text": [
      "Prediction: Corn_(maize)___Cercospora_leaf_spot Gray_leaf_spot \t True class: AppleScab3.JPG\n",
      "Prediction: Tomato___Late_blight \t True class: TomatoEarlyBlight2.JPG\n",
      "Prediction: Tomato___Tomato_Yellow_Leaf_Curl_Virus \t True class: TomatoEarlyBlight3.JPG\n",
      "Prediction: Potato___healthy \t True class: PotatoHealthy1.JPG\n",
      "Prediction: Apple___Apple_scab \t True class: AppleScab2.JPG\n",
      "Prediction: Tomato___Early_blight \t True class: TomatoEarlyBlight1.JPG\n",
      "Prediction: Potato___Late_blight \t True class: PotatoHealthy2.JPG\n",
      "Prediction: Apple___Cedar_apple_rust \t True class: AppleScab1.JPG\n",
      "Prediction: Tomato___Bacterial_spot \t True class: TomatoEarlyBlight4.JPG\n",
      "Prediction: Tomato___Early_blight \t True class: TomatoEarlyBlight5.JPG\n",
      "Prediction: Tomato___Spider_mites Two-spotted_spider_mite \t True class: TomatoEarlyBlight6.JPG\n",
      "Prediction: Potato___Early_blight \t True class: PotatoEarlyBlight4.JPG\n",
      "Prediction: Potato___Early_blight \t True class: PotatoEarlyBlight5.JPG\n",
      "Prediction: Potato___Early_blight \t True class: PotatoEarlyBlight2.JPG\n",
      "Prediction: Potato___healthy \t True class: PotatoEarlyBlight3.JPG\n",
      "Prediction: Potato___Early_blight \t True class: PotatoEarlyBlight1.JPG\n",
      "Prediction: Tomato___Tomato_Yellow_Leaf_Curl_Virus \t True class: TomatoYellowCurlVirus2.JPG\n",
      "Prediction: Tomato___Early_blight \t True class: TomatoYellowCurlVirus3.JPG\n",
      "Prediction: Tomato___Tomato_Yellow_Leaf_Curl_Virus \t True class: TomatoYellowCurlVirus1.JPG\n",
      "Prediction: Tomato___healthy \t True class: TomatoHealthy4.JPG\n",
      "Prediction: Tomato___Tomato_Yellow_Leaf_Curl_Virus \t True class: TomatoYellowCurlVirus4.JPG\n",
      "Prediction: Tomato___healthy \t True class: TomatoHealthy1.JPG\n",
      "Prediction: Tomato___Tomato_Yellow_Leaf_Curl_Virus \t True class: TomatoYellowCurlVirus5.JPG\n",
      "Prediction: Tomato___Target_Spot \t True class: TomatoHealthy3.JPG\n",
      "Prediction: Tomato___Target_Spot \t True class: TomatoHealthy2.JPG\n",
      "Prediction: Tomato___Tomato_Yellow_Leaf_Curl_Virus \t True class: TomatoYellowCurlVirus6.JPG\n",
      "Prediction: Apple___Cedar_apple_rust \t True class: AppleCedarRust2.JPG\n",
      "Prediction: Corn_(maize)___Common_rust_ \t True class: CornCommonRust1.JPG\n",
      "Prediction: Apple___Cedar_apple_rust \t True class: AppleCedarRust3.JPG\n",
      "Prediction: Apple___Cedar_apple_rust \t True class: AppleCedarRust1.JPG\n",
      "Prediction: Corn_(maize)___Common_rust_ \t True class: CornCommonRust2.JPG\n",
      "Prediction: Corn_(maize)___Common_rust_ \t True class: CornCommonRust3.JPG\n",
      "Prediction: Apple___Cedar_apple_rust \t True class: AppleCedarRust4.JPG\n"
     ]
    }
   ],
   "source": [
    "for prediction, true_class in zip(predicted_classes_names, os.listdir(test_path)):\n",
    "    print(\"Prediction:\", prediction, \"\\t True class:\", true_class)"
   ]
  },
  {
   "cell_type": "code",
   "execution_count": 79,
   "metadata": {},
   "outputs": [
    {
     "data": {
      "text/html": [
       "<div>\n",
       "<style scoped>\n",
       "    .dataframe tbody tr th:only-of-type {\n",
       "        vertical-align: middle;\n",
       "    }\n",
       "\n",
       "    .dataframe tbody tr th {\n",
       "        vertical-align: top;\n",
       "    }\n",
       "\n",
       "    .dataframe thead th {\n",
       "        text-align: right;\n",
       "    }\n",
       "</style>\n",
       "<table border=\"1\" class=\"dataframe\">\n",
       "  <thead>\n",
       "    <tr style=\"text-align: right;\">\n",
       "      <th></th>\n",
       "      <th>Predictions</th>\n",
       "      <th>True_classes</th>\n",
       "      <th>Correct</th>\n",
       "    </tr>\n",
       "  </thead>\n",
       "  <tbody>\n",
       "    <tr>\n",
       "      <th>0</th>\n",
       "      <td>Corn_(maize)___Cercospora_leaf_spot Gray_leaf_...</td>\n",
       "      <td>AppleScab3.JPG</td>\n",
       "      <td>0</td>\n",
       "    </tr>\n",
       "    <tr>\n",
       "      <th>1</th>\n",
       "      <td>Tomato___Late_blight</td>\n",
       "      <td>TomatoEarlyBlight2.JPG</td>\n",
       "      <td>0</td>\n",
       "    </tr>\n",
       "    <tr>\n",
       "      <th>2</th>\n",
       "      <td>Tomato___Tomato_Yellow_Leaf_Curl_Virus</td>\n",
       "      <td>TomatoEarlyBlight3.JPG</td>\n",
       "      <td>0</td>\n",
       "    </tr>\n",
       "    <tr>\n",
       "      <th>3</th>\n",
       "      <td>Potato___healthy</td>\n",
       "      <td>PotatoHealthy1.JPG</td>\n",
       "      <td>1</td>\n",
       "    </tr>\n",
       "    <tr>\n",
       "      <th>4</th>\n",
       "      <td>Apple___Apple_scab</td>\n",
       "      <td>AppleScab2.JPG</td>\n",
       "      <td>1</td>\n",
       "    </tr>\n",
       "    <tr>\n",
       "      <th>5</th>\n",
       "      <td>Tomato___Early_blight</td>\n",
       "      <td>TomatoEarlyBlight1.JPG</td>\n",
       "      <td>1</td>\n",
       "    </tr>\n",
       "    <tr>\n",
       "      <th>6</th>\n",
       "      <td>Potato___Late_blight</td>\n",
       "      <td>PotatoHealthy2.JPG</td>\n",
       "      <td>0</td>\n",
       "    </tr>\n",
       "    <tr>\n",
       "      <th>7</th>\n",
       "      <td>Apple___Cedar_apple_rust</td>\n",
       "      <td>AppleScab1.JPG</td>\n",
       "      <td>0</td>\n",
       "    </tr>\n",
       "    <tr>\n",
       "      <th>8</th>\n",
       "      <td>Tomato___Bacterial_spot</td>\n",
       "      <td>TomatoEarlyBlight4.JPG</td>\n",
       "      <td>0</td>\n",
       "    </tr>\n",
       "    <tr>\n",
       "      <th>9</th>\n",
       "      <td>Tomato___Early_blight</td>\n",
       "      <td>TomatoEarlyBlight5.JPG</td>\n",
       "      <td>1</td>\n",
       "    </tr>\n",
       "    <tr>\n",
       "      <th>10</th>\n",
       "      <td>Tomato___Spider_mites Two-spotted_spider_mite</td>\n",
       "      <td>TomatoEarlyBlight6.JPG</td>\n",
       "      <td>0</td>\n",
       "    </tr>\n",
       "    <tr>\n",
       "      <th>11</th>\n",
       "      <td>Potato___Early_blight</td>\n",
       "      <td>PotatoEarlyBlight4.JPG</td>\n",
       "      <td>1</td>\n",
       "    </tr>\n",
       "    <tr>\n",
       "      <th>12</th>\n",
       "      <td>Potato___Early_blight</td>\n",
       "      <td>PotatoEarlyBlight5.JPG</td>\n",
       "      <td>1</td>\n",
       "    </tr>\n",
       "    <tr>\n",
       "      <th>13</th>\n",
       "      <td>Potato___Early_blight</td>\n",
       "      <td>PotatoEarlyBlight2.JPG</td>\n",
       "      <td>1</td>\n",
       "    </tr>\n",
       "    <tr>\n",
       "      <th>14</th>\n",
       "      <td>Potato___healthy</td>\n",
       "      <td>PotatoEarlyBlight3.JPG</td>\n",
       "      <td>0</td>\n",
       "    </tr>\n",
       "    <tr>\n",
       "      <th>15</th>\n",
       "      <td>Potato___Early_blight</td>\n",
       "      <td>PotatoEarlyBlight1.JPG</td>\n",
       "      <td>1</td>\n",
       "    </tr>\n",
       "    <tr>\n",
       "      <th>16</th>\n",
       "      <td>Tomato___Tomato_Yellow_Leaf_Curl_Virus</td>\n",
       "      <td>TomatoYellowCurlVirus2.JPG</td>\n",
       "      <td>1</td>\n",
       "    </tr>\n",
       "    <tr>\n",
       "      <th>17</th>\n",
       "      <td>Tomato___Early_blight</td>\n",
       "      <td>TomatoYellowCurlVirus3.JPG</td>\n",
       "      <td>0</td>\n",
       "    </tr>\n",
       "    <tr>\n",
       "      <th>18</th>\n",
       "      <td>Tomato___Tomato_Yellow_Leaf_Curl_Virus</td>\n",
       "      <td>TomatoYellowCurlVirus1.JPG</td>\n",
       "      <td>1</td>\n",
       "    </tr>\n",
       "    <tr>\n",
       "      <th>19</th>\n",
       "      <td>Tomato___healthy</td>\n",
       "      <td>TomatoHealthy4.JPG</td>\n",
       "      <td>1</td>\n",
       "    </tr>\n",
       "    <tr>\n",
       "      <th>20</th>\n",
       "      <td>Tomato___Tomato_Yellow_Leaf_Curl_Virus</td>\n",
       "      <td>TomatoYellowCurlVirus4.JPG</td>\n",
       "      <td>1</td>\n",
       "    </tr>\n",
       "    <tr>\n",
       "      <th>21</th>\n",
       "      <td>Tomato___healthy</td>\n",
       "      <td>TomatoHealthy1.JPG</td>\n",
       "      <td>1</td>\n",
       "    </tr>\n",
       "    <tr>\n",
       "      <th>22</th>\n",
       "      <td>Tomato___Tomato_Yellow_Leaf_Curl_Virus</td>\n",
       "      <td>TomatoYellowCurlVirus5.JPG</td>\n",
       "      <td>1</td>\n",
       "    </tr>\n",
       "    <tr>\n",
       "      <th>23</th>\n",
       "      <td>Tomato___Target_Spot</td>\n",
       "      <td>TomatoHealthy3.JPG</td>\n",
       "      <td>0</td>\n",
       "    </tr>\n",
       "    <tr>\n",
       "      <th>24</th>\n",
       "      <td>Tomato___Target_Spot</td>\n",
       "      <td>TomatoHealthy2.JPG</td>\n",
       "      <td>0</td>\n",
       "    </tr>\n",
       "    <tr>\n",
       "      <th>25</th>\n",
       "      <td>Tomato___Tomato_Yellow_Leaf_Curl_Virus</td>\n",
       "      <td>TomatoYellowCurlVirus6.JPG</td>\n",
       "      <td>1</td>\n",
       "    </tr>\n",
       "    <tr>\n",
       "      <th>26</th>\n",
       "      <td>Apple___Cedar_apple_rust</td>\n",
       "      <td>AppleCedarRust2.JPG</td>\n",
       "      <td>1</td>\n",
       "    </tr>\n",
       "    <tr>\n",
       "      <th>27</th>\n",
       "      <td>Corn_(maize)___Common_rust_</td>\n",
       "      <td>CornCommonRust1.JPG</td>\n",
       "      <td>1</td>\n",
       "    </tr>\n",
       "    <tr>\n",
       "      <th>28</th>\n",
       "      <td>Apple___Cedar_apple_rust</td>\n",
       "      <td>AppleCedarRust3.JPG</td>\n",
       "      <td>1</td>\n",
       "    </tr>\n",
       "    <tr>\n",
       "      <th>29</th>\n",
       "      <td>Apple___Cedar_apple_rust</td>\n",
       "      <td>AppleCedarRust1.JPG</td>\n",
       "      <td>1</td>\n",
       "    </tr>\n",
       "    <tr>\n",
       "      <th>30</th>\n",
       "      <td>Corn_(maize)___Common_rust_</td>\n",
       "      <td>CornCommonRust2.JPG</td>\n",
       "      <td>1</td>\n",
       "    </tr>\n",
       "    <tr>\n",
       "      <th>31</th>\n",
       "      <td>Corn_(maize)___Common_rust_</td>\n",
       "      <td>CornCommonRust3.JPG</td>\n",
       "      <td>1</td>\n",
       "    </tr>\n",
       "    <tr>\n",
       "      <th>32</th>\n",
       "      <td>Apple___Cedar_apple_rust</td>\n",
       "      <td>AppleCedarRust4.JPG</td>\n",
       "      <td>1</td>\n",
       "    </tr>\n",
       "  </tbody>\n",
       "</table>\n",
       "</div>"
      ],
      "text/plain": [
       "                                          Predictions  \\\n",
       "0   Corn_(maize)___Cercospora_leaf_spot Gray_leaf_...   \n",
       "1                                Tomato___Late_blight   \n",
       "2              Tomato___Tomato_Yellow_Leaf_Curl_Virus   \n",
       "3                                    Potato___healthy   \n",
       "4                                  Apple___Apple_scab   \n",
       "5                               Tomato___Early_blight   \n",
       "6                                Potato___Late_blight   \n",
       "7                            Apple___Cedar_apple_rust   \n",
       "8                             Tomato___Bacterial_spot   \n",
       "9                               Tomato___Early_blight   \n",
       "10      Tomato___Spider_mites Two-spotted_spider_mite   \n",
       "11                              Potato___Early_blight   \n",
       "12                              Potato___Early_blight   \n",
       "13                              Potato___Early_blight   \n",
       "14                                   Potato___healthy   \n",
       "15                              Potato___Early_blight   \n",
       "16             Tomato___Tomato_Yellow_Leaf_Curl_Virus   \n",
       "17                              Tomato___Early_blight   \n",
       "18             Tomato___Tomato_Yellow_Leaf_Curl_Virus   \n",
       "19                                   Tomato___healthy   \n",
       "20             Tomato___Tomato_Yellow_Leaf_Curl_Virus   \n",
       "21                                   Tomato___healthy   \n",
       "22             Tomato___Tomato_Yellow_Leaf_Curl_Virus   \n",
       "23                               Tomato___Target_Spot   \n",
       "24                               Tomato___Target_Spot   \n",
       "25             Tomato___Tomato_Yellow_Leaf_Curl_Virus   \n",
       "26                           Apple___Cedar_apple_rust   \n",
       "27                        Corn_(maize)___Common_rust_   \n",
       "28                           Apple___Cedar_apple_rust   \n",
       "29                           Apple___Cedar_apple_rust   \n",
       "30                        Corn_(maize)___Common_rust_   \n",
       "31                        Corn_(maize)___Common_rust_   \n",
       "32                           Apple___Cedar_apple_rust   \n",
       "\n",
       "                  True_classes  Correct  \n",
       "0               AppleScab3.JPG        0  \n",
       "1       TomatoEarlyBlight2.JPG        0  \n",
       "2       TomatoEarlyBlight3.JPG        0  \n",
       "3           PotatoHealthy1.JPG        1  \n",
       "4               AppleScab2.JPG        1  \n",
       "5       TomatoEarlyBlight1.JPG        1  \n",
       "6           PotatoHealthy2.JPG        0  \n",
       "7               AppleScab1.JPG        0  \n",
       "8       TomatoEarlyBlight4.JPG        0  \n",
       "9       TomatoEarlyBlight5.JPG        1  \n",
       "10      TomatoEarlyBlight6.JPG        0  \n",
       "11      PotatoEarlyBlight4.JPG        1  \n",
       "12      PotatoEarlyBlight5.JPG        1  \n",
       "13      PotatoEarlyBlight2.JPG        1  \n",
       "14      PotatoEarlyBlight3.JPG        0  \n",
       "15      PotatoEarlyBlight1.JPG        1  \n",
       "16  TomatoYellowCurlVirus2.JPG        1  \n",
       "17  TomatoYellowCurlVirus3.JPG        0  \n",
       "18  TomatoYellowCurlVirus1.JPG        1  \n",
       "19          TomatoHealthy4.JPG        1  \n",
       "20  TomatoYellowCurlVirus4.JPG        1  \n",
       "21          TomatoHealthy1.JPG        1  \n",
       "22  TomatoYellowCurlVirus5.JPG        1  \n",
       "23          TomatoHealthy3.JPG        0  \n",
       "24          TomatoHealthy2.JPG        0  \n",
       "25  TomatoYellowCurlVirus6.JPG        1  \n",
       "26         AppleCedarRust2.JPG        1  \n",
       "27         CornCommonRust1.JPG        1  \n",
       "28         AppleCedarRust3.JPG        1  \n",
       "29         AppleCedarRust1.JPG        1  \n",
       "30         CornCommonRust2.JPG        1  \n",
       "31         CornCommonRust3.JPG        1  \n",
       "32         AppleCedarRust4.JPG        1  "
      ]
     },
     "metadata": {},
     "output_type": "display_data"
    }
   ],
   "source": [
    "test_comparison = pd.DataFrame({\n",
    "    \"Predictions\": predicted_classes_names,\n",
    "    \"True_classes\": os.listdir(test_path)\n",
    "})\n",
    "\n",
    "test_comparison[\"Correct\"] = [0, 0, 0, 1, 1, 1, 0, 0, 0, 1, 0, 1, 1, 1, 0, 1, 1, 0, 1, 1, 1, 1, 1, 0, 0, 1, 1, 1, 1, 1, 1, 1, 1]\n",
    "\n",
    "display(test_comparison)\n",
    "\n"
   ]
  },
  {
   "cell_type": "code",
   "execution_count": 80,
   "metadata": {},
   "outputs": [
    {
     "data": {
      "text/plain": [
       "Correct\n",
       "1    0.666667\n",
       "0    0.333333\n",
       "Name: proportion, dtype: float64"
      ]
     },
     "execution_count": 80,
     "metadata": {},
     "output_type": "execute_result"
    }
   ],
   "source": [
    "test_comparison[\"Correct\"].value_counts(normalize=True)"
   ]
  }
 ],
 "metadata": {
  "kernelspec": {
   "display_name": "keras_env",
   "language": "python",
   "name": "python3"
  },
  "language_info": {
   "codemirror_mode": {
    "name": "ipython",
    "version": 3
   },
   "file_extension": ".py",
   "mimetype": "text/x-python",
   "name": "python",
   "nbconvert_exporter": "python",
   "pygments_lexer": "ipython3",
   "version": "3.8.13"
  }
 },
 "nbformat": 4,
 "nbformat_minor": 2
}
